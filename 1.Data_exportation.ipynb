{
 "cells": [
  {
   "cell_type": "markdown",
   "id": "66bf9506",
   "metadata": {},
   "source": [
    "# Selective Logging Detection with Deep Learning and GEE"
   ]
  },
  {
   "cell_type": "markdown",
   "id": "d0661392",
   "metadata": {},
   "source": [
    "## Exportación de Datos"
   ]
  },
  {
   "cell_type": "markdown",
   "id": "1cf8d60b",
   "metadata": {},
   "source": [
    "## Contenido\n",
    "\n",
    "1. [Definiciones y contexto](#1.-Definiciones-y-contexto)\n",
    "2. [Exploración de datos](#2.-Exploración-de-datos)\n",
    "3. [Procesamiento de la imagen](#3.-Procesamiento-de-la-imagen)  \n",
    "    3.1 [Índices espectrales](#3.1-Índices-espectrales)  \n",
    "    3.2 [Escalamiento (Normalización)](#3.2-Escalamiento-(Normalización))  \n",
    "    3.3 [Asignar un valor numérico a la clase](#3.3-Asignar-un-valor-numérico-a-la-clase)  \n",
    "    3.4 [Crear la banda \"clase\" de la imagen](#3.4-Crear-la-banda-\"clase\"-de-la-imagen)  \n",
    "    3.5 [Transformación de la imagen ](#3.5-Transformación-de-la-imagen)  \n",
    "4. [Exportación de los datos](#4.-Exportación-de-los-datos)"
   ]
  },
  {
   "cell_type": "markdown",
   "id": "d5246c90",
   "metadata": {},
   "source": [
    "---"
   ]
  },
  {
   "cell_type": "markdown",
   "id": "85035b1e",
   "metadata": {},
   "source": [
    "## 1. Definiciones y contexto"
   ]
  },
  {
   "cell_type": "markdown",
   "id": "c3d39e1a",
   "metadata": {},
   "source": [
    "La tala selectiva es la cosecha de **árboles maderables valiosos**. Detectar esta actividad es complicado, debido a la naturaleza de ésta. Ya que, a diferencia de la deforestación, las áreas de pérdida de bosque dejadas por esta actividad muchas veces no son detectables usando los sensores tradicionales de resolución media, como Landsat o Sentinel-2. \n",
    "\n",
    "Es por ello que las imágenes satelitales de muy alta resolución como Skysat (0.5 m) nos permiten detectar con mayor exactitud esta actividad.\n",
    "\n",
    "<img src=\"./pictures/Tala_A.jpg\" width=800 alt=\"Imagen de tala\">\n",
    "\n",
    "La tala selectiva muchas veces se encuentra asociada a **infraestructuras**, como caminos forestales, patios de acopio de trozas de madera, campamentos madereros, entre otros. La identificación de estas infraestructuras facilita la detección de las actividades de tala selectiva.\n",
    "\n",
    "<img src=\"./pictures/Tala_B.jpg\" width=800 alt=\"Imagen de infraestructuras\">\n",
    "\n",
    "Algunas de las infraestructuras asociadas a la tala selectiva son sencillas de detectar, como los caminos forestales, sin embargo otras son más complejas, como los campamentos forestales."
   ]
  },
  {
   "cell_type": "markdown",
   "id": "b0eb08ae",
   "metadata": {},
   "source": [
    "[Volver al contenido](#Contenido)"
   ]
  },
  {
   "cell_type": "markdown",
   "id": "65a37b89",
   "metadata": {},
   "source": [
    "---"
   ]
  },
  {
   "cell_type": "markdown",
   "id": "95289fc6",
   "metadata": {},
   "source": [
    "## 2. Exploración de datos"
   ]
  },
  {
   "cell_type": "markdown",
   "id": "2bcab06e",
   "metadata": {},
   "source": [
    "Primero importaremos la [librería oficial](https://developers.google.com/earth-engine/guides/python_install) de Earth Engine en **Python** para la visualización de datos y su procesamiento utilizando `import`."
   ]
  },
  {
   "cell_type": "code",
   "execution_count": 4,
   "id": "caa6e14e",
   "metadata": {},
   "outputs": [],
   "source": [
    "import ee"
   ]
  },
  {
   "cell_type": "markdown",
   "id": "ab7b8bb6",
   "metadata": {},
   "source": [
    "Debido a que el API EarthEngine requiere de una cuenta personal, procederemos a autenticar nuestra cuenta y a inicializar EarthEngine.  \n",
    "Al correr la siguiente celda aparecerá un enlace, donde debemos generar un token y permitir a EarthEngine a que acceda a nuestro notebook.  \n",
    "Debemos copiar y pegar el código de autorización."
   ]
  },
  {
   "cell_type": "code",
   "execution_count": 5,
   "id": "76e6cd26",
   "metadata": {},
   "outputs": [
    {
     "data": {
      "text/html": [
       "<p>To authorize access needed by Earth Engine, open the following\n",
       "        URL in a web browser and follow the instructions:</p>\n",
       "        <p><a href=https://code.earthengine.google.com/client-auth?scopes=https%3A//www.googleapis.com/auth/earthengine%20https%3A//www.googleapis.com/auth/devstorage.full_control&request_id=WB5MBioolSFNaHSAQcP-HMr8AL4_sd6XPtKgPnjavt8&tc=YiHsaEX642HWbl-c8EtqGKC8OkKDV0X6f1Ez_qNSfGw&cc=uIKvm1E3e1mYd_HdjbuZMiMC3ELXojpPoeV1JrGZGIE>https://code.earthengine.google.com/client-auth?scopes=https%3A//www.googleapis.com/auth/earthengine%20https%3A//www.googleapis.com/auth/devstorage.full_control&request_id=WB5MBioolSFNaHSAQcP-HMr8AL4_sd6XPtKgPnjavt8&tc=YiHsaEX642HWbl-c8EtqGKC8OkKDV0X6f1Ez_qNSfGw&cc=uIKvm1E3e1mYd_HdjbuZMiMC3ELXojpPoeV1JrGZGIE</a></p>\n",
       "        <p>The authorization workflow will generate a code, which you should paste in the box below.</p>\n",
       "        "
      ],
      "text/plain": [
       "<IPython.core.display.HTML object>"
      ]
     },
     "metadata": {},
     "output_type": "display_data"
    },
    {
     "name": "stdout",
     "output_type": "stream",
     "text": [
      "Enter verification code: 4/1AWtgzh5_58TCyA3WcLIcUvV4uoXtSCv2w3rvT_4_4SLviHeVuXUKjuYxam0\n",
      "\n",
      "Successfully saved authorization token.\n"
     ]
    }
   ],
   "source": [
    "ee.Authenticate()\n",
    "ee.Initialize()"
   ]
  },
  {
   "attachments": {},
   "cell_type": "markdown",
   "id": "659a3426",
   "metadata": {},
   "source": [
    "Debemos verificar también si poseemos acceso al Google Cloud Storage. Con la siguiente función autorizamos a Google Colab a que acceda a la nube de Google."
   ]
  },
  {
   "cell_type": "code",
   "execution_count": null,
   "id": "512a9b85",
   "metadata": {},
   "outputs": [],
   "source": [
    "from google.colab import auth\n",
    "auth.authenticate_user()"
   ]
  },
  {
   "attachments": {},
   "cell_type": "markdown",
   "id": "7385afab",
   "metadata": {},
   "source": [
    "Definiremos por defecto nuestro proyecto y veremos la lista de elementos dentro."
   ]
  },
  {
   "cell_type": "code",
   "execution_count": 96,
   "id": "02ad89fd",
   "metadata": {},
   "outputs": [
    {
     "name": "stderr",
     "output_type": "stream",
     "text": [
      "Updated property [core/project].\n"
     ]
    },
    {
     "name": "stdout",
     "output_type": "stream",
     "text": [
      "gs://logging-dataset/\n",
      "gs://logging-roads-dataset/\n",
      "gs://mining-infrastructure-dataset/\n",
      "gs://modis-suomi/\n",
      "gs://nicfi/\n",
      "gs://rtc-asf/\n",
      "gs://s5p/\n",
      "gs://skysat-acca/\n"
     ]
    }
   ],
   "source": [
    "project_id = 'deeplearning-306718'\n",
    "!gcloud config set project {project_id}\n",
    "!gsutil ls"
   ]
  },
  {
   "cell_type": "markdown",
   "id": "7bf9d484",
   "metadata": {},
   "source": [
    "Por último importaremos otra librería importante llamada [Geemap](https://geemap.org/), que nos permitirá visualizar los datos utilizando [folium](https://python-visualization.github.io/folium/).  En caso no tenemos **geemap**, podemos descargarlo usando el comando `!pip install`"
   ]
  },
  {
   "cell_type": "code",
   "execution_count": 11,
   "id": "2f2b82ac",
   "metadata": {},
   "outputs": [],
   "source": [
    "#!pip install geemap\n",
    "import geemap.foliumap as geemap"
   ]
  },
  {
   "cell_type": "markdown",
   "id": "eb37271e",
   "metadata": {},
   "source": [
    "Utilizando el API de Earth Engine podemos visualizar los datos utilizando python y geemap. Cargaremos una imagen satelital de SkySat de muy alta resolución (0.5 m), así como los datos de entrenamiento recolectados."
   ]
  },
  {
   "cell_type": "code",
   "execution_count": 61,
   "id": "757768bc",
   "metadata": {},
   "outputs": [],
   "source": [
    "img = ee.Image('projects/ACCA-SERVIR/Colaboraton/Skysat_Fatima')\n",
    "pols = ee.FeatureCollection('projects/ACCA-SERVIR/Colaboraton/Skysat_Fatima_pols')"
   ]
  },
  {
   "cell_type": "code",
   "execution_count": 62,
   "id": "f262ca1c",
   "metadata": {
    "scrolled": true
   },
   "outputs": [
    {
     "data": {
      "text/html": [
       "<iframe srcdoc=\"&lt;!DOCTYPE html&gt;\n",
       "&lt;html&gt;\n",
       "&lt;head&gt;\n",
       "    \n",
       "    &lt;meta http-equiv=&quot;content-type&quot; content=&quot;text/html; charset=UTF-8&quot; /&gt;\n",
       "    \n",
       "        &lt;script&gt;\n",
       "            L_NO_TOUCH = false;\n",
       "            L_DISABLE_3D = false;\n",
       "        &lt;/script&gt;\n",
       "    \n",
       "    &lt;style&gt;html, body {width: 100%;height: 100%;margin: 0;padding: 0;}&lt;/style&gt;\n",
       "    &lt;style&gt;#map {position:absolute;top:0;bottom:0;right:0;left:0;}&lt;/style&gt;\n",
       "    &lt;script src=&quot;https://cdn.jsdelivr.net/npm/leaflet@1.9.3/dist/leaflet.js&quot;&gt;&lt;/script&gt;\n",
       "    &lt;script src=&quot;https://code.jquery.com/jquery-1.12.4.min.js&quot;&gt;&lt;/script&gt;\n",
       "    &lt;script src=&quot;https://cdn.jsdelivr.net/npm/bootstrap@5.2.2/dist/js/bootstrap.bundle.min.js&quot;&gt;&lt;/script&gt;\n",
       "    &lt;script src=&quot;https://cdnjs.cloudflare.com/ajax/libs/Leaflet.awesome-markers/2.0.2/leaflet.awesome-markers.js&quot;&gt;&lt;/script&gt;\n",
       "    &lt;link rel=&quot;stylesheet&quot; href=&quot;https://cdn.jsdelivr.net/npm/leaflet@1.9.3/dist/leaflet.css&quot;/&gt;\n",
       "    &lt;link rel=&quot;stylesheet&quot; href=&quot;https://cdn.jsdelivr.net/npm/bootstrap@5.2.2/dist/css/bootstrap.min.css&quot;/&gt;\n",
       "    &lt;link rel=&quot;stylesheet&quot; href=&quot;https://netdna.bootstrapcdn.com/bootstrap/3.0.0/css/bootstrap.min.css&quot;/&gt;\n",
       "    &lt;link rel=&quot;stylesheet&quot; href=&quot;https://cdn.jsdelivr.net/npm/@fortawesome/fontawesome-free@6.2.0/css/all.min.css&quot;/&gt;\n",
       "    &lt;link rel=&quot;stylesheet&quot; href=&quot;https://cdnjs.cloudflare.com/ajax/libs/Leaflet.awesome-markers/2.0.2/leaflet.awesome-markers.css&quot;/&gt;\n",
       "    &lt;link rel=&quot;stylesheet&quot; href=&quot;https://cdn.jsdelivr.net/gh/python-visualization/folium/folium/templates/leaflet.awesome.rotate.min.css&quot;/&gt;\n",
       "    \n",
       "            &lt;meta name=&quot;viewport&quot; content=&quot;width=device-width,\n",
       "                initial-scale=1.0, maximum-scale=1.0, user-scalable=no&quot; /&gt;\n",
       "            &lt;style&gt;\n",
       "                #map_f394c2ac053d66ab08299285f4599801 {\n",
       "                    position: relative;\n",
       "                    width: 100.0%;\n",
       "                    height: 100.0%;\n",
       "                    left: 0.0%;\n",
       "                    top: 0.0%;\n",
       "                }\n",
       "                .leaflet-container { font-size: 1rem; }\n",
       "            &lt;/style&gt;\n",
       "        \n",
       "    &lt;script src=&quot;https://cdnjs.cloudflare.com/ajax/libs/leaflet.fullscreen/1.4.2/Control.FullScreen.min.js&quot;&gt;&lt;/script&gt;\n",
       "    &lt;link rel=&quot;stylesheet&quot; href=&quot;https://cdnjs.cloudflare.com/ajax/libs/leaflet.fullscreen/1.4.2/Control.FullScreen.min.css&quot;/&gt;\n",
       "    &lt;script src=&quot;https://cdnjs.cloudflare.com/ajax/libs/leaflet.draw/1.0.2/leaflet.draw.js&quot;&gt;&lt;/script&gt;\n",
       "    &lt;link rel=&quot;stylesheet&quot; href=&quot;https://cdnjs.cloudflare.com/ajax/libs/leaflet.draw/1.0.2/leaflet.draw.css&quot;/&gt;\n",
       "    &lt;script src=&quot;https://unpkg.com/leaflet-control-geocoder/dist/Control.Geocoder.js&quot;&gt;&lt;/script&gt;\n",
       "    &lt;link rel=&quot;stylesheet&quot; href=&quot;https://unpkg.com/leaflet-control-geocoder/dist/Control.Geocoder.css&quot;/&gt;\n",
       "&lt;/head&gt;\n",
       "&lt;body&gt;\n",
       "    \n",
       "    \n",
       "            &lt;div class=&quot;folium-map&quot; id=&quot;map_f394c2ac053d66ab08299285f4599801&quot; &gt;&lt;/div&gt;\n",
       "        \n",
       "&lt;/body&gt;\n",
       "&lt;script&gt;\n",
       "    \n",
       "    \n",
       "            var map_f394c2ac053d66ab08299285f4599801 = L.map(\n",
       "                &quot;map_f394c2ac053d66ab08299285f4599801&quot;,\n",
       "                {\n",
       "                    center: [-9.653, -74.198],\n",
       "                    crs: L.CRS.EPSG3857,\n",
       "                    zoom: 15,\n",
       "                    zoomControl: true,\n",
       "                    preferCanvas: false,\n",
       "                    eeInitialize: true,\n",
       "                    addGoogleMap: true,\n",
       "                    pluginLatlngpopup: false,\n",
       "                    pluginFullscreen: true,\n",
       "                    pluginDraw: true,\n",
       "                    DrawExport: false,\n",
       "                    pluginMinimap: false,\n",
       "                    locateControl: false,\n",
       "                    searchControl: true,\n",
       "                    layersControl: true,\n",
       "                }\n",
       "            );\n",
       "\n",
       "            \n",
       "\n",
       "        \n",
       "    \n",
       "            var tile_layer_2d3b2edbcebe8231e3dc302d5d558c3d = L.tileLayer(\n",
       "                &quot;https://{s}.tile.openstreetmap.org/{z}/{x}/{y}.png&quot;,\n",
       "                {&quot;attribution&quot;: &quot;Data by \\u0026copy; \\u003ca target=\\&quot;_blank\\&quot; href=\\&quot;http://openstreetmap.org\\&quot;\\u003eOpenStreetMap\\u003c/a\\u003e, under \\u003ca target=\\&quot;_blank\\&quot; href=\\&quot;http://www.openstreetmap.org/copyright\\&quot;\\u003eODbL\\u003c/a\\u003e.&quot;, &quot;detectRetina&quot;: false, &quot;maxNativeZoom&quot;: 30, &quot;maxZoom&quot;: 30, &quot;minZoom&quot;: 0, &quot;noWrap&quot;: false, &quot;opacity&quot;: 1, &quot;subdomains&quot;: &quot;abc&quot;, &quot;tms&quot;: false}\n",
       "            ).addTo(map_f394c2ac053d66ab08299285f4599801);\n",
       "        \n",
       "    \n",
       "            var tile_layer_2f8174695319b2661b20c53fc9f6f78e = L.tileLayer(\n",
       "                &quot;https://mt1.google.com/vt/lyrs=m\\u0026x={x}\\u0026y={y}\\u0026z={z}&quot;,\n",
       "                {&quot;attribution&quot;: &quot;Google&quot;, &quot;detectRetina&quot;: false, &quot;maxNativeZoom&quot;: 22, &quot;maxZoom&quot;: 22, &quot;minZoom&quot;: 0, &quot;noWrap&quot;: false, &quot;opacity&quot;: 1, &quot;subdomains&quot;: &quot;abc&quot;, &quot;tms&quot;: false}\n",
       "            ).addTo(map_f394c2ac053d66ab08299285f4599801);\n",
       "        \n",
       "    \n",
       "            L.control.fullscreen(\n",
       "                {&quot;forceSeparateButton&quot;: false, &quot;position&quot;: &quot;topleft&quot;, &quot;title&quot;: &quot;Full Screen&quot;, &quot;titleCancel&quot;: &quot;Exit Full Screen&quot;}\n",
       "            ).addTo(map_f394c2ac053d66ab08299285f4599801);\n",
       "        \n",
       "    \n",
       "            var options = {\n",
       "              position: &quot;topleft&quot;,\n",
       "              draw: {},\n",
       "              edit: {},\n",
       "            }\n",
       "            // FeatureGroup is to store editable layers.\n",
       "            var drawnItems = new L.featureGroup().addTo(\n",
       "                map_f394c2ac053d66ab08299285f4599801\n",
       "            );\n",
       "            options.edit.featureGroup = drawnItems;\n",
       "            var draw_control_dee416b3c7e0904ce65f1c5d4ad26c9e = new L.Control.Draw(\n",
       "                options\n",
       "            ).addTo( map_f394c2ac053d66ab08299285f4599801 );\n",
       "            map_f394c2ac053d66ab08299285f4599801.on(L.Draw.Event.CREATED, function(e) {\n",
       "                var layer = e.layer,\n",
       "                    type = e.layerType;\n",
       "                var coords = JSON.stringify(layer.toGeoJSON());\n",
       "                layer.on(&#x27;click&#x27;, function() {\n",
       "                    alert(coords);\n",
       "                    console.log(coords);\n",
       "                });\n",
       "                drawnItems.addLayer(layer);\n",
       "             });\n",
       "            map_f394c2ac053d66ab08299285f4599801.on(&#x27;draw:created&#x27;, function(e) {\n",
       "                drawnItems.addLayer(e.layer);\n",
       "            });\n",
       "            \n",
       "        \n",
       "    \n",
       "            L.Control.geocoder(\n",
       "                {&quot;collapsed&quot;: true, &quot;defaultMarkGeocode&quot;: true, &quot;position&quot;: &quot;topleft&quot;}\n",
       "            ).on(&#x27;markgeocode&#x27;, function(e) {\n",
       "                map_f394c2ac053d66ab08299285f4599801.setView(e.geocode.center, 11);\n",
       "            }).addTo(map_f394c2ac053d66ab08299285f4599801);\n",
       "\n",
       "        \n",
       "    \n",
       "            map_f394c2ac053d66ab08299285f4599801.fitBounds(\n",
       "                [[-9.653, -74.198], [-9.653, -74.198]],\n",
       "                {&quot;maxZoom&quot;: 15}\n",
       "            );\n",
       "        \n",
       "    \n",
       "            var tile_layer_31c5ac56b5d4e3880757f5c3269e4848 = L.tileLayer(\n",
       "                &quot;https://earthengine.googleapis.com/v1alpha/projects/earthengine-legacy/maps/b32b5674530ef3149f48778f37a81abe-9e6df9886e4c29645d2ae55c47594fed/tiles/{z}/{x}/{y}&quot;,\n",
       "                {&quot;attribution&quot;: &quot;Google Earth Engine&quot;, &quot;detectRetina&quot;: false, &quot;maxNativeZoom&quot;: 24, &quot;maxZoom&quot;: 24, &quot;minZoom&quot;: 0, &quot;noWrap&quot;: false, &quot;opacity&quot;: 1.0, &quot;subdomains&quot;: &quot;abc&quot;, &quot;tms&quot;: false}\n",
       "            ).addTo(map_f394c2ac053d66ab08299285f4599801);\n",
       "        \n",
       "    \n",
       "            var tile_layer_7554c2f86acba388d5bb49ca46d40921 = L.tileLayer(\n",
       "                &quot;https://earthengine.googleapis.com/v1alpha/projects/earthengine-legacy/maps/1e5dd02a784bd5a652dd955e53d20a12-d79ef8525f4307c26e88db50ac4af7b5/tiles/{z}/{x}/{y}&quot;,\n",
       "                {&quot;attribution&quot;: &quot;Google Earth Engine&quot;, &quot;detectRetina&quot;: false, &quot;maxNativeZoom&quot;: 24, &quot;maxZoom&quot;: 24, &quot;minZoom&quot;: 0, &quot;noWrap&quot;: false, &quot;opacity&quot;: 1.0, &quot;subdomains&quot;: &quot;abc&quot;, &quot;tms&quot;: false}\n",
       "            ).addTo(map_f394c2ac053d66ab08299285f4599801);\n",
       "        \n",
       "    \n",
       "            var layer_control_1a8cf4897268cf5d2b71f226b64b6ea9 = {\n",
       "                base_layers : {\n",
       "                    &quot;openstreetmap&quot; : tile_layer_2d3b2edbcebe8231e3dc302d5d558c3d,\n",
       "                },\n",
       "                overlays :  {\n",
       "                    &quot;Google Maps&quot; : tile_layer_2f8174695319b2661b20c53fc9f6f78e,\n",
       "                    &quot;SkySat&quot; : tile_layer_31c5ac56b5d4e3880757f5c3269e4848,\n",
       "                    &quot;Data&quot; : tile_layer_7554c2f86acba388d5bb49ca46d40921,\n",
       "                },\n",
       "            };\n",
       "            L.control.layers(\n",
       "                layer_control_1a8cf4897268cf5d2b71f226b64b6ea9.base_layers,\n",
       "                layer_control_1a8cf4897268cf5d2b71f226b64b6ea9.overlays,\n",
       "                {&quot;autoZIndex&quot;: true, &quot;collapsed&quot;: true, &quot;position&quot;: &quot;topright&quot;}\n",
       "            ).addTo(map_f394c2ac053d66ab08299285f4599801);\n",
       "        \n",
       "&lt;/script&gt;\n",
       "&lt;/html&gt;\" width=\"100%\" height=\"600\"style=\"border:none !important;\" \"allowfullscreen\" \"webkitallowfullscreen\" \"mozallowfullscreen\"></iframe>"
      ],
      "text/plain": [
       "<geemap.foliumap.Map at 0x2472833d2a0>"
      ]
     },
     "execution_count": 62,
     "metadata": {},
     "output_type": "execute_result"
    }
   ],
   "source": [
    "Map = geemap.Map(center = (-9.653, -74.198), zoom = 15)\n",
    "Map.addLayer(img, {'bands': ['b3', 'b2', 'b1'], 'min': 3000, 'max': 12000}, 'SkySat')\n",
    "Map.addLayer(pols, {'color': 'red'}, 'Data')\n",
    "Map"
   ]
  },
  {
   "cell_type": "markdown",
   "id": "bff48a1a",
   "metadata": {},
   "source": [
    "Cantidad de datos (polígonos de tala):"
   ]
  },
  {
   "cell_type": "code",
   "execution_count": 63,
   "id": "8fe7fce4",
   "metadata": {},
   "outputs": [
    {
     "name": "stdout",
     "output_type": "stream",
     "text": [
      "246\n"
     ]
    }
   ],
   "source": [
    "print(pols.size().getInfo())"
   ]
  },
  {
   "cell_type": "markdown",
   "id": "62c553e1",
   "metadata": {},
   "source": [
    "[Volver al contenido](#Contenido)"
   ]
  },
  {
   "cell_type": "markdown",
   "id": "6529f605",
   "metadata": {},
   "source": [
    "---"
   ]
  },
  {
   "cell_type": "markdown",
   "id": "5494f03d",
   "metadata": {},
   "source": [
    "## 3. Procesamiento de la imagen"
   ]
  },
  {
   "cell_type": "markdown",
   "id": "1620c5cd",
   "metadata": {},
   "source": [
    "## 3.1 Índices espectrales"
   ]
  },
  {
   "cell_type": "markdown",
   "id": "f32498fe",
   "metadata": {},
   "source": [
    "Los índices espectrales permiten resaltar la sensitividad de píxeles, a través de operaciones algebraicas entre bandas.  \n",
    "Son muy útiles para acelerar el entrenamiento y permitir que el modelo generalize mejor.  \n",
    "En este ejercicio se creará el índice NDVI y se añadirá a la imagen SkySat."
   ]
  },
  {
   "cell_type": "code",
   "execution_count": 64,
   "id": "df911c55",
   "metadata": {},
   "outputs": [],
   "source": [
    "def addNDVI(img):\n",
    "    ndvi = img.expression(\n",
    "        '(NIR - RED) / (NIR + RED)', {\n",
    "        'NIR': img.select('b4'),\n",
    "        'RED': img.select('b3')\n",
    "        }\n",
    "    ).rename('ndvi')\n",
    "    return img.addBands(ndvi)"
   ]
  },
  {
   "cell_type": "code",
   "execution_count": 65,
   "id": "47650e4c",
   "metadata": {},
   "outputs": [],
   "source": [
    "img = addNDVI(img)"
   ]
  },
  {
   "cell_type": "markdown",
   "id": "98a15636",
   "metadata": {},
   "source": [
    "Utilizando geemap podemos ver el índice NDVI ya creado"
   ]
  },
  {
   "cell_type": "code",
   "execution_count": 66,
   "id": "7a21bfd0",
   "metadata": {
    "scrolled": false
   },
   "outputs": [
    {
     "data": {
      "text/html": [
       "<iframe srcdoc=\"&lt;!DOCTYPE html&gt;\n",
       "&lt;html&gt;\n",
       "&lt;head&gt;\n",
       "    \n",
       "    &lt;meta http-equiv=&quot;content-type&quot; content=&quot;text/html; charset=UTF-8&quot; /&gt;\n",
       "    \n",
       "        &lt;script&gt;\n",
       "            L_NO_TOUCH = false;\n",
       "            L_DISABLE_3D = false;\n",
       "        &lt;/script&gt;\n",
       "    \n",
       "    &lt;style&gt;html, body {width: 100%;height: 100%;margin: 0;padding: 0;}&lt;/style&gt;\n",
       "    &lt;style&gt;#map {position:absolute;top:0;bottom:0;right:0;left:0;}&lt;/style&gt;\n",
       "    &lt;script src=&quot;https://cdn.jsdelivr.net/npm/leaflet@1.9.3/dist/leaflet.js&quot;&gt;&lt;/script&gt;\n",
       "    &lt;script src=&quot;https://code.jquery.com/jquery-1.12.4.min.js&quot;&gt;&lt;/script&gt;\n",
       "    &lt;script src=&quot;https://cdn.jsdelivr.net/npm/bootstrap@5.2.2/dist/js/bootstrap.bundle.min.js&quot;&gt;&lt;/script&gt;\n",
       "    &lt;script src=&quot;https://cdnjs.cloudflare.com/ajax/libs/Leaflet.awesome-markers/2.0.2/leaflet.awesome-markers.js&quot;&gt;&lt;/script&gt;\n",
       "    &lt;link rel=&quot;stylesheet&quot; href=&quot;https://cdn.jsdelivr.net/npm/leaflet@1.9.3/dist/leaflet.css&quot;/&gt;\n",
       "    &lt;link rel=&quot;stylesheet&quot; href=&quot;https://cdn.jsdelivr.net/npm/bootstrap@5.2.2/dist/css/bootstrap.min.css&quot;/&gt;\n",
       "    &lt;link rel=&quot;stylesheet&quot; href=&quot;https://netdna.bootstrapcdn.com/bootstrap/3.0.0/css/bootstrap.min.css&quot;/&gt;\n",
       "    &lt;link rel=&quot;stylesheet&quot; href=&quot;https://cdn.jsdelivr.net/npm/@fortawesome/fontawesome-free@6.2.0/css/all.min.css&quot;/&gt;\n",
       "    &lt;link rel=&quot;stylesheet&quot; href=&quot;https://cdnjs.cloudflare.com/ajax/libs/Leaflet.awesome-markers/2.0.2/leaflet.awesome-markers.css&quot;/&gt;\n",
       "    &lt;link rel=&quot;stylesheet&quot; href=&quot;https://cdn.jsdelivr.net/gh/python-visualization/folium/folium/templates/leaflet.awesome.rotate.min.css&quot;/&gt;\n",
       "    \n",
       "            &lt;meta name=&quot;viewport&quot; content=&quot;width=device-width,\n",
       "                initial-scale=1.0, maximum-scale=1.0, user-scalable=no&quot; /&gt;\n",
       "            &lt;style&gt;\n",
       "                #map_37fa4a07b14057f56106647f797d2997 {\n",
       "                    position: relative;\n",
       "                    width: 100.0%;\n",
       "                    height: 100.0%;\n",
       "                    left: 0.0%;\n",
       "                    top: 0.0%;\n",
       "                }\n",
       "                .leaflet-container { font-size: 1rem; }\n",
       "            &lt;/style&gt;\n",
       "        \n",
       "    &lt;script src=&quot;https://cdnjs.cloudflare.com/ajax/libs/leaflet.fullscreen/1.4.2/Control.FullScreen.min.js&quot;&gt;&lt;/script&gt;\n",
       "    &lt;link rel=&quot;stylesheet&quot; href=&quot;https://cdnjs.cloudflare.com/ajax/libs/leaflet.fullscreen/1.4.2/Control.FullScreen.min.css&quot;/&gt;\n",
       "    &lt;script src=&quot;https://cdnjs.cloudflare.com/ajax/libs/leaflet.draw/1.0.2/leaflet.draw.js&quot;&gt;&lt;/script&gt;\n",
       "    &lt;link rel=&quot;stylesheet&quot; href=&quot;https://cdnjs.cloudflare.com/ajax/libs/leaflet.draw/1.0.2/leaflet.draw.css&quot;/&gt;\n",
       "    &lt;script src=&quot;https://unpkg.com/leaflet-control-geocoder/dist/Control.Geocoder.js&quot;&gt;&lt;/script&gt;\n",
       "    &lt;link rel=&quot;stylesheet&quot; href=&quot;https://unpkg.com/leaflet-control-geocoder/dist/Control.Geocoder.css&quot;/&gt;\n",
       "&lt;/head&gt;\n",
       "&lt;body&gt;\n",
       "    \n",
       "    \n",
       "            &lt;div class=&quot;folium-map&quot; id=&quot;map_37fa4a07b14057f56106647f797d2997&quot; &gt;&lt;/div&gt;\n",
       "        \n",
       "&lt;/body&gt;\n",
       "&lt;script&gt;\n",
       "    \n",
       "    \n",
       "            var map_37fa4a07b14057f56106647f797d2997 = L.map(\n",
       "                &quot;map_37fa4a07b14057f56106647f797d2997&quot;,\n",
       "                {\n",
       "                    center: [-9.653, -74.198],\n",
       "                    crs: L.CRS.EPSG3857,\n",
       "                    zoom: 15,\n",
       "                    zoomControl: true,\n",
       "                    preferCanvas: false,\n",
       "                    eeInitialize: true,\n",
       "                    addGoogleMap: true,\n",
       "                    pluginLatlngpopup: false,\n",
       "                    pluginFullscreen: true,\n",
       "                    pluginDraw: true,\n",
       "                    DrawExport: false,\n",
       "                    pluginMinimap: false,\n",
       "                    locateControl: false,\n",
       "                    searchControl: true,\n",
       "                    layersControl: true,\n",
       "                }\n",
       "            );\n",
       "\n",
       "            \n",
       "\n",
       "        \n",
       "    \n",
       "            var tile_layer_5e61bcf28014362273940869a2e34380 = L.tileLayer(\n",
       "                &quot;https://{s}.tile.openstreetmap.org/{z}/{x}/{y}.png&quot;,\n",
       "                {&quot;attribution&quot;: &quot;Data by \\u0026copy; \\u003ca target=\\&quot;_blank\\&quot; href=\\&quot;http://openstreetmap.org\\&quot;\\u003eOpenStreetMap\\u003c/a\\u003e, under \\u003ca target=\\&quot;_blank\\&quot; href=\\&quot;http://www.openstreetmap.org/copyright\\&quot;\\u003eODbL\\u003c/a\\u003e.&quot;, &quot;detectRetina&quot;: false, &quot;maxNativeZoom&quot;: 30, &quot;maxZoom&quot;: 30, &quot;minZoom&quot;: 0, &quot;noWrap&quot;: false, &quot;opacity&quot;: 1, &quot;subdomains&quot;: &quot;abc&quot;, &quot;tms&quot;: false}\n",
       "            ).addTo(map_37fa4a07b14057f56106647f797d2997);\n",
       "        \n",
       "    \n",
       "            var tile_layer_2f8174695319b2661b20c53fc9f6f78e = L.tileLayer(\n",
       "                &quot;https://mt1.google.com/vt/lyrs=m\\u0026x={x}\\u0026y={y}\\u0026z={z}&quot;,\n",
       "                {&quot;attribution&quot;: &quot;Google&quot;, &quot;detectRetina&quot;: false, &quot;maxNativeZoom&quot;: 22, &quot;maxZoom&quot;: 22, &quot;minZoom&quot;: 0, &quot;noWrap&quot;: false, &quot;opacity&quot;: 1, &quot;subdomains&quot;: &quot;abc&quot;, &quot;tms&quot;: false}\n",
       "            ).addTo(map_37fa4a07b14057f56106647f797d2997);\n",
       "        \n",
       "    \n",
       "            L.control.fullscreen(\n",
       "                {&quot;forceSeparateButton&quot;: false, &quot;position&quot;: &quot;topleft&quot;, &quot;title&quot;: &quot;Full Screen&quot;, &quot;titleCancel&quot;: &quot;Exit Full Screen&quot;}\n",
       "            ).addTo(map_37fa4a07b14057f56106647f797d2997);\n",
       "        \n",
       "    \n",
       "            var options = {\n",
       "              position: &quot;topleft&quot;,\n",
       "              draw: {},\n",
       "              edit: {},\n",
       "            }\n",
       "            // FeatureGroup is to store editable layers.\n",
       "            var drawnItems = new L.featureGroup().addTo(\n",
       "                map_37fa4a07b14057f56106647f797d2997\n",
       "            );\n",
       "            options.edit.featureGroup = drawnItems;\n",
       "            var draw_control_3225b84d952dc04a836638a2200c7b6b = new L.Control.Draw(\n",
       "                options\n",
       "            ).addTo( map_37fa4a07b14057f56106647f797d2997 );\n",
       "            map_37fa4a07b14057f56106647f797d2997.on(L.Draw.Event.CREATED, function(e) {\n",
       "                var layer = e.layer,\n",
       "                    type = e.layerType;\n",
       "                var coords = JSON.stringify(layer.toGeoJSON());\n",
       "                layer.on(&#x27;click&#x27;, function() {\n",
       "                    alert(coords);\n",
       "                    console.log(coords);\n",
       "                });\n",
       "                drawnItems.addLayer(layer);\n",
       "             });\n",
       "            map_37fa4a07b14057f56106647f797d2997.on(&#x27;draw:created&#x27;, function(e) {\n",
       "                drawnItems.addLayer(e.layer);\n",
       "            });\n",
       "            \n",
       "        \n",
       "    \n",
       "            L.Control.geocoder(\n",
       "                {&quot;collapsed&quot;: true, &quot;defaultMarkGeocode&quot;: true, &quot;position&quot;: &quot;topleft&quot;}\n",
       "            ).on(&#x27;markgeocode&#x27;, function(e) {\n",
       "                map_37fa4a07b14057f56106647f797d2997.setView(e.geocode.center, 11);\n",
       "            }).addTo(map_37fa4a07b14057f56106647f797d2997);\n",
       "\n",
       "        \n",
       "    \n",
       "            map_37fa4a07b14057f56106647f797d2997.fitBounds(\n",
       "                [[-9.653, -74.198], [-9.653, -74.198]],\n",
       "                {&quot;maxZoom&quot;: 15}\n",
       "            );\n",
       "        \n",
       "    \n",
       "            var tile_layer_01cc18d4dd1c79967b9edf16ff0074dc = L.tileLayer(\n",
       "                &quot;https://earthengine.googleapis.com/v1alpha/projects/earthengine-legacy/maps/74a945b60c0607206ec363ef4637881f-5ff42acd491fbfba64756022c783d5f1/tiles/{z}/{x}/{y}&quot;,\n",
       "                {&quot;attribution&quot;: &quot;Google Earth Engine&quot;, &quot;detectRetina&quot;: false, &quot;maxNativeZoom&quot;: 24, &quot;maxZoom&quot;: 24, &quot;minZoom&quot;: 0, &quot;noWrap&quot;: false, &quot;opacity&quot;: 1.0, &quot;subdomains&quot;: &quot;abc&quot;, &quot;tms&quot;: false}\n",
       "            ).addTo(map_37fa4a07b14057f56106647f797d2997);\n",
       "        \n",
       "    \n",
       "            var tile_layer_44adb589c614fecec1a1993719722670 = L.tileLayer(\n",
       "                &quot;https://earthengine.googleapis.com/v1alpha/projects/earthengine-legacy/maps/1e5dd02a784bd5a652dd955e53d20a12-8720eb0268fa3d568bc7e031919e7611/tiles/{z}/{x}/{y}&quot;,\n",
       "                {&quot;attribution&quot;: &quot;Google Earth Engine&quot;, &quot;detectRetina&quot;: false, &quot;maxNativeZoom&quot;: 24, &quot;maxZoom&quot;: 24, &quot;minZoom&quot;: 0, &quot;noWrap&quot;: false, &quot;opacity&quot;: 1.0, &quot;subdomains&quot;: &quot;abc&quot;, &quot;tms&quot;: false}\n",
       "            ).addTo(map_37fa4a07b14057f56106647f797d2997);\n",
       "        \n",
       "    \n",
       "            var layer_control_77c5e8259bb4ba4afda5b541fd05f72d = {\n",
       "                base_layers : {\n",
       "                    &quot;openstreetmap&quot; : tile_layer_5e61bcf28014362273940869a2e34380,\n",
       "                },\n",
       "                overlays :  {\n",
       "                    &quot;Google Maps&quot; : tile_layer_2f8174695319b2661b20c53fc9f6f78e,\n",
       "                    &quot;NDVI&quot; : tile_layer_01cc18d4dd1c79967b9edf16ff0074dc,\n",
       "                    &quot;Data&quot; : tile_layer_44adb589c614fecec1a1993719722670,\n",
       "                },\n",
       "            };\n",
       "            L.control.layers(\n",
       "                layer_control_77c5e8259bb4ba4afda5b541fd05f72d.base_layers,\n",
       "                layer_control_77c5e8259bb4ba4afda5b541fd05f72d.overlays,\n",
       "                {&quot;autoZIndex&quot;: true, &quot;collapsed&quot;: true, &quot;position&quot;: &quot;topright&quot;}\n",
       "            ).addTo(map_37fa4a07b14057f56106647f797d2997);\n",
       "        \n",
       "&lt;/script&gt;\n",
       "&lt;/html&gt;\" width=\"100%\" height=\"600\"style=\"border:none !important;\" \"allowfullscreen\" \"webkitallowfullscreen\" \"mozallowfullscreen\"></iframe>"
      ],
      "text/plain": [
       "<geemap.foliumap.Map at 0x2472833e230>"
      ]
     },
     "execution_count": 66,
     "metadata": {},
     "output_type": "execute_result"
    }
   ],
   "source": [
    "Map = geemap.Map(center = (-9.653, -74.198), zoom = 15)\n",
    "Map.addLayer(img, {'bands': ['ndvi'], 'palette': ['blue', 'yellow', 'green'], 'min': -0.8, 'max': 0.8}, 'NDVI')\n",
    "Map.addLayer(pols, {'color': 'red'}, 'Data')\n",
    "Map"
   ]
  },
  {
   "cell_type": "markdown",
   "id": "84b2e485",
   "metadata": {},
   "source": [
    "## 3.2 Escalamiento (Normalización)"
   ]
  },
  {
   "cell_type": "markdown",
   "id": "b3f7dc0f",
   "metadata": {},
   "source": [
    "Para Deep Learning se recomienda escalar los datos, sobretodo cuando están sometidos a diferentes condiciones, en este ejercicio se realizará una **normalización** (escalamiento) de datos para que los valores pixelares estén de 0 a 1.  \n",
    "Para ello utilizaremos la siguiente función:"
   ]
  },
  {
   "cell_type": "code",
   "execution_count": 67,
   "id": "b0c5956c",
   "metadata": {},
   "outputs": [],
   "source": [
    "def normalizationImg (img, bands, min, max, geo):\n",
    "    desMin = ee.Number(min)\n",
    "    desMax = ee.Number(max)\n",
    "    strMin = ee.String('_min')\n",
    "    strMax = ee.String('_max')\n",
    "    def bandNorm (band):\n",
    "        selectedBand = ee.Image(img).select(band)\n",
    "        bandStats = selectedBand.reduceRegion(**{\n",
    "            'reducer': ee.Reducer.minMax(),\n",
    "            'geometry': geo,\n",
    "            'scale': 0.5,\n",
    "            'crs': 'EPSG:32719',\n",
    "            'maxPixels': 1e12\n",
    "            })\n",
    "        bandString = ee.String(band)\n",
    "        bandMinString = (bandString.cat(strMin))\n",
    "        bandMaxString = (bandString.cat(strMax))\n",
    "        bandMin = ee.Number(bandStats.get(bandMinString))\n",
    "        bandMax = ee.Number(bandStats.get(bandMaxString))\n",
    "        bandNormalized = ((selectedBand.subtract(bandMin).multiply(desMax.subtract(desMin).divide(bandMax.subtract(bandMin))).add(desMin)).rename(bandString.cat(ee.String('_normalized'))))\n",
    "        return bandNormalized.toFloat()\n",
    "    for b in bands:\n",
    "        img = img.addBands(bandNorm(b))\n",
    "         \n",
    "    return img"
   ]
  },
  {
   "cell_type": "markdown",
   "id": "7109c8c5",
   "metadata": {},
   "source": [
    "Esta función escala los valores al valor mínimo y máximo deseado, permitiendo seleccionar las bandas a procesar"
   ]
  },
  {
   "cell_type": "code",
   "execution_count": 68,
   "id": "cfe24769",
   "metadata": {},
   "outputs": [],
   "source": [
    "img_norm = normalizationImg(img, ['b1', 'b2', 'b3', 'b4'], 0, 1, img.geometry())"
   ]
  },
  {
   "cell_type": "markdown",
   "id": "34edd239",
   "metadata": {},
   "source": [
    "Veremos que la función añade bandas normalizadas adicionales, las cuales servirán para exportar los datos.  \n",
    "Nótese que no se normaliza el índice NDVI, debido a que ya se encuentra _normalizado_."
   ]
  },
  {
   "cell_type": "code",
   "execution_count": 69,
   "id": "a87c33aa",
   "metadata": {},
   "outputs": [
    {
     "name": "stdout",
     "output_type": "stream",
     "text": [
      "['b1', 'b2', 'b3', 'b4', 'ndvi', 'b1_normalized', 'b2_normalized', 'b3_normalized', 'b4_normalized']\n"
     ]
    }
   ],
   "source": [
    "print(img_norm.bandNames().getInfo())"
   ]
  },
  {
   "cell_type": "markdown",
   "id": "3f9c3b55",
   "metadata": {},
   "source": [
    "## 3.3 Asignar un valor numérico a la clase"
   ]
  },
  {
   "cell_type": "markdown",
   "id": "e8657b82",
   "metadata": {},
   "source": [
    "Nuestra base de datos consiste en polígonos, que presentan un atributo llamado **tipo**, el cual no es numérico, por lo que crearemos un atributo con el valor de 1, para representar numéricamente los casos de tala.  \n",
    "Podemos observar los valores del primer polígono."
   ]
  },
  {
   "cell_type": "code",
   "execution_count": 70,
   "id": "34851a0c",
   "metadata": {
    "scrolled": true
   },
   "outputs": [
    {
     "name": "stdout",
     "output_type": "stream",
     "text": [
      "{'type': 'Feature', 'geometry': {'type': 'Polygon', 'coordinates': [[[-74.20131834249987, -9.646241075424708], [-74.20131395355791, -9.646245561421832], [-74.20130938547537, -9.646245677105858], [-74.20130490696295, -9.646245714675706], [-74.20130042845042, -9.64624575224548], [-74.20129586036754, -9.646245867929274], [-74.20129138185479, -9.6462459054989], [-74.20128681377167, -9.646241494641858], [-74.20128224568846, -9.64623708378515], [-74.20128215611818, -9.64623263535913], [-74.20128663463116, -9.646228071249496], [-74.20128654506091, -9.646223622823896], [-74.20129102357377, -9.646223585253951], [-74.20130007016941, -9.646223431999763], [-74.20130454868195, -9.646223394429596], [-74.20130911676462, -9.646223278745268], [-74.20131816335939, -9.646227652030708], [-74.20131825292962, -9.646232100457091], [-74.20131834249987, -9.646241075424708]]]}, 'id': '00000000000000000000', 'properties': {'id': 24, 'imgID': 'Skysat_20201017_ssc2_150055', 'tipo': 'tala', 'type': 'Polygon'}}\n"
     ]
    }
   ],
   "source": [
    "print(pols.first().getInfo())"
   ]
  },
  {
   "cell_type": "markdown",
   "id": "4139d5c2",
   "metadata": {},
   "source": [
    "Utilizando la siguiente función, mapeamos cada polígono de nuestro conjunto de datos para asignarle el atributo **class** el valor de 1."
   ]
  },
  {
   "cell_type": "code",
   "execution_count": 71,
   "id": "9acb065f",
   "metadata": {},
   "outputs": [],
   "source": [
    "def add1(f):\n",
    "    return f.set('class', 1.0)"
   ]
  },
  {
   "cell_type": "markdown",
   "id": "51e2aef2",
   "metadata": {},
   "source": [
    "Podemos observar la presencia del nuevo atributo creado."
   ]
  },
  {
   "cell_type": "code",
   "execution_count": 72,
   "id": "ad4210d4",
   "metadata": {},
   "outputs": [
    {
     "name": "stdout",
     "output_type": "stream",
     "text": [
      "{'type': 'Feature', 'geometry': {'type': 'Polygon', 'coordinates': [[[-74.20131834249987, -9.646241075424708], [-74.20131395355791, -9.646245561421832], [-74.20130938547537, -9.646245677105858], [-74.20130490696295, -9.646245714675706], [-74.20130042845042, -9.64624575224548], [-74.20129586036754, -9.646245867929274], [-74.20129138185479, -9.6462459054989], [-74.20128681377167, -9.646241494641858], [-74.20128224568846, -9.64623708378515], [-74.20128215611818, -9.64623263535913], [-74.20128663463116, -9.646228071249496], [-74.20128654506091, -9.646223622823896], [-74.20129102357377, -9.646223585253951], [-74.20130007016941, -9.646223431999763], [-74.20130454868195, -9.646223394429596], [-74.20130911676462, -9.646223278745268], [-74.20131816335939, -9.646227652030708], [-74.20131825292962, -9.646232100457091], [-74.20131834249987, -9.646241075424708]]]}, 'id': '00000000000000000000', 'properties': {'class': 1, 'id': 24, 'imgID': 'Skysat_20201017_ssc2_150055', 'tipo': 'tala', 'type': 'Polygon'}}\n"
     ]
    }
   ],
   "source": [
    "pols = pols.map(add1)\n",
    "print(pols.first().getInfo())"
   ]
  },
  {
   "cell_type": "markdown",
   "id": "d2c10402",
   "metadata": {},
   "source": [
    "## 3.4 Crear la banda \"clase\" de la imagen "
   ]
  },
  {
   "cell_type": "markdown",
   "id": "117ba6cb",
   "metadata": {},
   "source": [
    "El siguiente paso, debido a que queremos exportar objetos y no pixeles individuales, es crear una banda adicional a la imagen, cuyo valor sea 1 para aquellos pixeles en su interior, y 0 para aquellos en el exterior.  \n",
    "Para ello utilizaremos la siguiente función:"
   ]
  },
  {
   "cell_type": "code",
   "execution_count": 73,
   "id": "6ba1083f",
   "metadata": {},
   "outputs": [],
   "source": [
    "def createLabel (feature):\n",
    "    featImg = feature.reduceToImage(['class'], ee.Reducer.mean())\n",
    "    return featImg.toFloat().rename('class')"
   ]
  },
  {
   "cell_type": "markdown",
   "id": "771518e7",
   "metadata": {},
   "source": [
    "Aplicamos la función y añadimos la banda creada a la imagen normalizada."
   ]
  },
  {
   "cell_type": "code",
   "execution_count": 74,
   "id": "6c45819f",
   "metadata": {},
   "outputs": [],
   "source": [
    "img_norm = img_norm.addBands(createLabel(pols))"
   ]
  },
  {
   "cell_type": "markdown",
   "id": "eb487e59",
   "metadata": {},
   "source": [
    "Nuevamente, obtenemos las bandas de la imagen. Nótese la existencia de la banda **class**, que vendrá a ser la clase, en este caso tala."
   ]
  },
  {
   "cell_type": "code",
   "execution_count": 75,
   "id": "d69a8d91",
   "metadata": {
    "scrolled": true
   },
   "outputs": [
    {
     "name": "stdout",
     "output_type": "stream",
     "text": [
      "['b1', 'b2', 'b3', 'b4', 'ndvi', 'b1_normalized', 'b2_normalized', 'b3_normalized', 'b4_normalized', 'class']\n"
     ]
    }
   ],
   "source": [
    "print(img_norm.bandNames().getInfo())"
   ]
  },
  {
   "cell_type": "markdown",
   "id": "05a77bc8",
   "metadata": {},
   "source": [
    "## 3.5 Transformación de la imagen "
   ]
  },
  {
   "cell_type": "markdown",
   "id": "4a97deb2",
   "metadata": {},
   "source": [
    "Se realizará una transformación de la imagen, en la que cada pixel será una matriz de los píxeles vecinos.  \n",
    "Esto permite que al exportar puntos, en realidad se estén exportando imágenes (tensores en este caso).  \n",
    "Para ello, debemos crear un kernel. Que será la repetición de listas, con el valor de 1."
   ]
  },
  {
   "cell_type": "code",
   "execution_count": 76,
   "id": "deac0246",
   "metadata": {},
   "outputs": [],
   "source": [
    "row = ee.List.repeat(1, 64)\n",
    "rows = ee.List.repeat(row, 64)\n",
    "kernel = ee.Kernel.fixed(64, 64, rows)"
   ]
  },
  {
   "cell_type": "markdown",
   "id": "ee81ab15",
   "metadata": {},
   "source": [
    "Podemos visualizar al kernel creado. Que tiene un tamaño de 64 pixeles de ancho, y 64 pixeles de alto."
   ]
  },
  {
   "cell_type": "code",
   "execution_count": 77,
   "id": "5a769a7f",
   "metadata": {},
   "outputs": [
    {
     "name": "stdout",
     "output_type": "stream",
     "text": [
      "{'type': 'Kernel.fixed', 'width': 64, 'height': 64, 'weights': '\\n  [1.0, 1.0, 1.0, 1.0, 1.0, 1.0, 1.0, 1.0, 1.0, 1.0, 1.0, 1.0, 1.0, 1.0, 1.0, 1.0, 1.0, 1.0, 1.0, 1.0, 1.0, 1.0, 1.0, 1.0, 1.0, 1.0, 1.0, 1.0, 1.0, 1.0, 1.0, 1.0, 1.0, 1.0, 1.0, 1.0, 1.0, 1.0, 1.0, 1.0, 1.0, 1.0, 1.0, 1.0, 1.0, 1.0, 1.0, 1.0, 1.0, 1.0, 1.0, 1.0, 1.0, 1.0, 1.0, 1.0, 1.0, 1.0, 1.0, 1.0, 1.0, 1.0, 1.0, 1.0]\\n  [1.0, 1.0, 1.0, 1.0, 1.0, 1.0, 1.0, 1.0, 1.0, 1.0, 1.0, 1.0, 1.0, 1.0, 1.0, 1.0, 1.0, 1.0, 1.0, 1.0, 1.0, 1.0, 1.0, 1.0, 1.0, 1.0, 1.0, 1.0, 1.0, 1.0, 1.0, 1.0, 1.0, 1.0, 1.0, 1.0, 1.0, 1.0, 1.0, 1.0, 1.0, 1.0, 1.0, 1.0, 1.0, 1.0, 1.0, 1.0, 1.0, 1.0, 1.0, 1.0, 1.0, 1.0, 1.0, 1.0, 1.0, 1.0, 1.0, 1.0, 1.0, 1.0, 1.0, 1.0]\\n  [1.0, 1.0, 1.0, 1.0, 1.0, 1.0, 1.0, 1.0, 1.0, 1.0, 1.0, 1.0, 1.0, 1.0, 1.0, 1.0, 1.0, 1.0, 1.0, 1.0, 1.0, 1.0, 1.0, 1.0, 1.0, 1.0, 1.0, 1.0, 1.0, 1.0, 1.0, 1.0, 1.0, 1.0, 1.0, 1.0, 1.0, 1.0, 1.0, 1.0, 1.0, 1.0, 1.0, 1.0, 1.0, 1.0, 1.0, 1.0, 1.0, 1.0, 1.0, 1.0, 1.0, 1.0, 1.0, 1.0, 1.0, 1.0, 1.0, 1.0, 1.0, 1.0, 1.0, 1.0]\\n  [1.0, 1.0, 1.0, 1.0, 1.0, 1.0, 1.0, 1.0, 1.0, 1.0, 1.0, 1.0, 1.0, 1.0, 1.0, 1.0, 1.0, 1.0, 1.0, 1.0, 1.0, 1.0, 1.0, 1.0, 1.0, 1.0, 1.0, 1.0, 1.0, 1.0, 1.0, 1.0, 1.0, 1.0, 1.0, 1.0, 1.0, 1.0, 1.0, 1.0, 1.0, 1.0, 1.0, 1.0, 1.0, 1.0, 1.0, 1.0, 1.0, 1.0, 1.0, 1.0, 1.0, 1.0, 1.0, 1.0, 1.0, 1.0, 1.0, 1.0, 1.0, 1.0, 1.0, 1.0]\\n  [1.0, 1.0, 1.0, 1.0, 1.0, 1.0, 1.0, 1.0, 1.0, 1.0, 1.0, 1.0, 1.0, 1.0, 1.0, 1.0, 1.0, 1.0, 1.0, 1.0, 1.0, 1.0, 1.0, 1.0, 1.0, 1.0, 1.0, 1.0, 1.0, 1.0, 1.0, 1.0, 1.0, 1.0, 1.0, 1.0, 1.0, 1.0, 1.0, 1.0, 1.0, 1.0, 1.0, 1.0, 1.0, 1.0, 1.0, 1.0, 1.0, 1.0, 1.0, 1.0, 1.0, 1.0, 1.0, 1.0, 1.0, 1.0, 1.0, 1.0, 1.0, 1.0, 1.0, 1.0]\\n  [1.0, 1.0, 1.0, 1.0, 1.0, 1.0, 1.0, 1.0, 1.0, 1.0, 1.0, 1.0, 1.0, 1.0, 1.0, 1.0, 1.0, 1.0, 1.0, 1.0, 1.0, 1.0, 1.0, 1.0, 1.0, 1.0, 1.0, 1.0, 1.0, 1.0, 1.0, 1.0, 1.0, 1.0, 1.0, 1.0, 1.0, 1.0, 1.0, 1.0, 1.0, 1.0, 1.0, 1.0, 1.0, 1.0, 1.0, 1.0, 1.0, 1.0, 1.0, 1.0, 1.0, 1.0, 1.0, 1.0, 1.0, 1.0, 1.0, 1.0, 1.0, 1.0, 1.0, 1.0]\\n  [1.0, 1.0, 1.0, 1.0, 1.0, 1.0, 1.0, 1.0, 1.0, 1.0, 1.0, 1.0, 1.0, 1.0, 1.0, 1.0, 1.0, 1.0, 1.0, 1.0, 1.0, 1.0, 1.0, 1.0, 1.0, 1.0, 1.0, 1.0, 1.0, 1.0, 1.0, 1.0, 1.0, 1.0, 1.0, 1.0, 1.0, 1.0, 1.0, 1.0, 1.0, 1.0, 1.0, 1.0, 1.0, 1.0, 1.0, 1.0, 1.0, 1.0, 1.0, 1.0, 1.0, 1.0, 1.0, 1.0, 1.0, 1.0, 1.0, 1.0, 1.0, 1.0, 1.0, 1.0]\\n  [1.0, 1.0, 1.0, 1.0, 1.0, 1.0, 1.0, 1.0, 1.0, 1.0, 1.0, 1.0, 1.0, 1.0, 1.0, 1.0, 1.0, 1.0, 1.0, 1.0, 1.0, 1.0, 1.0, 1.0, 1.0, 1.0, 1.0, 1.0, 1.0, 1.0, 1.0, 1.0, 1.0, 1.0, 1.0, 1.0, 1.0, 1.0, 1.0, 1.0, 1.0, 1.0, 1.0, 1.0, 1.0, 1.0, 1.0, 1.0, 1.0, 1.0, 1.0, 1.0, 1.0, 1.0, 1.0, 1.0, 1.0, 1.0, 1.0, 1.0, 1.0, 1.0, 1.0, 1.0]\\n  [1.0, 1.0, 1.0, 1.0, 1.0, 1.0, 1.0, 1.0, 1.0, 1.0, 1.0, 1.0, 1.0, 1.0, 1.0, 1.0, 1.0, 1.0, 1.0, 1.0, 1.0, 1.0, 1.0, 1.0, 1.0, 1.0, 1.0, 1.0, 1.0, 1.0, 1.0, 1.0, 1.0, 1.0, 1.0, 1.0, 1.0, 1.0, 1.0, 1.0, 1.0, 1.0, 1.0, 1.0, 1.0, 1.0, 1.0, 1.0, 1.0, 1.0, 1.0, 1.0, 1.0, 1.0, 1.0, 1.0, 1.0, 1.0, 1.0, 1.0, 1.0, 1.0, 1.0, 1.0]\\n  [1.0, 1.0, 1.0, 1.0, 1.0, 1.0, 1.0, 1.0, 1.0, 1.0, 1.0, 1.0, 1.0, 1.0, 1.0, 1.0, 1.0, 1.0, 1.0, 1.0, 1.0, 1.0, 1.0, 1.0, 1.0, 1.0, 1.0, 1.0, 1.0, 1.0, 1.0, 1.0, 1.0, 1.0, 1.0, 1.0, 1.0, 1.0, 1.0, 1.0, 1.0, 1.0, 1.0, 1.0, 1.0, 1.0, 1.0, 1.0, 1.0, 1.0, 1.0, 1.0, 1.0, 1.0, 1.0, 1.0, 1.0, 1.0, 1.0, 1.0, 1.0, 1.0, 1.0, 1.0]\\n  [1.0, 1.0, 1.0, 1.0, 1.0, 1.0, 1.0, 1.0, 1.0, 1.0, 1.0, 1.0, 1.0, 1.0, 1.0, 1.0, 1.0, 1.0, 1.0, 1.0, 1.0, 1.0, 1.0, 1.0, 1.0, 1.0, 1.0, 1.0, 1.0, 1.0, 1.0, 1.0, 1.0, 1.0, 1.0, 1.0, 1.0, 1.0, 1.0, 1.0, 1.0, 1.0, 1.0, 1.0, 1.0, 1.0, 1.0, 1.0, 1.0, 1.0, 1.0, 1.0, 1.0, 1.0, 1.0, 1.0, 1.0, 1.0, 1.0, 1.0, 1.0, 1.0, 1.0, 1.0]\\n  [1.0, 1.0, 1.0, 1.0, 1.0, 1.0, 1.0, 1.0, 1.0, 1.0, 1.0, 1.0, 1.0, 1.0, 1.0, 1.0, 1.0, 1.0, 1.0, 1.0, 1.0, 1.0, 1.0, 1.0, 1.0, 1.0, 1.0, 1.0, 1.0, 1.0, 1.0, 1.0, 1.0, 1.0, 1.0, 1.0, 1.0, 1.0, 1.0, 1.0, 1.0, 1.0, 1.0, 1.0, 1.0, 1.0, 1.0, 1.0, 1.0, 1.0, 1.0, 1.0, 1.0, 1.0, 1.0, 1.0, 1.0, 1.0, 1.0, 1.0, 1.0, 1.0, 1.0, 1.0]\\n  [1.0, 1.0, 1.0, 1.0, 1.0, 1.0, 1.0, 1.0, 1.0, 1.0, 1.0, 1.0, 1.0, 1.0, 1.0, 1.0, 1.0, 1.0, 1.0, 1.0, 1.0, 1.0, 1.0, 1.0, 1.0, 1.0, 1.0, 1.0, 1.0, 1.0, 1.0, 1.0, 1.0, 1.0, 1.0, 1.0, 1.0, 1.0, 1.0, 1.0, 1.0, 1.0, 1.0, 1.0, 1.0, 1.0, 1.0, 1.0, 1.0, 1.0, 1.0, 1.0, 1.0, 1.0, 1.0, 1.0, 1.0, 1.0, 1.0, 1.0, 1.0, 1.0, 1.0, 1.0]\\n  [1.0, 1.0, 1.0, 1.0, 1.0, 1.0, 1.0, 1.0, 1.0, 1.0, 1.0, 1.0, 1.0, 1.0, 1.0, 1.0, 1.0, 1.0, 1.0, 1.0, 1.0, 1.0, 1.0, 1.0, 1.0, 1.0, 1.0, 1.0, 1.0, 1.0, 1.0, 1.0, 1.0, 1.0, 1.0, 1.0, 1.0, 1.0, 1.0, 1.0, 1.0, 1.0, 1.0, 1.0, 1.0, 1.0, 1.0, 1.0, 1.0, 1.0, 1.0, 1.0, 1.0, 1.0, 1.0, 1.0, 1.0, 1.0, 1.0, 1.0, 1.0, 1.0, 1.0, 1.0]\\n  [1.0, 1.0, 1.0, 1.0, 1.0, 1.0, 1.0, 1.0, 1.0, 1.0, 1.0, 1.0, 1.0, 1.0, 1.0, 1.0, 1.0, 1.0, 1.0, 1.0, 1.0, 1.0, 1.0, 1.0, 1.0, 1.0, 1.0, 1.0, 1.0, 1.0, 1.0, 1.0, 1.0, 1.0, 1.0, 1.0, 1.0, 1.0, 1.0, 1.0, 1.0, 1.0, 1.0, 1.0, 1.0, 1.0, 1.0, 1.0, 1.0, 1.0, 1.0, 1.0, 1.0, 1.0, 1.0, 1.0, 1.0, 1.0, 1.0, 1.0, 1.0, 1.0, 1.0, 1.0]\\n  [1.0, 1.0, 1.0, 1.0, 1.0, 1.0, 1.0, 1.0, 1.0, 1.0, 1.0, 1.0, 1.0, 1.0, 1.0, 1.0, 1.0, 1.0, 1.0, 1.0, 1.0, 1.0, 1.0, 1.0, 1.0, 1.0, 1.0, 1.0, 1.0, 1.0, 1.0, 1.0, 1.0, 1.0, 1.0, 1.0, 1.0, 1.0, 1.0, 1.0, 1.0, 1.0, 1.0, 1.0, 1.0, 1.0, 1.0, 1.0, 1.0, 1.0, 1.0, 1.0, 1.0, 1.0, 1.0, 1.0, 1.0, 1.0, 1.0, 1.0, 1.0, 1.0, 1.0, 1.0]\\n  [1.0, 1.0, 1.0, 1.0, 1.0, 1.0, 1.0, 1.0, 1.0, 1.0, 1.0, 1.0, 1.0, 1.0, 1.0, 1.0, 1.0, 1.0, 1.0, 1.0, 1.0, 1.0, 1.0, 1.0, 1.0, 1.0, 1.0, 1.0, 1.0, 1.0, 1.0, 1.0, 1.0, 1.0, 1.0, 1.0, 1.0, 1.0, 1.0, 1.0, 1.0, 1.0, 1.0, 1.0, 1.0, 1.0, 1.0, 1.0, 1.0, 1.0, 1.0, 1.0, 1.0, 1.0, 1.0, 1.0, 1.0, 1.0, 1.0, 1.0, 1.0, 1.0, 1.0, 1.0]\\n  [1.0, 1.0, 1.0, 1.0, 1.0, 1.0, 1.0, 1.0, 1.0, 1.0, 1.0, 1.0, 1.0, 1.0, 1.0, 1.0, 1.0, 1.0, 1.0, 1.0, 1.0, 1.0, 1.0, 1.0, 1.0, 1.0, 1.0, 1.0, 1.0, 1.0, 1.0, 1.0, 1.0, 1.0, 1.0, 1.0, 1.0, 1.0, 1.0, 1.0, 1.0, 1.0, 1.0, 1.0, 1.0, 1.0, 1.0, 1.0, 1.0, 1.0, 1.0, 1.0, 1.0, 1.0, 1.0, 1.0, 1.0, 1.0, 1.0, 1.0, 1.0, 1.0, 1.0, 1.0]\\n  [1.0, 1.0, 1.0, 1.0, 1.0, 1.0, 1.0, 1.0, 1.0, 1.0, 1.0, 1.0, 1.0, 1.0, 1.0, 1.0, 1.0, 1.0, 1.0, 1.0, 1.0, 1.0, 1.0, 1.0, 1.0, 1.0, 1.0, 1.0, 1.0, 1.0, 1.0, 1.0, 1.0, 1.0, 1.0, 1.0, 1.0, 1.0, 1.0, 1.0, 1.0, 1.0, 1.0, 1.0, 1.0, 1.0, 1.0, 1.0, 1.0, 1.0, 1.0, 1.0, 1.0, 1.0, 1.0, 1.0, 1.0, 1.0, 1.0, 1.0, 1.0, 1.0, 1.0, 1.0]\\n  [1.0, 1.0, 1.0, 1.0, 1.0, 1.0, 1.0, 1.0, 1.0, 1.0, 1.0, 1.0, 1.0, 1.0, 1.0, 1.0, 1.0, 1.0, 1.0, 1.0, 1.0, 1.0, 1.0, 1.0, 1.0, 1.0, 1.0, 1.0, 1.0, 1.0, 1.0, 1.0, 1.0, 1.0, 1.0, 1.0, 1.0, 1.0, 1.0, 1.0, 1.0, 1.0, 1.0, 1.0, 1.0, 1.0, 1.0, 1.0, 1.0, 1.0, 1.0, 1.0, 1.0, 1.0, 1.0, 1.0, 1.0, 1.0, 1.0, 1.0, 1.0, 1.0, 1.0, 1.0]\\n  [1.0, 1.0, 1.0, 1.0, 1.0, 1.0, 1.0, 1.0, 1.0, 1.0, 1.0, 1.0, 1.0, 1.0, 1.0, 1.0, 1.0, 1.0, 1.0, 1.0, 1.0, 1.0, 1.0, 1.0, 1.0, 1.0, 1.0, 1.0, 1.0, 1.0, 1.0, 1.0, 1.0, 1.0, 1.0, 1.0, 1.0, 1.0, 1.0, 1.0, 1.0, 1.0, 1.0, 1.0, 1.0, 1.0, 1.0, 1.0, 1.0, 1.0, 1.0, 1.0, 1.0, 1.0, 1.0, 1.0, 1.0, 1.0, 1.0, 1.0, 1.0, 1.0, 1.0, 1.0]\\n  [1.0, 1.0, 1.0, 1.0, 1.0, 1.0, 1.0, 1.0, 1.0, 1.0, 1.0, 1.0, 1.0, 1.0, 1.0, 1.0, 1.0, 1.0, 1.0, 1.0, 1.0, 1.0, 1.0, 1.0, 1.0, 1.0, 1.0, 1.0, 1.0, 1.0, 1.0, 1.0, 1.0, 1.0, 1.0, 1.0, 1.0, 1.0, 1.0, 1.0, 1.0, 1.0, 1.0, 1.0, 1.0, 1.0, 1.0, 1.0, 1.0, 1.0, 1.0, 1.0, 1.0, 1.0, 1.0, 1.0, 1.0, 1.0, 1.0, 1.0, 1.0, 1.0, 1.0, 1.0]\\n  [1.0, 1.0, 1.0, 1.0, 1.0, 1.0, 1.0, 1.0, 1.0, 1.0, 1.0, 1.0, 1.0, 1.0, 1.0, 1.0, 1.0, 1.0, 1.0, 1.0, 1.0, 1.0, 1.0, 1.0, 1.0, 1.0, 1.0, 1.0, 1.0, 1.0, 1.0, 1.0, 1.0, 1.0, 1.0, 1.0, 1.0, 1.0, 1.0, 1.0, 1.0, 1.0, 1.0, 1.0, 1.0, 1.0, 1.0, 1.0, 1.0, 1.0, 1.0, 1.0, 1.0, 1.0, 1.0, 1.0, 1.0, 1.0, 1.0, 1.0, 1.0, 1.0, 1.0, 1.0]\\n  [1.0, 1.0, 1.0, 1.0, 1.0, 1.0, 1.0, 1.0, 1.0, 1.0, 1.0, 1.0, 1.0, 1.0, 1.0, 1.0, 1.0, 1.0, 1.0, 1.0, 1.0, 1.0, 1.0, 1.0, 1.0, 1.0, 1.0, 1.0, 1.0, 1.0, 1.0, 1.0, 1.0, 1.0, 1.0, 1.0, 1.0, 1.0, 1.0, 1.0, 1.0, 1.0, 1.0, 1.0, 1.0, 1.0, 1.0, 1.0, 1.0, 1.0, 1.0, 1.0, 1.0, 1.0, 1.0, 1.0, 1.0, 1.0, 1.0, 1.0, 1.0, 1.0, 1.0, 1.0]\\n  [1.0, 1.0, 1.0, 1.0, 1.0, 1.0, 1.0, 1.0, 1.0, 1.0, 1.0, 1.0, 1.0, 1.0, 1.0, 1.0, 1.0, 1.0, 1.0, 1.0, 1.0, 1.0, 1.0, 1.0, 1.0, 1.0, 1.0, 1.0, 1.0, 1.0, 1.0, 1.0, 1.0, 1.0, 1.0, 1.0, 1.0, 1.0, 1.0, 1.0, 1.0, 1.0, 1.0, 1.0, 1.0, 1.0, 1.0, 1.0, 1.0, 1.0, 1.0, 1.0, 1.0, 1.0, 1.0, 1.0, 1.0, 1.0, 1.0, 1.0, 1.0, 1.0, 1.0, 1.0]\\n  [1.0, 1.0, 1.0, 1.0, 1.0, 1.0, 1.0, 1.0, 1.0, 1.0, 1.0, 1.0, 1.0, 1.0, 1.0, 1.0, 1.0, 1.0, 1.0, 1.0, 1.0, 1.0, 1.0, 1.0, 1.0, 1.0, 1.0, 1.0, 1.0, 1.0, 1.0, 1.0, 1.0, 1.0, 1.0, 1.0, 1.0, 1.0, 1.0, 1.0, 1.0, 1.0, 1.0, 1.0, 1.0, 1.0, 1.0, 1.0, 1.0, 1.0, 1.0, 1.0, 1.0, 1.0, 1.0, 1.0, 1.0, 1.0, 1.0, 1.0, 1.0, 1.0, 1.0, 1.0]\\n  [1.0, 1.0, 1.0, 1.0, 1.0, 1.0, 1.0, 1.0, 1.0, 1.0, 1.0, 1.0, 1.0, 1.0, 1.0, 1.0, 1.0, 1.0, 1.0, 1.0, 1.0, 1.0, 1.0, 1.0, 1.0, 1.0, 1.0, 1.0, 1.0, 1.0, 1.0, 1.0, 1.0, 1.0, 1.0, 1.0, 1.0, 1.0, 1.0, 1.0, 1.0, 1.0, 1.0, 1.0, 1.0, 1.0, 1.0, 1.0, 1.0, 1.0, 1.0, 1.0, 1.0, 1.0, 1.0, 1.0, 1.0, 1.0, 1.0, 1.0, 1.0, 1.0, 1.0, 1.0]\\n  [1.0, 1.0, 1.0, 1.0, 1.0, 1.0, 1.0, 1.0, 1.0, 1.0, 1.0, 1.0, 1.0, 1.0, 1.0, 1.0, 1.0, 1.0, 1.0, 1.0, 1.0, 1.0, 1.0, 1.0, 1.0, 1.0, 1.0, 1.0, 1.0, 1.0, 1.0, 1.0, 1.0, 1.0, 1.0, 1.0, 1.0, 1.0, 1.0, 1.0, 1.0, 1.0, 1.0, 1.0, 1.0, 1.0, 1.0, 1.0, 1.0, 1.0, 1.0, 1.0, 1.0, 1.0, 1.0, 1.0, 1.0, 1.0, 1.0, 1.0, 1.0, 1.0, 1.0, 1.0]\\n  [1.0, 1.0, 1.0, 1.0, 1.0, 1.0, 1.0, 1.0, 1.0, 1.0, 1.0, 1.0, 1.0, 1.0, 1.0, 1.0, 1.0, 1.0, 1.0, 1.0, 1.0, 1.0, 1.0, 1.0, 1.0, 1.0, 1.0, 1.0, 1.0, 1.0, 1.0, 1.0, 1.0, 1.0, 1.0, 1.0, 1.0, 1.0, 1.0, 1.0, 1.0, 1.0, 1.0, 1.0, 1.0, 1.0, 1.0, 1.0, 1.0, 1.0, 1.0, 1.0, 1.0, 1.0, 1.0, 1.0, 1.0, 1.0, 1.0, 1.0, 1.0, 1.0, 1.0, 1.0]\\n  [1.0, 1.0, 1.0, 1.0, 1.0, 1.0, 1.0, 1.0, 1.0, 1.0, 1.0, 1.0, 1.0, 1.0, 1.0, 1.0, 1.0, 1.0, 1.0, 1.0, 1.0, 1.0, 1.0, 1.0, 1.0, 1.0, 1.0, 1.0, 1.0, 1.0, 1.0, 1.0, 1.0, 1.0, 1.0, 1.0, 1.0, 1.0, 1.0, 1.0, 1.0, 1.0, 1.0, 1.0, 1.0, 1.0, 1.0, 1.0, 1.0, 1.0, 1.0, 1.0, 1.0, 1.0, 1.0, 1.0, 1.0, 1.0, 1.0, 1.0, 1.0, 1.0, 1.0, 1.0]\\n  [1.0, 1.0, 1.0, 1.0, 1.0, 1.0, 1.0, 1.0, 1.0, 1.0, 1.0, 1.0, 1.0, 1.0, 1.0, 1.0, 1.0, 1.0, 1.0, 1.0, 1.0, 1.0, 1.0, 1.0, 1.0, 1.0, 1.0, 1.0, 1.0, 1.0, 1.0, 1.0, 1.0, 1.0, 1.0, 1.0, 1.0, 1.0, 1.0, 1.0, 1.0, 1.0, 1.0, 1.0, 1.0, 1.0, 1.0, 1.0, 1.0, 1.0, 1.0, 1.0, 1.0, 1.0, 1.0, 1.0, 1.0, 1.0, 1.0, 1.0, 1.0, 1.0, 1.0, 1.0]\\n  [1.0, 1.0, 1.0, 1.0, 1.0, 1.0, 1.0, 1.0, 1.0, 1.0, 1.0, 1.0, 1.0, 1.0, 1.0, 1.0, 1.0, 1.0, 1.0, 1.0, 1.0, 1.0, 1.0, 1.0, 1.0, 1.0, 1.0, 1.0, 1.0, 1.0, 1.0, 1.0, 1.0, 1.0, 1.0, 1.0, 1.0, 1.0, 1.0, 1.0, 1.0, 1.0, 1.0, 1.0, 1.0, 1.0, 1.0, 1.0, 1.0, 1.0, 1.0, 1.0, 1.0, 1.0, 1.0, 1.0, 1.0, 1.0, 1.0, 1.0, 1.0, 1.0, 1.0, 1.0]\\n  [1.0, 1.0, 1.0, 1.0, 1.0, 1.0, 1.0, 1.0, 1.0, 1.0, 1.0, 1.0, 1.0, 1.0, 1.0, 1.0, 1.0, 1.0, 1.0, 1.0, 1.0, 1.0, 1.0, 1.0, 1.0, 1.0, 1.0, 1.0, 1.0, 1.0, 1.0, 1.0, 1.0, 1.0, 1.0, 1.0, 1.0, 1.0, 1.0, 1.0, 1.0, 1.0, 1.0, 1.0, 1.0, 1.0, 1.0, 1.0, 1.0, 1.0, 1.0, 1.0, 1.0, 1.0, 1.0, 1.0, 1.0, 1.0, 1.0, 1.0, 1.0, 1.0, 1.0, 1.0]\\n  [1.0, 1.0, 1.0, 1.0, 1.0, 1.0, 1.0, 1.0, 1.0, 1.0, 1.0, 1.0, 1.0, 1.0, 1.0, 1.0, 1.0, 1.0, 1.0, 1.0, 1.0, 1.0, 1.0, 1.0, 1.0, 1.0, 1.0, 1.0, 1.0, 1.0, 1.0, 1.0, 1.0, 1.0, 1.0, 1.0, 1.0, 1.0, 1.0, 1.0, 1.0, 1.0, 1.0, 1.0, 1.0, 1.0, 1.0, 1.0, 1.0, 1.0, 1.0, 1.0, 1.0, 1.0, 1.0, 1.0, 1.0, 1.0, 1.0, 1.0, 1.0, 1.0, 1.0, 1.0]\\n  [1.0, 1.0, 1.0, 1.0, 1.0, 1.0, 1.0, 1.0, 1.0, 1.0, 1.0, 1.0, 1.0, 1.0, 1.0, 1.0, 1.0, 1.0, 1.0, 1.0, 1.0, 1.0, 1.0, 1.0, 1.0, 1.0, 1.0, 1.0, 1.0, 1.0, 1.0, 1.0, 1.0, 1.0, 1.0, 1.0, 1.0, 1.0, 1.0, 1.0, 1.0, 1.0, 1.0, 1.0, 1.0, 1.0, 1.0, 1.0, 1.0, 1.0, 1.0, 1.0, 1.0, 1.0, 1.0, 1.0, 1.0, 1.0, 1.0, 1.0, 1.0, 1.0, 1.0, 1.0]\\n  [1.0, 1.0, 1.0, 1.0, 1.0, 1.0, 1.0, 1.0, 1.0, 1.0, 1.0, 1.0, 1.0, 1.0, 1.0, 1.0, 1.0, 1.0, 1.0, 1.0, 1.0, 1.0, 1.0, 1.0, 1.0, 1.0, 1.0, 1.0, 1.0, 1.0, 1.0, 1.0, 1.0, 1.0, 1.0, 1.0, 1.0, 1.0, 1.0, 1.0, 1.0, 1.0, 1.0, 1.0, 1.0, 1.0, 1.0, 1.0, 1.0, 1.0, 1.0, 1.0, 1.0, 1.0, 1.0, 1.0, 1.0, 1.0, 1.0, 1.0, 1.0, 1.0, 1.0, 1.0]\\n  [1.0, 1.0, 1.0, 1.0, 1.0, 1.0, 1.0, 1.0, 1.0, 1.0, 1.0, 1.0, 1.0, 1.0, 1.0, 1.0, 1.0, 1.0, 1.0, 1.0, 1.0, 1.0, 1.0, 1.0, 1.0, 1.0, 1.0, 1.0, 1.0, 1.0, 1.0, 1.0, 1.0, 1.0, 1.0, 1.0, 1.0, 1.0, 1.0, 1.0, 1.0, 1.0, 1.0, 1.0, 1.0, 1.0, 1.0, 1.0, 1.0, 1.0, 1.0, 1.0, 1.0, 1.0, 1.0, 1.0, 1.0, 1.0, 1.0, 1.0, 1.0, 1.0, 1.0, 1.0]\\n  [1.0, 1.0, 1.0, 1.0, 1.0, 1.0, 1.0, 1.0, 1.0, 1.0, 1.0, 1.0, 1.0, 1.0, 1.0, 1.0, 1.0, 1.0, 1.0, 1.0, 1.0, 1.0, 1.0, 1.0, 1.0, 1.0, 1.0, 1.0, 1.0, 1.0, 1.0, 1.0, 1.0, 1.0, 1.0, 1.0, 1.0, 1.0, 1.0, 1.0, 1.0, 1.0, 1.0, 1.0, 1.0, 1.0, 1.0, 1.0, 1.0, 1.0, 1.0, 1.0, 1.0, 1.0, 1.0, 1.0, 1.0, 1.0, 1.0, 1.0, 1.0, 1.0, 1.0, 1.0]\\n  [1.0, 1.0, 1.0, 1.0, 1.0, 1.0, 1.0, 1.0, 1.0, 1.0, 1.0, 1.0, 1.0, 1.0, 1.0, 1.0, 1.0, 1.0, 1.0, 1.0, 1.0, 1.0, 1.0, 1.0, 1.0, 1.0, 1.0, 1.0, 1.0, 1.0, 1.0, 1.0, 1.0, 1.0, 1.0, 1.0, 1.0, 1.0, 1.0, 1.0, 1.0, 1.0, 1.0, 1.0, 1.0, 1.0, 1.0, 1.0, 1.0, 1.0, 1.0, 1.0, 1.0, 1.0, 1.0, 1.0, 1.0, 1.0, 1.0, 1.0, 1.0, 1.0, 1.0, 1.0]\\n  [1.0, 1.0, 1.0, 1.0, 1.0, 1.0, 1.0, 1.0, 1.0, 1.0, 1.0, 1.0, 1.0, 1.0, 1.0, 1.0, 1.0, 1.0, 1.0, 1.0, 1.0, 1.0, 1.0, 1.0, 1.0, 1.0, 1.0, 1.0, 1.0, 1.0, 1.0, 1.0, 1.0, 1.0, 1.0, 1.0, 1.0, 1.0, 1.0, 1.0, 1.0, 1.0, 1.0, 1.0, 1.0, 1.0, 1.0, 1.0, 1.0, 1.0, 1.0, 1.0, 1.0, 1.0, 1.0, 1.0, 1.0, 1.0, 1.0, 1.0, 1.0, 1.0, 1.0, 1.0]\\n  [1.0, 1.0, 1.0, 1.0, 1.0, 1.0, 1.0, 1.0, 1.0, 1.0, 1.0, 1.0, 1.0, 1.0, 1.0, 1.0, 1.0, 1.0, 1.0, 1.0, 1.0, 1.0, 1.0, 1.0, 1.0, 1.0, 1.0, 1.0, 1.0, 1.0, 1.0, 1.0, 1.0, 1.0, 1.0, 1.0, 1.0, 1.0, 1.0, 1.0, 1.0, 1.0, 1.0, 1.0, 1.0, 1.0, 1.0, 1.0, 1.0, 1.0, 1.0, 1.0, 1.0, 1.0, 1.0, 1.0, 1.0, 1.0, 1.0, 1.0, 1.0, 1.0, 1.0, 1.0]\\n  [1.0, 1.0, 1.0, 1.0, 1.0, 1.0, 1.0, 1.0, 1.0, 1.0, 1.0, 1.0, 1.0, 1.0, 1.0, 1.0, 1.0, 1.0, 1.0, 1.0, 1.0, 1.0, 1.0, 1.0, 1.0, 1.0, 1.0, 1.0, 1.0, 1.0, 1.0, 1.0, 1.0, 1.0, 1.0, 1.0, 1.0, 1.0, 1.0, 1.0, 1.0, 1.0, 1.0, 1.0, 1.0, 1.0, 1.0, 1.0, 1.0, 1.0, 1.0, 1.0, 1.0, 1.0, 1.0, 1.0, 1.0, 1.0, 1.0, 1.0, 1.0, 1.0, 1.0, 1.0]\\n  [1.0, 1.0, 1.0, 1.0, 1.0, 1.0, 1.0, 1.0, 1.0, 1.0, 1.0, 1.0, 1.0, 1.0, 1.0, 1.0, 1.0, 1.0, 1.0, 1.0, 1.0, 1.0, 1.0, 1.0, 1.0, 1.0, 1.0, 1.0, 1.0, 1.0, 1.0, 1.0, 1.0, 1.0, 1.0, 1.0, 1.0, 1.0, 1.0, 1.0, 1.0, 1.0, 1.0, 1.0, 1.0, 1.0, 1.0, 1.0, 1.0, 1.0, 1.0, 1.0, 1.0, 1.0, 1.0, 1.0, 1.0, 1.0, 1.0, 1.0, 1.0, 1.0, 1.0, 1.0]\\n  [1.0, 1.0, 1.0, 1.0, 1.0, 1.0, 1.0, 1.0, 1.0, 1.0, 1.0, 1.0, 1.0, 1.0, 1.0, 1.0, 1.0, 1.0, 1.0, 1.0, 1.0, 1.0, 1.0, 1.0, 1.0, 1.0, 1.0, 1.0, 1.0, 1.0, 1.0, 1.0, 1.0, 1.0, 1.0, 1.0, 1.0, 1.0, 1.0, 1.0, 1.0, 1.0, 1.0, 1.0, 1.0, 1.0, 1.0, 1.0, 1.0, 1.0, 1.0, 1.0, 1.0, 1.0, 1.0, 1.0, 1.0, 1.0, 1.0, 1.0, 1.0, 1.0, 1.0, 1.0]\\n  [1.0, 1.0, 1.0, 1.0, 1.0, 1.0, 1.0, 1.0, 1.0, 1.0, 1.0, 1.0, 1.0, 1.0, 1.0, 1.0, 1.0, 1.0, 1.0, 1.0, 1.0, 1.0, 1.0, 1.0, 1.0, 1.0, 1.0, 1.0, 1.0, 1.0, 1.0, 1.0, 1.0, 1.0, 1.0, 1.0, 1.0, 1.0, 1.0, 1.0, 1.0, 1.0, 1.0, 1.0, 1.0, 1.0, 1.0, 1.0, 1.0, 1.0, 1.0, 1.0, 1.0, 1.0, 1.0, 1.0, 1.0, 1.0, 1.0, 1.0, 1.0, 1.0, 1.0, 1.0]\\n  [1.0, 1.0, 1.0, 1.0, 1.0, 1.0, 1.0, 1.0, 1.0, 1.0, 1.0, 1.0, 1.0, 1.0, 1.0, 1.0, 1.0, 1.0, 1.0, 1.0, 1.0, 1.0, 1.0, 1.0, 1.0, 1.0, 1.0, 1.0, 1.0, 1.0, 1.0, 1.0, 1.0, 1.0, 1.0, 1.0, 1.0, 1.0, 1.0, 1.0, 1.0, 1.0, 1.0, 1.0, 1.0, 1.0, 1.0, 1.0, 1.0, 1.0, 1.0, 1.0, 1.0, 1.0, 1.0, 1.0, 1.0, 1.0, 1.0, 1.0, 1.0, 1.0, 1.0, 1.0]\\n  [1.0, 1.0, 1.0, 1.0, 1.0, 1.0, 1.0, 1.0, 1.0, 1.0, 1.0, 1.0, 1.0, 1.0, 1.0, 1.0, 1.0, 1.0, 1.0, 1.0, 1.0, 1.0, 1.0, 1.0, 1.0, 1.0, 1.0, 1.0, 1.0, 1.0, 1.0, 1.0, 1.0, 1.0, 1.0, 1.0, 1.0, 1.0, 1.0, 1.0, 1.0, 1.0, 1.0, 1.0, 1.0, 1.0, 1.0, 1.0, 1.0, 1.0, 1.0, 1.0, 1.0, 1.0, 1.0, 1.0, 1.0, 1.0, 1.0, 1.0, 1.0, 1.0, 1.0, 1.0]\\n  [1.0, 1.0, 1.0, 1.0, 1.0, 1.0, 1.0, 1.0, 1.0, 1.0, 1.0, 1.0, 1.0, 1.0, 1.0, 1.0, 1.0, 1.0, 1.0, 1.0, 1.0, 1.0, 1.0, 1.0, 1.0, 1.0, 1.0, 1.0, 1.0, 1.0, 1.0, 1.0, 1.0, 1.0, 1.0, 1.0, 1.0, 1.0, 1.0, 1.0, 1.0, 1.0, 1.0, 1.0, 1.0, 1.0, 1.0, 1.0, 1.0, 1.0, 1.0, 1.0, 1.0, 1.0, 1.0, 1.0, 1.0, 1.0, 1.0, 1.0, 1.0, 1.0, 1.0, 1.0]\\n  [1.0, 1.0, 1.0, 1.0, 1.0, 1.0, 1.0, 1.0, 1.0, 1.0, 1.0, 1.0, 1.0, 1.0, 1.0, 1.0, 1.0, 1.0, 1.0, 1.0, 1.0, 1.0, 1.0, 1.0, 1.0, 1.0, 1.0, 1.0, 1.0, 1.0, 1.0, 1.0, 1.0, 1.0, 1.0, 1.0, 1.0, 1.0, 1.0, 1.0, 1.0, 1.0, 1.0, 1.0, 1.0, 1.0, 1.0, 1.0, 1.0, 1.0, 1.0, 1.0, 1.0, 1.0, 1.0, 1.0, 1.0, 1.0, 1.0, 1.0, 1.0, 1.0, 1.0, 1.0]\\n  [1.0, 1.0, 1.0, 1.0, 1.0, 1.0, 1.0, 1.0, 1.0, 1.0, 1.0, 1.0, 1.0, 1.0, 1.0, 1.0, 1.0, 1.0, 1.0, 1.0, 1.0, 1.0, 1.0, 1.0, 1.0, 1.0, 1.0, 1.0, 1.0, 1.0, 1.0, 1.0, 1.0, 1.0, 1.0, 1.0, 1.0, 1.0, 1.0, 1.0, 1.0, 1.0, 1.0, 1.0, 1.0, 1.0, 1.0, 1.0, 1.0, 1.0, 1.0, 1.0, 1.0, 1.0, 1.0, 1.0, 1.0, 1.0, 1.0, 1.0, 1.0, 1.0, 1.0, 1.0]\\n  [1.0, 1.0, 1.0, 1.0, 1.0, 1.0, 1.0, 1.0, 1.0, 1.0, 1.0, 1.0, 1.0, 1.0, 1.0, 1.0, 1.0, 1.0, 1.0, 1.0, 1.0, 1.0, 1.0, 1.0, 1.0, 1.0, 1.0, 1.0, 1.0, 1.0, 1.0, 1.0, 1.0, 1.0, 1.0, 1.0, 1.0, 1.0, 1.0, 1.0, 1.0, 1.0, 1.0, 1.0, 1.0, 1.0, 1.0, 1.0, 1.0, 1.0, 1.0, 1.0, 1.0, 1.0, 1.0, 1.0, 1.0, 1.0, 1.0, 1.0, 1.0, 1.0, 1.0, 1.0]\\n  [1.0, 1.0, 1.0, 1.0, 1.0, 1.0, 1.0, 1.0, 1.0, 1.0, 1.0, 1.0, 1.0, 1.0, 1.0, 1.0, 1.0, 1.0, 1.0, 1.0, 1.0, 1.0, 1.0, 1.0, 1.0, 1.0, 1.0, 1.0, 1.0, 1.0, 1.0, 1.0, 1.0, 1.0, 1.0, 1.0, 1.0, 1.0, 1.0, 1.0, 1.0, 1.0, 1.0, 1.0, 1.0, 1.0, 1.0, 1.0, 1.0, 1.0, 1.0, 1.0, 1.0, 1.0, 1.0, 1.0, 1.0, 1.0, 1.0, 1.0, 1.0, 1.0, 1.0, 1.0]\\n  [1.0, 1.0, 1.0, 1.0, 1.0, 1.0, 1.0, 1.0, 1.0, 1.0, 1.0, 1.0, 1.0, 1.0, 1.0, 1.0, 1.0, 1.0, 1.0, 1.0, 1.0, 1.0, 1.0, 1.0, 1.0, 1.0, 1.0, 1.0, 1.0, 1.0, 1.0, 1.0, 1.0, 1.0, 1.0, 1.0, 1.0, 1.0, 1.0, 1.0, 1.0, 1.0, 1.0, 1.0, 1.0, 1.0, 1.0, 1.0, 1.0, 1.0, 1.0, 1.0, 1.0, 1.0, 1.0, 1.0, 1.0, 1.0, 1.0, 1.0, 1.0, 1.0, 1.0, 1.0]\\n  [1.0, 1.0, 1.0, 1.0, 1.0, 1.0, 1.0, 1.0, 1.0, 1.0, 1.0, 1.0, 1.0, 1.0, 1.0, 1.0, 1.0, 1.0, 1.0, 1.0, 1.0, 1.0, 1.0, 1.0, 1.0, 1.0, 1.0, 1.0, 1.0, 1.0, 1.0, 1.0, 1.0, 1.0, 1.0, 1.0, 1.0, 1.0, 1.0, 1.0, 1.0, 1.0, 1.0, 1.0, 1.0, 1.0, 1.0, 1.0, 1.0, 1.0, 1.0, 1.0, 1.0, 1.0, 1.0, 1.0, 1.0, 1.0, 1.0, 1.0, 1.0, 1.0, 1.0, 1.0]\\n  [1.0, 1.0, 1.0, 1.0, 1.0, 1.0, 1.0, 1.0, 1.0, 1.0, 1.0, 1.0, 1.0, 1.0, 1.0, 1.0, 1.0, 1.0, 1.0, 1.0, 1.0, 1.0, 1.0, 1.0, 1.0, 1.0, 1.0, 1.0, 1.0, 1.0, 1.0, 1.0, 1.0, 1.0, 1.0, 1.0, 1.0, 1.0, 1.0, 1.0, 1.0, 1.0, 1.0, 1.0, 1.0, 1.0, 1.0, 1.0, 1.0, 1.0, 1.0, 1.0, 1.0, 1.0, 1.0, 1.0, 1.0, 1.0, 1.0, 1.0, 1.0, 1.0, 1.0, 1.0]\\n  [1.0, 1.0, 1.0, 1.0, 1.0, 1.0, 1.0, 1.0, 1.0, 1.0, 1.0, 1.0, 1.0, 1.0, 1.0, 1.0, 1.0, 1.0, 1.0, 1.0, 1.0, 1.0, 1.0, 1.0, 1.0, 1.0, 1.0, 1.0, 1.0, 1.0, 1.0, 1.0, 1.0, 1.0, 1.0, 1.0, 1.0, 1.0, 1.0, 1.0, 1.0, 1.0, 1.0, 1.0, 1.0, 1.0, 1.0, 1.0, 1.0, 1.0, 1.0, 1.0, 1.0, 1.0, 1.0, 1.0, 1.0, 1.0, 1.0, 1.0, 1.0, 1.0, 1.0, 1.0]\\n  [1.0, 1.0, 1.0, 1.0, 1.0, 1.0, 1.0, 1.0, 1.0, 1.0, 1.0, 1.0, 1.0, 1.0, 1.0, 1.0, 1.0, 1.0, 1.0, 1.0, 1.0, 1.0, 1.0, 1.0, 1.0, 1.0, 1.0, 1.0, 1.0, 1.0, 1.0, 1.0, 1.0, 1.0, 1.0, 1.0, 1.0, 1.0, 1.0, 1.0, 1.0, 1.0, 1.0, 1.0, 1.0, 1.0, 1.0, 1.0, 1.0, 1.0, 1.0, 1.0, 1.0, 1.0, 1.0, 1.0, 1.0, 1.0, 1.0, 1.0, 1.0, 1.0, 1.0, 1.0]\\n  [1.0, 1.0, 1.0, 1.0, 1.0, 1.0, 1.0, 1.0, 1.0, 1.0, 1.0, 1.0, 1.0, 1.0, 1.0, 1.0, 1.0, 1.0, 1.0, 1.0, 1.0, 1.0, 1.0, 1.0, 1.0, 1.0, 1.0, 1.0, 1.0, 1.0, 1.0, 1.0, 1.0, 1.0, 1.0, 1.0, 1.0, 1.0, 1.0, 1.0, 1.0, 1.0, 1.0, 1.0, 1.0, 1.0, 1.0, 1.0, 1.0, 1.0, 1.0, 1.0, 1.0, 1.0, 1.0, 1.0, 1.0, 1.0, 1.0, 1.0, 1.0, 1.0, 1.0, 1.0]\\n  [1.0, 1.0, 1.0, 1.0, 1.0, 1.0, 1.0, 1.0, 1.0, 1.0, 1.0, 1.0, 1.0, 1.0, 1.0, 1.0, 1.0, 1.0, 1.0, 1.0, 1.0, 1.0, 1.0, 1.0, 1.0, 1.0, 1.0, 1.0, 1.0, 1.0, 1.0, 1.0, 1.0, 1.0, 1.0, 1.0, 1.0, 1.0, 1.0, 1.0, 1.0, 1.0, 1.0, 1.0, 1.0, 1.0, 1.0, 1.0, 1.0, 1.0, 1.0, 1.0, 1.0, 1.0, 1.0, 1.0, 1.0, 1.0, 1.0, 1.0, 1.0, 1.0, 1.0, 1.0]\\n  [1.0, 1.0, 1.0, 1.0, 1.0, 1.0, 1.0, 1.0, 1.0, 1.0, 1.0, 1.0, 1.0, 1.0, 1.0, 1.0, 1.0, 1.0, 1.0, 1.0, 1.0, 1.0, 1.0, 1.0, 1.0, 1.0, 1.0, 1.0, 1.0, 1.0, 1.0, 1.0, 1.0, 1.0, 1.0, 1.0, 1.0, 1.0, 1.0, 1.0, 1.0, 1.0, 1.0, 1.0, 1.0, 1.0, 1.0, 1.0, 1.0, 1.0, 1.0, 1.0, 1.0, 1.0, 1.0, 1.0, 1.0, 1.0, 1.0, 1.0, 1.0, 1.0, 1.0, 1.0]\\n  [1.0, 1.0, 1.0, 1.0, 1.0, 1.0, 1.0, 1.0, 1.0, 1.0, 1.0, 1.0, 1.0, 1.0, 1.0, 1.0, 1.0, 1.0, 1.0, 1.0, 1.0, 1.0, 1.0, 1.0, 1.0, 1.0, 1.0, 1.0, 1.0, 1.0, 1.0, 1.0, 1.0, 1.0, 1.0, 1.0, 1.0, 1.0, 1.0, 1.0, 1.0, 1.0, 1.0, 1.0, 1.0, 1.0, 1.0, 1.0, 1.0, 1.0, 1.0, 1.0, 1.0, 1.0, 1.0, 1.0, 1.0, 1.0, 1.0, 1.0, 1.0, 1.0, 1.0, 1.0]\\n  [1.0, 1.0, 1.0, 1.0, 1.0, 1.0, 1.0, 1.0, 1.0, 1.0, 1.0, 1.0, 1.0, 1.0, 1.0, 1.0, 1.0, 1.0, 1.0, 1.0, 1.0, 1.0, 1.0, 1.0, 1.0, 1.0, 1.0, 1.0, 1.0, 1.0, 1.0, 1.0, 1.0, 1.0, 1.0, 1.0, 1.0, 1.0, 1.0, 1.0, 1.0, 1.0, 1.0, 1.0, 1.0, 1.0, 1.0, 1.0, 1.0, 1.0, 1.0, 1.0, 1.0, 1.0, 1.0, 1.0, 1.0, 1.0, 1.0, 1.0, 1.0, 1.0, 1.0, 1.0]\\n  [1.0, 1.0, 1.0, 1.0, 1.0, 1.0, 1.0, 1.0, 1.0, 1.0, 1.0, 1.0, 1.0, 1.0, 1.0, 1.0, 1.0, 1.0, 1.0, 1.0, 1.0, 1.0, 1.0, 1.0, 1.0, 1.0, 1.0, 1.0, 1.0, 1.0, 1.0, 1.0, 1.0, 1.0, 1.0, 1.0, 1.0, 1.0, 1.0, 1.0, 1.0, 1.0, 1.0, 1.0, 1.0, 1.0, 1.0, 1.0, 1.0, 1.0, 1.0, 1.0, 1.0, 1.0, 1.0, 1.0, 1.0, 1.0, 1.0, 1.0, 1.0, 1.0, 1.0, 1.0]\\n  [1.0, 1.0, 1.0, 1.0, 1.0, 1.0, 1.0, 1.0, 1.0, 1.0, 1.0, 1.0, 1.0, 1.0, 1.0, 1.0, 1.0, 1.0, 1.0, 1.0, 1.0, 1.0, 1.0, 1.0, 1.0, 1.0, 1.0, 1.0, 1.0, 1.0, 1.0, 1.0, 1.0, 1.0, 1.0, 1.0, 1.0, 1.0, 1.0, 1.0, 1.0, 1.0, 1.0, 1.0, 1.0, 1.0, 1.0, 1.0, 1.0, 1.0, 1.0, 1.0, 1.0, 1.0, 1.0, 1.0, 1.0, 1.0, 1.0, 1.0, 1.0, 1.0, 1.0, 1.0]', 'x': 31, 'y': 31, 'center': [31, 31]}\n"
     ]
    }
   ],
   "source": [
    "print(kernel.getInfo())"
   ]
  },
  {
   "cell_type": "markdown",
   "id": "6958d255",
   "metadata": {},
   "source": [
    "Utilizando el kernel, podremos realizar la transformación de la imagen."
   ]
  },
  {
   "cell_type": "code",
   "execution_count": 78,
   "id": "ce39dfcb",
   "metadata": {},
   "outputs": [],
   "source": [
    "img_final = img_norm.neighborhoodToArray(kernel, 0)"
   ]
  },
  {
   "cell_type": "markdown",
   "id": "50c6ae5d",
   "metadata": {},
   "source": [
    "Finalmente seleccionaremos las variables predictoras, que formarán parte de la exportación y entrenamiento."
   ]
  },
  {
   "cell_type": "code",
   "execution_count": 89,
   "id": "8f92806f",
   "metadata": {},
   "outputs": [],
   "source": [
    "featureNames = ['b1_normalized', 'b2_normalized', 'b3_normalized', 'b4_normalized', 'ndvi', 'class']"
   ]
  },
  {
   "cell_type": "code",
   "execution_count": 80,
   "id": "95236895",
   "metadata": {},
   "outputs": [],
   "source": [
    "img_final = img_final.select(featureNames)"
   ]
  },
  {
   "cell_type": "code",
   "execution_count": 81,
   "id": "7eb62e82",
   "metadata": {},
   "outputs": [
    {
     "name": "stdout",
     "output_type": "stream",
     "text": [
      "['b1_normalized', 'b2_normalized', 'b3_normalized', 'b4_normalized', 'ndvi', 'class']\n"
     ]
    }
   ],
   "source": [
    "print(img_final.bandNames().getInfo())"
   ]
  },
  {
   "cell_type": "markdown",
   "id": "9084d952",
   "metadata": {},
   "source": [
    "[Volver al contenido](#Contenido)"
   ]
  },
  {
   "cell_type": "markdown",
   "id": "b63599a2",
   "metadata": {},
   "source": [
    "---"
   ]
  },
  {
   "cell_type": "markdown",
   "id": "7df1660b",
   "metadata": {},
   "source": [
    "## 4. Exportación de datos"
   ]
  },
  {
   "cell_type": "markdown",
   "id": "1988aefa",
   "metadata": {},
   "source": [
    "Antes de realizar la exportación, se deben definir aquellos polígonos que se utilizarán como entrenamiento (70%), validación (20%) y prueba (10%).  \n",
    "Para ello se utiliza la función `randomColumn()`"
   ]
  },
  {
   "cell_type": "code",
   "execution_count": 82,
   "id": "fdae2a9e",
   "metadata": {},
   "outputs": [
    {
     "name": "stdout",
     "output_type": "stream",
     "text": [
      "{'type': 'Feature', 'geometry': {'type': 'Polygon', 'coordinates': [[[-74.20131834249987, -9.646241075424708], [-74.20131395355791, -9.646245561421832], [-74.20130938547537, -9.646245677105858], [-74.20130490696295, -9.646245714675706], [-74.20130042845042, -9.64624575224548], [-74.20129586036754, -9.646245867929274], [-74.20129138185479, -9.6462459054989], [-74.20128681377167, -9.646241494641858], [-74.20128224568846, -9.64623708378515], [-74.20128215611818, -9.64623263535913], [-74.20128663463116, -9.646228071249496], [-74.20128654506091, -9.646223622823896], [-74.20129102357377, -9.646223585253951], [-74.20130007016941, -9.646223431999763], [-74.20130454868195, -9.646223394429596], [-74.20130911676462, -9.646223278745268], [-74.20131816335939, -9.646227652030708], [-74.20131825292962, -9.646232100457091], [-74.20131834249987, -9.646241075424708]]]}, 'id': '00000000000000000000', 'properties': {'class': 1, 'id': 24, 'imgID': 'Skysat_20201017_ssc2_150055', 'random': 0.16433057614412483, 'tipo': 'tala', 'type': 'Polygon'}}\n"
     ]
    }
   ],
   "source": [
    "pols_final = pols.randomColumn()\n",
    "print(pols_final.first().getInfo())"
   ]
  },
  {
   "cell_type": "markdown",
   "id": "df83584b",
   "metadata": {},
   "source": [
    "Podemos observar que el primer polígonos ahora tiene un atributo adicional llamado \"Random\", el cual servirá para definir aquellos datos de entrenamiento, validación y prueba.  \n",
    "Utilizando el valor del atributo creado, dividiremos el conjunto de datos."
   ]
  },
  {
   "cell_type": "code",
   "execution_count": 83,
   "id": "b84efde3",
   "metadata": {},
   "outputs": [],
   "source": [
    "training_pols = pols_final.filter(ee.Filter.lt('random', 0.7))\n",
    "validation_pols = pols_final.filter(ee.Filter.gte('random', 0.7)).filter(ee.Filter.lt('random', 0.9))\n",
    "testing_pols = pols_final.filter(ee.Filter.gte('random', 0.9))"
   ]
  },
  {
   "cell_type": "markdown",
   "id": "5c5b49d2",
   "metadata": {},
   "source": [
    "Podemos verificar la cantidad de polígonos de entrenamiento, validación y prueba."
   ]
  },
  {
   "cell_type": "code",
   "execution_count": 84,
   "id": "a3319fcc",
   "metadata": {
    "scrolled": true
   },
   "outputs": [
    {
     "name": "stdout",
     "output_type": "stream",
     "text": [
      "168\n",
      "48\n",
      "30\n"
     ]
    }
   ],
   "source": [
    "print(training_pols.size().getInfo())\n",
    "print(validation_pols.size().getInfo())\n",
    "print(testing_pols.size().getInfo())"
   ]
  },
  {
   "cell_type": "markdown",
   "id": "a6e59f4e",
   "metadata": {},
   "source": [
    "Crearemos listas en las que se incluirán los polígonos."
   ]
  },
  {
   "cell_type": "code",
   "execution_count": 86,
   "id": "831b15d6",
   "metadata": {},
   "outputs": [],
   "source": [
    "trainingList = training_pols.toList(training_pols.size())\n",
    "validationList = validation_pols.toList(validation_pols.size())\n",
    "testingList = testing_pols.toList(testing_pols.size())"
   ]
  },
  {
   "cell_type": "markdown",
   "id": "6d6b8c63",
   "metadata": {},
   "source": [
    "Por último, se realiza la exportación de los datos al **Google Cloud Platform**  (también se pueden exportar a Google Drive o a un asset). Se utilizará un bucle para exportar cada polígono en cada archivo por separado. Utilizaremos la función `for` para ello."
   ]
  },
  {
   "cell_type": "code",
   "execution_count": 95,
   "id": "839b9219",
   "metadata": {},
   "outputs": [
    {
     "name": "stdout",
     "output_type": "stream",
     "text": [
      "Datos de validación exportados\n",
      "Datos de prueba exportados\n"
     ]
    }
   ],
   "source": [
    "for i in range(training_pols.size().getInfo()):\n",
    "    sample = img_final.sample(\n",
    "        region = ee.Feature(trainingList.get(i)).geometry(),\n",
    "        scale = 0.5,\n",
    "        numPixels = 1,\n",
    "        seed = i,\n",
    "        tileScale = 8\n",
    "    )\n",
    "    trainingTask = ee.batch.Export.table.toCloudStorage(\n",
    "        collection = sample,\n",
    "        description = 'train_' + str(i),\n",
    "        bucket = 'colaboraton-logging',\n",
    "        fileNamePrefix = 'train_' + str(i),\n",
    "        fileFormat = 'TFRecord',\n",
    "        selectors = featureNames\n",
    "    )\n",
    "    trainingTask.start()\n",
    "print('Datos de entrenamiento exportados')\n",
    "\n",
    "for i in range(validation_pols.size().getInfo()):\n",
    "    sample = img_final.sample(\n",
    "        region = ee.Feature(validationList.get(i)).geometry(),\n",
    "        scale = 0.5,\n",
    "        numPixels = 1,\n",
    "        seed = i,\n",
    "        tileScale = 8\n",
    "    )\n",
    "    validationTask = ee.batch.Export.table.toCloudStorage(\n",
    "        collection = sample,\n",
    "        description = 'validation_' + str(i),\n",
    "        bucket = 'colaboraton-logging',\n",
    "        fileNamePrefix = 'validation_' + str(i),\n",
    "        fileFormat = 'TFRecord',\n",
    "        selectors = featureNames\n",
    "    )\n",
    "    validationTask.start()\n",
    "print('Datos de validación exportados')\n",
    "\n",
    "for i in range(testing_pols.size().getInfo()):\n",
    "    sample = img_final.sample(\n",
    "        region = ee.Feature(testingList.get(i)).geometry(),\n",
    "        scale = 0.5,\n",
    "        numPixels = 1,\n",
    "        seed = i,\n",
    "        tileScale = 8\n",
    "    )\n",
    "    testingTask = ee.batch.Export.table.toCloudStorage(\n",
    "        collection = sample,\n",
    "        description = 'testing_' + str(i),\n",
    "        bucket = 'colaboraton-logging',\n",
    "        fileNamePrefix = 'testing_' + str(i),\n",
    "        fileFormat = 'TFRecord',\n",
    "        selectors = featureNames\n",
    "    )\n",
    "    testingTask.start()\n",
    "print('Datos de prueba exportados')"
   ]
  },
  {
   "cell_type": "markdown",
   "id": "3628e93d",
   "metadata": {},
   "source": [
    "Procederemos a verificar el estado de exportación de los archivos en nuestro bucket del **Google Cloud Storage**"
   ]
  },
  {
   "cell_type": "code",
   "execution_count": 98,
   "id": "5fa881e2",
   "metadata": {},
   "outputs": [
    {
     "name": "stdout",
     "output_type": "stream",
     "text": [
      "gs://rtc-asf/train_0.tfrecord.gz\n",
      "gs://rtc-asf/train_1.tfrecord.gz\n",
      "gs://rtc-asf/train_10.tfrecord.gz\n",
      "gs://rtc-asf/train_100.tfrecord.gz\n",
      "gs://rtc-asf/train_101.tfrecord.gz\n",
      "gs://rtc-asf/train_102.tfrecord.gz\n",
      "gs://rtc-asf/train_11.tfrecord.gz\n",
      "gs://rtc-asf/train_12.tfrecord.gz\n",
      "gs://rtc-asf/train_13.tfrecord.gz\n",
      "gs://rtc-asf/train_14.tfrecord.gz\n",
      "gs://rtc-asf/train_15.tfrecord.gz\n",
      "gs://rtc-asf/train_16.tfrecord.gz\n",
      "gs://rtc-asf/train_17.tfrecord.gz\n",
      "gs://rtc-asf/train_18.tfrecord.gz\n",
      "gs://rtc-asf/train_19.tfrecord.gz\n",
      "gs://rtc-asf/train_2.tfrecord.gz\n",
      "gs://rtc-asf/train_20.tfrecord.gz\n",
      "gs://rtc-asf/train_21.tfrecord.gz\n",
      "gs://rtc-asf/train_22.tfrecord.gz\n",
      "gs://rtc-asf/train_23.tfrecord.gz\n",
      "gs://rtc-asf/train_24.tfrecord.gz\n",
      "gs://rtc-asf/train_25.tfrecord.gz\n",
      "gs://rtc-asf/train_26.tfrecord.gz\n",
      "gs://rtc-asf/train_27.tfrecord.gz\n",
      "gs://rtc-asf/train_28.tfrecord.gz\n",
      "gs://rtc-asf/train_29.tfrecord.gz\n",
      "gs://rtc-asf/train_3.tfrecord.gz\n",
      "gs://rtc-asf/train_30.tfrecord.gz\n",
      "gs://rtc-asf/train_31.tfrecord.gz\n",
      "gs://rtc-asf/train_32.tfrecord.gz\n",
      "gs://rtc-asf/train_33.tfrecord.gz\n",
      "gs://rtc-asf/train_34.tfrecord.gz\n",
      "gs://rtc-asf/train_35.tfrecord.gz\n",
      "gs://rtc-asf/train_36.tfrecord.gz\n",
      "gs://rtc-asf/train_37.tfrecord.gz\n",
      "gs://rtc-asf/train_38.tfrecord.gz\n",
      "gs://rtc-asf/train_39.tfrecord.gz\n",
      "gs://rtc-asf/train_4.tfrecord.gz\n",
      "gs://rtc-asf/train_40.tfrecord.gz\n",
      "gs://rtc-asf/train_41.tfrecord.gz\n",
      "gs://rtc-asf/train_42.tfrecord.gz\n",
      "gs://rtc-asf/train_43.tfrecord.gz\n",
      "gs://rtc-asf/train_44.tfrecord.gz\n",
      "gs://rtc-asf/train_45.tfrecord.gz\n",
      "gs://rtc-asf/train_46.tfrecord.gz\n",
      "gs://rtc-asf/train_47.tfrecord.gz\n",
      "gs://rtc-asf/train_48.tfrecord.gz\n",
      "gs://rtc-asf/train_49.tfrecord.gz\n",
      "gs://rtc-asf/train_5.tfrecord.gz\n",
      "gs://rtc-asf/train_50.tfrecord.gz\n",
      "gs://rtc-asf/train_51.tfrecord.gz\n",
      "gs://rtc-asf/train_52.tfrecord.gz\n",
      "gs://rtc-asf/train_53.tfrecord.gz\n",
      "gs://rtc-asf/train_54.tfrecord.gz\n",
      "gs://rtc-asf/train_55.tfrecord.gz\n",
      "gs://rtc-asf/train_56.tfrecord.gz\n",
      "gs://rtc-asf/train_57.tfrecord.gz\n",
      "gs://rtc-asf/train_58.tfrecord.gz\n",
      "gs://rtc-asf/train_59.tfrecord.gz\n",
      "gs://rtc-asf/train_6.tfrecord.gz\n",
      "gs://rtc-asf/train_60.tfrecord.gz\n",
      "gs://rtc-asf/train_61.tfrecord.gz\n",
      "gs://rtc-asf/train_62.tfrecord.gz\n",
      "gs://rtc-asf/train_63.tfrecord.gz\n",
      "gs://rtc-asf/train_64.tfrecord.gz\n",
      "gs://rtc-asf/train_65.tfrecord.gz\n",
      "gs://rtc-asf/train_66.tfrecord.gz\n",
      "gs://rtc-asf/train_67.tfrecord.gz\n",
      "gs://rtc-asf/train_68.tfrecord.gz\n",
      "gs://rtc-asf/train_69.tfrecord.gz\n",
      "gs://rtc-asf/train_7.tfrecord.gz\n",
      "gs://rtc-asf/train_70.tfrecord.gz\n",
      "gs://rtc-asf/train_71.tfrecord.gz\n",
      "gs://rtc-asf/train_72.tfrecord.gz\n",
      "gs://rtc-asf/train_73.tfrecord.gz\n",
      "gs://rtc-asf/train_74.tfrecord.gz\n",
      "gs://rtc-asf/train_75.tfrecord.gz\n",
      "gs://rtc-asf/train_76.tfrecord.gz\n",
      "gs://rtc-asf/train_77.tfrecord.gz\n",
      "gs://rtc-asf/train_78.tfrecord.gz\n",
      "gs://rtc-asf/train_79.tfrecord.gz\n",
      "gs://rtc-asf/train_8.tfrecord.gz\n",
      "gs://rtc-asf/train_80.tfrecord.gz\n",
      "gs://rtc-asf/train_81.tfrecord.gz\n",
      "gs://rtc-asf/train_82.tfrecord.gz\n",
      "gs://rtc-asf/train_83.tfrecord.gz\n",
      "gs://rtc-asf/train_84.tfrecord.gz\n",
      "gs://rtc-asf/train_85.tfrecord.gz\n",
      "gs://rtc-asf/train_86.tfrecord.gz\n",
      "gs://rtc-asf/train_87.tfrecord.gz\n",
      "gs://rtc-asf/train_88.tfrecord.gz\n",
      "gs://rtc-asf/train_89.tfrecord.gz\n",
      "gs://rtc-asf/train_9.tfrecord.gz\n",
      "gs://rtc-asf/train_90.tfrecord.gz\n",
      "gs://rtc-asf/train_91.tfrecord.gz\n",
      "gs://rtc-asf/train_92.tfrecord.gz\n",
      "gs://rtc-asf/train_93.tfrecord.gz\n",
      "gs://rtc-asf/train_94.tfrecord.gz\n",
      "gs://rtc-asf/train_95.tfrecord.gz\n",
      "gs://rtc-asf/train_96.tfrecord.gz\n",
      "gs://rtc-asf/train_97.tfrecord.gz\n",
      "gs://rtc-asf/train_98.tfrecord.gz\n",
      "gs://rtc-asf/train_99.tfrecord.gz\n"
     ]
    }
   ],
   "source": [
    "!gsutil ls gs://colaboraton-logging/*.gz"
   ]
  },
  {
   "cell_type": "markdown",
   "id": "b99cdf53",
   "metadata": {},
   "source": [
    "[Volver al contenido](#Contenido)"
   ]
  },
  {
   "cell_type": "markdown",
   "id": "38857af7",
   "metadata": {},
   "source": [
    "---"
   ]
  }
 ],
 "metadata": {
  "kernelspec": {
   "display_name": "Python 3 (ipykernel)",
   "language": "python",
   "name": "python3"
  },
  "language_info": {
   "codemirror_mode": {
    "name": "ipython",
    "version": 3
   },
   "file_extension": ".py",
   "mimetype": "text/x-python",
   "name": "python",
   "nbconvert_exporter": "python",
   "pygments_lexer": "ipython3",
   "version": "3.10.8"
  }
 },
 "nbformat": 4,
 "nbformat_minor": 5
}
