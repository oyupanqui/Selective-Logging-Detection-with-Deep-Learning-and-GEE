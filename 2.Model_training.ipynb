{
 "cells": [
  {
   "cell_type": "markdown",
   "id": "66bf9506",
   "metadata": {},
   "source": [
    "# Selective Logging Detection with Deep Learning and GEE"
   ]
  },
  {
   "cell_type": "markdown",
   "id": "1cf8d60b",
   "metadata": {},
   "source": [
    "## Contenido\n",
    "\n",
    "1. [Obtención de datos](#1.-Obtención-de-datos)\n",
    "2. [Visualización de datos](#2.-Visualización-de-datos)\n",
    "3. [Procesamiento de datos](#3.-Procesamiento-de-datos)  \n",
    "    3.1 [Definición de variables](#3.1-Definición-de-variables)  \n",
    "    3.2 [Crear TFRecordDataset](#3.2-Crear-TFRecordDataset)\n",
    "4. [Deep Learning](#4.-Deep-Learning)  \n",
    "    4.1 [Construcción del modelo](#4.1-Construcción-del-modelo)  \n",
    "    4.2 [Entrenamiento del modelo](#4.2-Entrenamiento-del-modelo)  \n",
    "    4.3 [Evaluación del modelo](#4.3-Evaluación-del-modelo)  \n",
    "    4.4 [Guardar el modelo](#4.4-Guardar-el-modelo)  \n",
    "5. [Transformar el modelo a GEE](#5.-Transformar-el-modelo-a-GEE)"
   ]
  },
  {
   "cell_type": "markdown",
   "id": "d5246c90",
   "metadata": {},
   "source": [
    "---"
   ]
  },
  {
   "cell_type": "markdown",
   "id": "85035b1e",
   "metadata": {},
   "source": [
    "## 1. Obtención de datos"
   ]
  },
  {
   "attachments": {},
   "cell_type": "markdown",
   "id": "74033cb4",
   "metadata": {},
   "source": [
    "Al igual que el notebook anterior, autorizamos a Google Colab a que opere el Google Cloud Storage. "
   ]
  },
  {
   "cell_type": "code",
   "execution_count": null,
   "id": "e8adb82a",
   "metadata": {},
   "outputs": [],
   "source": [
    "from google.colab import auth\n",
    "auth.authenticate_user()"
   ]
  },
  {
   "attachments": {},
   "cell_type": "markdown",
   "id": "b3f5cc86",
   "metadata": {},
   "source": [
    "Verificamos el acceso a nuestro bucket del Google Cloud Storage."
   ]
  },
  {
   "cell_type": "code",
   "execution_count": 2,
   "id": "80e40572",
   "metadata": {
    "scrolled": true
   },
   "outputs": [
    {
     "name": "stdout",
     "output_type": "stream",
     "text": [
      "gs://colaboraton-logging/\n",
      "gs://logging-dataset/\n",
      "gs://logging-roads-dataset/\n",
      "gs://mining-infrastructure-dataset/\n",
      "gs://modis-suomi/\n",
      "gs://nicfi/\n",
      "gs://rtc-asf/\n",
      "gs://s5p/\n",
      "gs://skysat-acca/\n"
     ]
    },
    {
     "name": "stderr",
     "output_type": "stream",
     "text": [
      "Updated property [core/project].\n"
     ]
    }
   ],
   "source": [
    "project_id = 'deeplearning-306718'\n",
    "!gcloud config set project {project_id}\n",
    "!gsutil ls"
   ]
  },
  {
   "attachments": {},
   "cell_type": "markdown",
   "id": "b2908691",
   "metadata": {},
   "source": [
    "Crearemos una carpeta donde almacenaremos los datos."
   ]
  },
  {
   "cell_type": "code",
   "execution_count": null,
   "id": "5b55a234",
   "metadata": {},
   "outputs": [],
   "source": [
    "!mkdir logging_dataset"
   ]
  },
  {
   "cell_type": "markdown",
   "id": "7447b38b",
   "metadata": {},
   "source": [
    "Con los siguientes comandos estaremos copiando los datos subidos del Google Cloud Storage a nuestra computadora local.  \n",
    "Utilizar la opción `-m` permite realizar esta operación de manera multiparalela, es decir, agilizamos la descarga de numerosos archivos."
   ]
  },
  {
   "cell_type": "code",
   "execution_count": 2,
   "id": "13ae7075",
   "metadata": {
    "scrolled": true
   },
   "outputs": [],
   "source": [
    "!gsutil -m cp gs://colaboraton-logging/*.gz logging_dataset"
   ]
  },
  {
   "attachments": {},
   "cell_type": "markdown",
   "id": "fc6c9464",
   "metadata": {},
   "source": [
    "También importaremos algunas librerías que contribuirán con el entrenamiento del modelo. Este notebook utilizará la versión 2.9.0 de tensorflow."
   ]
  },
  {
   "cell_type": "code",
   "execution_count": 3,
   "id": "60a5c22f",
   "metadata": {},
   "outputs": [
    {
     "name": "stdout",
     "output_type": "stream",
     "text": [
      "gs://colaboraton-logging/\n",
      "gs://logging-dataset/\n",
      "gs://logging-roads-dataset/\n",
      "gs://mining-infrastructure-dataset/\n",
      "gs://modis-suomi/\n",
      "gs://nicfi/\n",
      "gs://rtc-asf/\n",
      "gs://s5p/\n",
      "gs://skysat-acca/\n",
      "2.9.2\n"
     ]
    }
   ],
   "source": [
    "!pip install tensorflow==2.9\n",
    "import tensorflow as tf\n",
    "print(tf.__version__)"
   ]
  },
  {
   "cell_type": "markdown",
   "id": "ddc2233d",
   "metadata": {},
   "source": [
    "Numpy es otra librería importante, que utiliza también TensorFlow, que permite realizar operaciones con tensores y matrices.  \n",
    "Esta librería también será importada."
   ]
  },
  {
   "cell_type": "code",
   "execution_count": 4,
   "id": "72308b63",
   "metadata": {},
   "outputs": [],
   "source": [
    "import numpy as np"
   ]
  },
  {
   "cell_type": "markdown",
   "id": "3f056b71",
   "metadata": {},
   "source": [
    "Utilizaremos también matplotlib, para la visualización de los datos."
   ]
  },
  {
   "cell_type": "code",
   "execution_count": 5,
   "id": "19a9af8f",
   "metadata": {},
   "outputs": [],
   "source": [
    "import matplotlib.pyplot as plt"
   ]
  },
  {
   "cell_type": "markdown",
   "id": "b0eb08ae",
   "metadata": {},
   "source": [
    "[Volver al contenido](#Contenido)"
   ]
  },
  {
   "cell_type": "markdown",
   "id": "65a37b89",
   "metadata": {},
   "source": [
    "---"
   ]
  },
  {
   "cell_type": "markdown",
   "id": "95289fc6",
   "metadata": {},
   "source": [
    "## 2. Visualización de datos"
   ]
  },
  {
   "cell_type": "markdown",
   "id": "ad4696d3",
   "metadata": {},
   "source": [
    "Empezaremos visualizando un solo archivo TFRecord, si exploramos la carpeta donde se descargaron los archivos, podremos ver que están \"comprimidos\" con un formato especial `.gz`, Tensorflow permite la utilización de este formato especial, sin la necesidad de descomprimir los archivos.  \n",
    "Empezaremos creando una variable llamada record, que incluirá en un contenedor `tf.data.TFRecordDataset` la ruta de un archivo exportado."
   ]
  },
  {
   "cell_type": "code",
   "execution_count": 6,
   "id": "9c21eacb",
   "metadata": {},
   "outputs": [
    {
     "name": "stdout",
     "output_type": "stream",
     "text": [
      "<TFRecordDatasetV2 element_spec=TensorSpec(shape=(), dtype=tf.string, name=None)>\n"
     ]
    }
   ],
   "source": [
    "record = tf.data.TFRecordDataset('logging_dataset/testing_0.tfrecord.gz', compression_type = 'GZIP')\n",
    "print(record)"
   ]
  },
  {
   "cell_type": "markdown",
   "id": "a032a4b2",
   "metadata": {},
   "source": [
    "Podemos ver que los TFRecordDataset no muestran la totalidad de la información, no podemos saber la forma (shape) de los tensores, pese a que sabemos en base al código anterior, que tienen una forma de 64x64.  \n",
    "Tampoco podemos saber el dtype (el tipo de datos) ni la cantidad de elementos que tiene nuestro TFRecordDataset."
   ]
  },
  {
   "cell_type": "markdown",
   "id": "04ee7192",
   "metadata": {},
   "source": [
    "Debido a que los TFRecord son archivos de almacenamiento de tipo binario, debemos transformarlos a una estructura leíble, para ello crearemos un diccionario que contenga las bandas que exportamos en el código anterior y asignamos a cada banda una forma con `tf.io.FixedLenFeature` y un tipo de datos."
   ]
  },
  {
   "cell_type": "code",
   "execution_count": 7,
   "id": "ea0ead69",
   "metadata": {},
   "outputs": [],
   "source": [
    "features = {\n",
    "    'b1_normalized': tf.io.FixedLenFeature([64, 64], tf.float32),\n",
    "    'b2_normalized': tf.io.FixedLenFeature([64, 64], tf.float32),\n",
    "    'b3_normalized': tf.io.FixedLenFeature([64, 64], tf.float32),\n",
    "    'b4_normalized': tf.io.FixedLenFeature([64, 64], tf.float32),\n",
    "    'ndvi': tf.io.FixedLenFeature([64, 64], tf.float32),\n",
    "    'class': tf.io.FixedLenFeature([64, 64], tf.float32),\n",
    "}"
   ]
  },
  {
   "cell_type": "markdown",
   "id": "89729dba",
   "metadata": {},
   "source": [
    "Crearemos una función para leer un ejemplo serializado en la estructura definida por el diccionario creado anteriormente."
   ]
  },
  {
   "cell_type": "code",
   "execution_count": 8,
   "id": "af2b7b15",
   "metadata": {},
   "outputs": [],
   "source": [
    "def parse_tfrecord(example_proto):\n",
    "    return tf.io.parse_single_example(example_proto, features)"
   ]
  },
  {
   "cell_type": "markdown",
   "id": "bee5a123",
   "metadata": {},
   "source": [
    "Aplicaremos la función recientemente creada a nuestro TFRecordDataset utilizando la función `map`, que permite iterar a través de cada elemento de nuestro TFRecordDataset."
   ]
  },
  {
   "cell_type": "code",
   "execution_count": 9,
   "id": "614ccf43",
   "metadata": {},
   "outputs": [
    {
     "name": "stdout",
     "output_type": "stream",
     "text": [
      "<MapDataset element_spec={'b1_normalized': TensorSpec(shape=(64, 64), dtype=tf.float32, name=None), 'b2_normalized': TensorSpec(shape=(64, 64), dtype=tf.float32, name=None), 'b3_normalized': TensorSpec(shape=(64, 64), dtype=tf.float32, name=None), 'b4_normalized': TensorSpec(shape=(64, 64), dtype=tf.float32, name=None), 'class': TensorSpec(shape=(64, 64), dtype=tf.float32, name=None), 'ndvi': TensorSpec(shape=(64, 64), dtype=tf.float32, name=None)}>\n"
     ]
    }
   ],
   "source": [
    "serialized = record.map(parse_tfrecord)\n",
    "print(serialized)"
   ]
  },
  {
   "cell_type": "markdown",
   "id": "1b2bb170",
   "metadata": {},
   "source": [
    "Podemos visualizar que el objeto creado tiene una forma diferente al TFRecordDataset, ahora vemos que tiene la estructura definida por el diccionario creado.  \n",
    "Para poder visualizar de manera numérica los valores exportados de las bandas, emplearemos la función `get_single_element`"
   ]
  },
  {
   "cell_type": "code",
   "execution_count": 10,
   "id": "ba31bbb8",
   "metadata": {
    "scrolled": true
   },
   "outputs": [
    {
     "name": "stdout",
     "output_type": "stream",
     "text": [
      "{'b1_normalized': <tf.Tensor: shape=(64, 64), dtype=float32, numpy=\n",
      "array([[0.1370446 , 0.13517739, 0.13335359, ..., 0.13517739, 0.13517739,\n",
      "        0.13148639],\n",
      "       [0.13517739, 0.13148639, 0.12961918, ..., 0.13886838, 0.1407356 ,\n",
      "        0.1370446 ],\n",
      "       [0.1370446 , 0.13517739, 0.12779538, ..., 0.1370446 , 0.13886838,\n",
      "        0.1370446 ],\n",
      "       ...,\n",
      "       [0.13148639, 0.13148639, 0.13335359, ..., 0.13148639, 0.13335359,\n",
      "        0.1370446 ],\n",
      "       [0.13335359, 0.13335359, 0.13148639, ..., 0.13148639, 0.13335359,\n",
      "        0.13517739],\n",
      "       [0.13335359, 0.13148639, 0.12961918, ..., 0.12961918, 0.13148639,\n",
      "        0.13148639]], dtype=float32)>, 'b2_normalized': <tf.Tensor: shape=(64, 64), dtype=float32, numpy=\n",
      "array([[0.10117366, 0.09922802, 0.09922802, ..., 0.10117366, 0.09734514,\n",
      "        0.09539948],\n",
      "       [0.10493943, 0.10117366, 0.09734514, ..., 0.11071362, 0.10305655,\n",
      "        0.09157095],\n",
      "       [0.10117366, 0.10117366, 0.09734514, ..., 0.1125965 , 0.10493943,\n",
      "        0.09539948],\n",
      "       ...,\n",
      "       [0.10305655, 0.10305655, 0.10876796, ..., 0.12401933, 0.12596498,\n",
      "        0.12596498],\n",
      "       [0.10688508, 0.10493943, 0.10688508, ..., 0.12213644, 0.12401933,\n",
      "        0.12213644],\n",
      "       [0.10876796, 0.10493943, 0.10493943, ..., 0.12213644, 0.12784787,\n",
      "        0.12401933]], dtype=float32)>, 'b3_normalized': <tf.Tensor: shape=(64, 64), dtype=float32, numpy=\n",
      "array([[0.08270775, 0.08114107, 0.07800771, ..., 0.07487434, 0.07330766,\n",
      "        0.06710621],\n",
      "       [0.08734252, 0.08427443, 0.08114107, ..., 0.07957438, 0.07487434,\n",
      "        0.06710621],\n",
      "       [0.09047588, 0.08734252, 0.08270775, ..., 0.08427443, 0.07800771,\n",
      "        0.06710621],\n",
      "       ...,\n",
      "       [0.07487434, 0.07487434, 0.07330766, ..., 0.07330766, 0.07644102,\n",
      "        0.08577584],\n",
      "       [0.07487434, 0.07487434, 0.07487434, ..., 0.07487434, 0.07644102,\n",
      "        0.08577584],\n",
      "       [0.07174098, 0.07330766, 0.07644102, ..., 0.07487434, 0.07487434,\n",
      "        0.08114107]], dtype=float32)>, 'b4_normalized': <tf.Tensor: shape=(64, 64), dtype=float32, numpy=\n",
      "array([[0.4583617 , 0.47045276, 0.4771526 , ..., 0.55105996, 0.5295996 ,\n",
      "        0.5026956 ],\n",
      "       [0.43815756, 0.44757918, 0.45433134, ..., 0.54839045, 0.5295996 ,\n",
      "        0.50002617],\n",
      "       [0.4126145 , 0.4260665 , 0.43412718, ..., 0.53362995, 0.5161476 ,\n",
      "        0.4879351 ],\n",
      "       ...,\n",
      "       [0.5927768 , 0.5927768 , 0.6035069 , ..., 0.58869404, 0.6048678 ,\n",
      "        0.6061764 ],\n",
      "       [0.5954462 , 0.5914159 , 0.60083747, ..., 0.59408534, 0.6061764 ,\n",
      "        0.6115677 ],\n",
      "       [0.5981157 , 0.5927768 , 0.5994766 , ..., 0.5954462 , 0.6102067 ,\n",
      "        0.62098926]], dtype=float32)>, 'class': <tf.Tensor: shape=(64, 64), dtype=float32, numpy=\n",
      "array([[0., 0., 0., ..., 0., 0., 0.],\n",
      "       [0., 0., 0., ..., 0., 0., 0.],\n",
      "       [0., 0., 0., ..., 0., 0., 0.],\n",
      "       ...,\n",
      "       [0., 0., 0., ..., 0., 0., 0.],\n",
      "       [0., 0., 0., ..., 0., 0., 0.],\n",
      "       [0., 0., 0., ..., 0., 0., 0.]], dtype=float32)>, 'ndvi': <tf.Tensor: shape=(64, 64), dtype=float32, numpy=\n",
      "array([[0.5430956 , 0.55374616, 0.5635257 , ..., 0.6101409 , 0.6017226 ,\n",
      "        0.59791124],\n",
      "       [0.52087057, 0.53300506, 0.54323727, ..., 0.6009965 , 0.59905696,\n",
      "        0.59641844],\n",
      "       [0.49617705, 0.5121102 , 0.52646065, ..., 0.58543915, 0.5864059 ,\n",
      "        0.58951575],\n",
      "       ...,\n",
      "       [0.63002306, 0.63002306, 0.6372952 , ..., 0.630684  , 0.6329409 ,\n",
      "        0.61896455],\n",
      "       [0.6312265 , 0.6294065 , 0.63363326, ..., 0.6306139 , 0.63351774,\n",
      "        0.6213941 ],\n",
      "       [0.6374187 , 0.6325301 , 0.630545  , ..., 0.6312265 , 0.637742  ,\n",
      "        0.6326631 ]], dtype=float32)>}\n"
     ]
    }
   ],
   "source": [
    "element = serialized.get_single_element()\n",
    "print(element)"
   ]
  },
  {
   "cell_type": "markdown",
   "id": "95ddab3a",
   "metadata": {},
   "source": [
    "Tenemos como resultado un diccionario, del cual podemos extraer cada banda utilizando `get` seguido del `key`, que en este caso es el nombre de la banda exportada."
   ]
  },
  {
   "cell_type": "code",
   "execution_count": 11,
   "id": "9d19cc7a",
   "metadata": {},
   "outputs": [],
   "source": [
    "b1 = element.get('b1_normalized')\n",
    "b2 = element.get('b2_normalized')\n",
    "b3 = element.get('b3_normalized')\n",
    "ndvi = element.get('ndvi')\n",
    "label = element.get('class')"
   ]
  },
  {
   "cell_type": "markdown",
   "id": "2d7a1fa9",
   "metadata": {},
   "source": [
    "Ahora podemos visualizar los valores numéricos de cualquier banda exportada. También podemos transformar los objetos a un arreglo numpy utilizando la función `numpy`"
   ]
  },
  {
   "cell_type": "code",
   "execution_count": 12,
   "id": "f2995301",
   "metadata": {},
   "outputs": [
    {
     "name": "stdout",
     "output_type": "stream",
     "text": [
      "tf.Tensor(\n",
      "[[0.5430956  0.55374616 0.5635257  ... 0.6101409  0.6017226  0.59791124]\n",
      " [0.52087057 0.53300506 0.54323727 ... 0.6009965  0.59905696 0.59641844]\n",
      " [0.49617705 0.5121102  0.52646065 ... 0.58543915 0.5864059  0.58951575]\n",
      " ...\n",
      " [0.63002306 0.63002306 0.6372952  ... 0.630684   0.6329409  0.61896455]\n",
      " [0.6312265  0.6294065  0.63363326 ... 0.6306139  0.63351774 0.6213941 ]\n",
      " [0.6374187  0.6325301  0.630545   ... 0.6312265  0.637742   0.6326631 ]], shape=(64, 64), dtype=float32)\n"
     ]
    }
   ],
   "source": [
    "print(ndvi)"
   ]
  },
  {
   "cell_type": "markdown",
   "id": "5e931f98",
   "metadata": {},
   "source": [
    "Ahora crearemos una \"imagen\" para poder visualizarla, concatenando los valores de las bandas creadas, en un solo tensor."
   ]
  },
  {
   "cell_type": "code",
   "execution_count": 13,
   "id": "b4bac79e",
   "metadata": {},
   "outputs": [
    {
     "name": "stdout",
     "output_type": "stream",
     "text": [
      "tf.Tensor(\n",
      "[[[0.08270775 0.08114107 0.07800771 ... 0.07487434 0.07330766 0.06710621]\n",
      "  [0.08734252 0.08427443 0.08114107 ... 0.07957438 0.07487434 0.06710621]\n",
      "  [0.09047588 0.08734252 0.08270775 ... 0.08427443 0.07800771 0.06710621]\n",
      "  ...\n",
      "  [0.07487434 0.07487434 0.07330766 ... 0.07330766 0.07644102 0.08577584]\n",
      "  [0.07487434 0.07487434 0.07487434 ... 0.07487434 0.07644102 0.08577584]\n",
      "  [0.07174098 0.07330766 0.07644102 ... 0.07487434 0.07487434 0.08114107]]\n",
      "\n",
      " [[0.10117366 0.09922802 0.09922802 ... 0.10117366 0.09734514 0.09539948]\n",
      "  [0.10493943 0.10117366 0.09734514 ... 0.11071362 0.10305655 0.09157095]\n",
      "  [0.10117366 0.10117366 0.09734514 ... 0.1125965  0.10493943 0.09539948]\n",
      "  ...\n",
      "  [0.10305655 0.10305655 0.10876796 ... 0.12401933 0.12596498 0.12596498]\n",
      "  [0.10688508 0.10493943 0.10688508 ... 0.12213644 0.12401933 0.12213644]\n",
      "  [0.10876796 0.10493943 0.10493943 ... 0.12213644 0.12784787 0.12401933]]\n",
      "\n",
      " [[0.1370446  0.13517739 0.13335359 ... 0.13517739 0.13517739 0.13148639]\n",
      "  [0.13517739 0.13148639 0.12961918 ... 0.13886838 0.1407356  0.1370446 ]\n",
      "  [0.1370446  0.13517739 0.12779538 ... 0.1370446  0.13886838 0.1370446 ]\n",
      "  ...\n",
      "  [0.13148639 0.13148639 0.13335359 ... 0.13148639 0.13335359 0.1370446 ]\n",
      "  [0.13335359 0.13335359 0.13148639 ... 0.13148639 0.13335359 0.13517739]\n",
      "  [0.13335359 0.13148639 0.12961918 ... 0.12961918 0.13148639 0.13148639]]], shape=(3, 64, 64), dtype=float32)\n"
     ]
    }
   ],
   "source": [
    "img = tf.constant([b3.numpy(), b2.numpy(), b1.numpy()])\n",
    "print(img)"
   ]
  },
  {
   "cell_type": "markdown",
   "id": "32077232",
   "metadata": {},
   "source": [
    "Si visualizamos la forma del tensor, vemos que tiene la forma de (3, 64, 64), para poder plotearlo debemos transformar la forma a (64, 64, 3). Para ello utilizaremos la función `transpose`"
   ]
  },
  {
   "cell_type": "code",
   "execution_count": 14,
   "id": "f3488ec7",
   "metadata": {},
   "outputs": [],
   "source": [
    "imgRGB = tf.transpose(img, [1, 2, 0])"
   ]
  },
  {
   "cell_type": "markdown",
   "id": "3c3fc280",
   "metadata": {},
   "source": [
    "Ahora plotearemos los resultados empleando la librería matplotlib."
   ]
  },
  {
   "cell_type": "code",
   "execution_count": 15,
   "id": "646e9a1c",
   "metadata": {},
   "outputs": [
    {
     "data": {
      "image/png": "[encoded data removed]",
      "text/plain": [
       "<Figure size 1500x1500 with 3 Axes>"
      ]
     },
     "metadata": {},
     "output_type": "display_data"
    }
   ],
   "source": [
    "fig, axs = plt.subplots(1, 3, figsize = (15, 15))\n",
    "\n",
    "axs[0].set_title('RGB Image')\n",
    "axs[0].imshow(imgRGB)\n",
    "\n",
    "axs[1].set_title('NDVI')\n",
    "axs[1].imshow(ndvi.numpy())\n",
    "\n",
    "axs[2].set_title('Label')\n",
    "axs[2].imshow(label.numpy())\n",
    "\n",
    "plt.show()"
   ]
  },
  {
   "cell_type": "markdown",
   "id": "e1fd9ee2",
   "metadata": {},
   "source": [
    "[Volver al contenido](#Contenido)"
   ]
  },
  {
   "cell_type": "markdown",
   "id": "4a3ffe80",
   "metadata": {},
   "source": [
    "---"
   ]
  },
  {
   "cell_type": "markdown",
   "id": "5494f03d",
   "metadata": {},
   "source": [
    "## 3. Procesamiento de datos"
   ]
  },
  {
   "cell_type": "markdown",
   "id": "1620c5cd",
   "metadata": {},
   "source": [
    "## 3.1 Definición de variables"
   ]
  },
  {
   "cell_type": "markdown",
   "id": "e47ced42",
   "metadata": {},
   "source": [
    "Antes de realizar el procesamiento de datos, se definirán algunas variables para el entrenamiento."
   ]
  },
  {
   "cell_type": "code",
   "execution_count": 16,
   "id": "9c44ef6c",
   "metadata": {},
   "outputs": [],
   "source": [
    "bands = ['b1_normalized', 'b2_normalized', 'b3_normalized', 'b4_normalized', 'ndvi']\n",
    "response = ['class']\n",
    "features = bands + response\n",
    "\n",
    "kernel_size = 64\n",
    "kernel_shape = [kernel_size, kernel_size]\n",
    "\n",
    "columns = [\n",
    "  tf.io.FixedLenFeature(shape = kernel_shape, dtype = tf.float32) for k in features\n",
    "]\n",
    "\n",
    "train_path = 'logging_dataset/train'\n",
    "val_path = 'logging_dataset/validation'\n",
    "test_path = 'logging_dataset/testing'\n",
    "\n",
    "features_dict = dict(zip(features, columns))\n",
    "\n",
    "train_size = 168\n",
    "val_size = 48\n",
    "test_size = 30\n",
    "\n",
    "batch_size = 1\n",
    "epochs = 10\n",
    "buffer_size = 1000\n",
    "\n",
    "learning_rate = 0.1"
   ]
  },
  {
   "cell_type": "markdown",
   "id": "6e38d54f",
   "metadata": {},
   "source": [
    "## 3.2 Crear TFRecordDataset"
   ]
  },
  {
   "cell_type": "markdown",
   "id": "f32498fe",
   "metadata": {},
   "source": [
    "Los TFRecordDataset son una colección de TFRecords, por lo que resultan muy útiles para almacenar grandes cantidades de datos, y están optimizados para ahorrar memoria.  \n",
    "Primero crearemos una función llamada `parse_tfrecord`, que realizará la misma funcionalidad que en la visualización de datos, realizada anteriormente. Transformaremos la estructura de cada TFRecord."
   ]
  },
  {
   "cell_type": "code",
   "execution_count": 17,
   "id": "c1136b3e",
   "metadata": {},
   "outputs": [],
   "source": [
    "def parse_tfrecord(example_proto):\n",
    "    return tf.io.parse_single_example(example_proto, features_dict)"
   ]
  },
  {
   "cell_type": "markdown",
   "id": "a538d154",
   "metadata": {},
   "source": [
    "Segundo se creará una función llamada `to_tuple`, que convertirá el diccionario de tensores a una tupla, con el esquema de (entradas, salidas).  \n",
    "Esta función cambiará la forma de los tensores de entrada, cuya dimensionalidad es de (3, 60, 60) a la dimensionalidad de (60, 60, 3)"
   ]
  },
  {
   "cell_type": "code",
   "execution_count": 18,
   "id": "163c35f8",
   "metadata": {},
   "outputs": [],
   "source": [
    "def to_tuple(inputs):\n",
    "    inputsList = [inputs.get(key) for key in features]\n",
    "    stacked = tf.stack(inputsList, axis=0)\n",
    "    stacked = tf.transpose(stacked, [1, 2, 0])\n",
    "    return stacked[:,:,:len(bands)], stacked[:,:,len(bands):]"
   ]
  },
  {
   "cell_type": "markdown",
   "id": "a91da965",
   "metadata": {},
   "source": [
    "Tercero se creará una función para leer los tensores, esta función aplicará también las funciones creadas anteriormente: `parse_tfrecord` y `to_tuple`"
   ]
  },
  {
   "cell_type": "code",
   "execution_count": 19,
   "id": "8487538a",
   "metadata": {},
   "outputs": [],
   "source": [
    "def get_dataset(pattern):\n",
    "    glob = tf.io.gfile.glob(pattern)\n",
    "    dataset = tf.data.TFRecordDataset(glob, compression_type='GZIP')\n",
    "    dataset = dataset.map(parse_tfrecord, num_parallel_calls=5)\n",
    "    dataset = dataset.map(to_tuple, num_parallel_calls=5)\n",
    "    return dataset"
   ]
  },
  {
   "cell_type": "markdown",
   "id": "1bacb152",
   "metadata": {},
   "source": [
    "Crearemos 3 TFRecordDataset, que contendrán a nuestro conjunto de datos de entrenamiento, validación y prueba, respectivamente.  Para ello utilizaremos funciones, dentro de cada una habrá un objeto llamado `glob` que indicará la ruta de los conjuntos de datos."
   ]
  },
  {
   "cell_type": "code",
   "execution_count": 20,
   "id": "df911c55",
   "metadata": {},
   "outputs": [],
   "source": [
    "def get_training_dataset():\n",
    "    glob = train_path + '*'\n",
    "    dataset = get_dataset(glob)\n",
    "    dataset = dataset.shuffle(buffer_size).batch(batch_size).repeat()\n",
    "    return dataset\n",
    "\n",
    "training = get_training_dataset()\n",
    "\n",
    "def get_val_dataset():\n",
    "    glob = val_path + '*'\n",
    "    dataset = get_dataset(glob)\n",
    "    dataset = dataset.batch(1).repeat()\n",
    "    return dataset\n",
    "\n",
    "validation = get_val_dataset()\n",
    "\n",
    "def get_test_dataset():\n",
    "    glob = test_path + '*'\n",
    "    dataset = get_dataset(glob)\n",
    "    dataset = dataset.batch(1)\n",
    "    return dataset\n",
    "\n",
    "testing = get_test_dataset()"
   ]
  },
  {
   "cell_type": "markdown",
   "id": "fbae53f5",
   "metadata": {},
   "source": [
    "Si imprimimos los 3 conjuntos de datos veremos que los datos de entrenamiento y de validacion vemos que son de tipo `RepeatDataset`, es decir son archivos que constantemente se vienen generando, que en base a las funciones anteriores van siendo ordenados de manera aleatoria y el conjunto de datos saliente tiene un tamaño de 1 (en base al batch size)."
   ]
  },
  {
   "cell_type": "code",
   "execution_count": 21,
   "id": "67319d17",
   "metadata": {
    "scrolled": true
   },
   "outputs": [
    {
     "name": "stdout",
     "output_type": "stream",
     "text": [
      "<RepeatDataset element_spec=(TensorSpec(shape=(None, 64, 64, 5), dtype=tf.float32, name=None), TensorSpec(shape=(None, 64, 64, 1), dtype=tf.float32, name=None))>\n",
      "<RepeatDataset element_spec=(TensorSpec(shape=(None, 64, 64, 5), dtype=tf.float32, name=None), TensorSpec(shape=(None, 64, 64, 1), dtype=tf.float32, name=None))>\n",
      "<BatchDataset element_spec=(TensorSpec(shape=(None, 64, 64, 5), dtype=tf.float32, name=None), TensorSpec(shape=(None, 64, 64, 1), dtype=tf.float32, name=None))>\n"
     ]
    }
   ],
   "source": [
    "print(training)\n",
    "print(validation)\n",
    "print(testing)"
   ]
  },
  {
   "cell_type": "markdown",
   "id": "f00113bc",
   "metadata": {},
   "source": [
    "[Volver al contenido](#Contenido)"
   ]
  },
  {
   "cell_type": "markdown",
   "id": "ba97db1e",
   "metadata": {},
   "source": [
    "---"
   ]
  },
  {
   "cell_type": "markdown",
   "id": "b6013a40",
   "metadata": {},
   "source": [
    "## 4. Deep Learning"
   ]
  },
  {
   "cell_type": "markdown",
   "id": "84b2e485",
   "metadata": {},
   "source": [
    "## 4.1 Construcción del modelo"
   ]
  },
  {
   "cell_type": "markdown",
   "id": "b3f7dc0f",
   "metadata": {},
   "source": [
    "En el presente notebook utilizaremos la arquitectura de [U-Net](https://arxiv.org/abs/1505.04597), una de las más utilizadas para clasificación. Para ello, utilizaremos algunas capas de `tensorflow.keras`. A continuación la representación gráfica de la arquitectura.\n",
    "<img src=\"./pictures/u-net-architecture.png\" width=800 alt=\"U-Net\">"
   ]
  },
  {
   "cell_type": "code",
   "execution_count": 22,
   "id": "b0c5956c",
   "metadata": {},
   "outputs": [],
   "source": [
    "def conv_block(input_tensor, num_filters):\n",
    "    encoder = tf.keras.layers.Conv2D(num_filters, (3, 3), padding='same')(input_tensor)\n",
    "    encoder = tf.keras.layers.BatchNormalization()(encoder)\n",
    "    encoder = tf.keras.layers.Activation('relu')(encoder)\n",
    "    encoder = tf.keras.layers.Conv2D(num_filters, (3, 3), padding='same')(encoder)\n",
    "    encoder = tf.keras.layers.BatchNormalization()(encoder)\n",
    "    encoder = tf.keras.layers.Activation('relu')(encoder)\n",
    "    return encoder\n",
    "\n",
    "def encoder_block(input_tensor, num_filters):\n",
    "    encoder = conv_block(input_tensor, num_filters)\n",
    "    encoder_pool = tf.keras.layers.MaxPooling2D((2, 2), strides=(2, 2))(encoder)\n",
    "    return encoder_pool, encoder\n",
    "\n",
    "def decoder_block(input_tensor, concat_tensor, num_filters):\n",
    "    decoder = tf.keras.layers.Conv2DTranspose(num_filters, (2, 2), strides=(2, 2), padding='same')(input_tensor)\n",
    "    decoder = tf.keras.layers.concatenate([concat_tensor, decoder], axis=-1)\n",
    "    decoder = tf.keras.layers.BatchNormalization()(decoder)\n",
    "    decoder = tf.keras.layers.Activation('relu')(decoder)\n",
    "    decoder = tf.keras.layers.Conv2D(num_filters, (3, 3), padding='same')(decoder)\n",
    "    decoder = tf.keras.layers.BatchNormalization()(decoder)\n",
    "    decoder = tf.keras.layers.Activation('relu')(decoder)\n",
    "    decoder = tf.keras.layers.Conv2D(num_filters, (3, 3), padding='same')(decoder)\n",
    "    decoder = tf.keras.layers.BatchNormalization()(decoder)\n",
    "    decoder = tf.keras.layers.Activation('relu')(decoder)\n",
    "    return decoder\n",
    "\n",
    "def get_model():\n",
    "    inputs = tf.keras.Input(shape=[kernel_size, kernel_size, len(bands)])\n",
    "    encoder0_pool, encoder0 = encoder_block(inputs, 32)\n",
    "    encoder1_pool, encoder1 = encoder_block(encoder0_pool, 64)\n",
    "    encoder2_pool, encoder2 = encoder_block(encoder1_pool, 128)\n",
    "    encoder3_pool, encoder3 = encoder_block(encoder2_pool, 256)\n",
    "    encoder4_pool, encoder4 = encoder_block(encoder3_pool, 512)\n",
    "    center = conv_block(encoder4_pool, 1024)\n",
    "    decoder4 = decoder_block(center, encoder4, 512)\n",
    "    decoder3 = decoder_block(decoder4, encoder3, 256)\n",
    "    decoder2 = decoder_block(decoder3, encoder2, 128)\n",
    "    decoder1 = decoder_block(decoder2, encoder1, 64)\n",
    "    decoder0 = decoder_block(decoder1, encoder0, 32)\n",
    "    outputs = tf.keras.layers.Conv2D(1, (1, 1), activation='sigmoid')(decoder0)\n",
    "\n",
    "    model = tf.keras.models.Model(inputs=[inputs], outputs=[outputs])\n",
    "    return model"
   ]
  },
  {
   "cell_type": "markdown",
   "id": "eb53e139",
   "metadata": {},
   "source": [
    "Ahora definiremos al modelo, utilizando la función creada `get_model` y compilándolo."
   ]
  },
  {
   "cell_type": "code",
   "execution_count": 23,
   "id": "ebfb1671",
   "metadata": {},
   "outputs": [],
   "source": [
    "model = get_model()\n",
    "model.compile(\n",
    "    optimizer = tf.keras.optimizers.Adam(learning_rate = learning_rate), \n",
    "    loss = tf.keras.losses.BinaryCrossentropy(),\n",
    "    metrics = [tf.keras.metrics.IoU(num_classes = 2, target_class_ids = [0] , name = 'iou')])"
   ]
  },
  {
   "cell_type": "markdown",
   "id": "51a65b55",
   "metadata": {},
   "source": [
    "Una vez compilado el modelo, podemos ver las capas que tiene éste utilizando la función `summary`"
   ]
  },
  {
   "cell_type": "code",
   "execution_count": 24,
   "id": "07c64894",
   "metadata": {},
   "outputs": [
    {
     "name": "stdout",
     "output_type": "stream",
     "text": [
      "Model: \"model\"\n",
      "__________________________________________________________________________________________________\n",
      " Layer (type)                   Output Shape         Param #     Connected to                     \n",
      "==================================================================================================\n",
      " input_1 (InputLayer)           [(None, 64, 64, 5)]  0           []                               \n",
      "                                                                                                  \n",
      " conv2d (Conv2D)                (None, 64, 64, 32)   1472        ['input_1[0][0]']                \n",
      "                                                                                                  \n",
      " batch_normalization (BatchNorm  (None, 64, 64, 32)  128         ['conv2d[0][0]']                 \n",
      " alization)                                                                                       \n",
      "                                                                                                  \n",
      " activation (Activation)        (None, 64, 64, 32)   0           ['batch_normalization[0][0]']    \n",
      "                                                                                                  \n",
      " conv2d_1 (Conv2D)              (None, 64, 64, 32)   9248        ['activation[0][0]']             \n",
      "                                                                                                  \n",
      " batch_normalization_1 (BatchNo  (None, 64, 64, 32)  128         ['conv2d_1[0][0]']               \n",
      " rmalization)                                                                                     \n",
      "                                                                                                  \n",
      " activation_1 (Activation)      (None, 64, 64, 32)   0           ['batch_normalization_1[0][0]']  \n",
      "                                                                                                  \n",
      " max_pooling2d (MaxPooling2D)   (None, 32, 32, 32)   0           ['activation_1[0][0]']           \n",
      "                                                                                                  \n",
      " conv2d_2 (Conv2D)              (None, 32, 32, 64)   18496       ['max_pooling2d[0][0]']          \n",
      "                                                                                                  \n",
      " batch_normalization_2 (BatchNo  (None, 32, 32, 64)  256         ['conv2d_2[0][0]']               \n",
      " rmalization)                                                                                     \n",
      "                                                                                                  \n",
      " activation_2 (Activation)      (None, 32, 32, 64)   0           ['batch_normalization_2[0][0]']  \n",
      "                                                                                                  \n",
      " conv2d_3 (Conv2D)              (None, 32, 32, 64)   36928       ['activation_2[0][0]']           \n",
      "                                                                                                  \n",
      " batch_normalization_3 (BatchNo  (None, 32, 32, 64)  256         ['conv2d_3[0][0]']               \n",
      " rmalization)                                                                                     \n",
      "                                                                                                  \n",
      " activation_3 (Activation)      (None, 32, 32, 64)   0           ['batch_normalization_3[0][0]']  \n",
      "                                                                                                  \n",
      " max_pooling2d_1 (MaxPooling2D)  (None, 16, 16, 64)  0           ['activation_3[0][0]']           \n",
      "                                                                                                  \n",
      " conv2d_4 (Conv2D)              (None, 16, 16, 128)  73856       ['max_pooling2d_1[0][0]']        \n",
      "                                                                                                  \n",
      " batch_normalization_4 (BatchNo  (None, 16, 16, 128)  512        ['conv2d_4[0][0]']               \n",
      " rmalization)                                                                                     \n",
      "                                                                                                  \n",
      " activation_4 (Activation)      (None, 16, 16, 128)  0           ['batch_normalization_4[0][0]']  \n",
      "                                                                                                  \n",
      " conv2d_5 (Conv2D)              (None, 16, 16, 128)  147584      ['activation_4[0][0]']           \n",
      "                                                                                                  \n",
      " batch_normalization_5 (BatchNo  (None, 16, 16, 128)  512        ['conv2d_5[0][0]']               \n",
      " rmalization)                                                                                     \n",
      "                                                                                                  \n",
      " activation_5 (Activation)      (None, 16, 16, 128)  0           ['batch_normalization_5[0][0]']  \n",
      "                                                                                                  \n",
      " max_pooling2d_2 (MaxPooling2D)  (None, 8, 8, 128)   0           ['activation_5[0][0]']           \n",
      "                                                                                                  \n",
      " conv2d_6 (Conv2D)              (None, 8, 8, 256)    295168      ['max_pooling2d_2[0][0]']        \n",
      "                                                                                                  \n",
      " batch_normalization_6 (BatchNo  (None, 8, 8, 256)   1024        ['conv2d_6[0][0]']               \n",
      " rmalization)                                                                                     \n",
      "                                                                                                  \n",
      " activation_6 (Activation)      (None, 8, 8, 256)    0           ['batch_normalization_6[0][0]']  \n",
      "                                                                                                  \n",
      " conv2d_7 (Conv2D)              (None, 8, 8, 256)    590080      ['activation_6[0][0]']           \n",
      "                                                                                                  \n",
      " batch_normalization_7 (BatchNo  (None, 8, 8, 256)   1024        ['conv2d_7[0][0]']               \n",
      " rmalization)                                                                                     \n",
      "                                                                                                  \n",
      " activation_7 (Activation)      (None, 8, 8, 256)    0           ['batch_normalization_7[0][0]']  \n",
      "                                                                                                  \n",
      " max_pooling2d_3 (MaxPooling2D)  (None, 4, 4, 256)   0           ['activation_7[0][0]']           \n",
      "                                                                                                  \n",
      " conv2d_8 (Conv2D)              (None, 4, 4, 512)    1180160     ['max_pooling2d_3[0][0]']        \n",
      "                                                                                                  \n",
      " batch_normalization_8 (BatchNo  (None, 4, 4, 512)   2048        ['conv2d_8[0][0]']               \n",
      " rmalization)                                                                                     \n",
      "                                                                                                  \n",
      " activation_8 (Activation)      (None, 4, 4, 512)    0           ['batch_normalization_8[0][0]']  \n",
      "                                                                                                  \n",
      " conv2d_9 (Conv2D)              (None, 4, 4, 512)    2359808     ['activation_8[0][0]']           \n",
      "                                                                                                  \n",
      " batch_normalization_9 (BatchNo  (None, 4, 4, 512)   2048        ['conv2d_9[0][0]']               \n",
      " rmalization)                                                                                     \n",
      "                                                                                                  \n",
      " activation_9 (Activation)      (None, 4, 4, 512)    0           ['batch_normalization_9[0][0]']  \n",
      "                                                                                                  \n"
     ]
    },
    {
     "name": "stdout",
     "output_type": "stream",
     "text": [
      " max_pooling2d_4 (MaxPooling2D)  (None, 2, 2, 512)   0           ['activation_9[0][0]']           \n",
      "                                                                                                  \n",
      " conv2d_10 (Conv2D)             (None, 2, 2, 1024)   4719616     ['max_pooling2d_4[0][0]']        \n",
      "                                                                                                  \n",
      " batch_normalization_10 (BatchN  (None, 2, 2, 1024)  4096        ['conv2d_10[0][0]']              \n",
      " ormalization)                                                                                    \n",
      "                                                                                                  \n",
      " activation_10 (Activation)     (None, 2, 2, 1024)   0           ['batch_normalization_10[0][0]'] \n",
      "                                                                                                  \n",
      " conv2d_11 (Conv2D)             (None, 2, 2, 1024)   9438208     ['activation_10[0][0]']          \n",
      "                                                                                                  \n",
      " batch_normalization_11 (BatchN  (None, 2, 2, 1024)  4096        ['conv2d_11[0][0]']              \n",
      " ormalization)                                                                                    \n",
      "                                                                                                  \n",
      " activation_11 (Activation)     (None, 2, 2, 1024)   0           ['batch_normalization_11[0][0]'] \n",
      "                                                                                                  \n",
      " conv2d_transpose (Conv2DTransp  (None, 4, 4, 512)   2097664     ['activation_11[0][0]']          \n",
      " ose)                                                                                             \n",
      "                                                                                                  \n",
      " concatenate (Concatenate)      (None, 4, 4, 1024)   0           ['activation_9[0][0]',           \n",
      "                                                                  'conv2d_transpose[0][0]']       \n",
      "                                                                                                  \n",
      " batch_normalization_12 (BatchN  (None, 4, 4, 1024)  4096        ['concatenate[0][0]']            \n",
      " ormalization)                                                                                    \n",
      "                                                                                                  \n",
      " activation_12 (Activation)     (None, 4, 4, 1024)   0           ['batch_normalization_12[0][0]'] \n",
      "                                                                                                  \n",
      " conv2d_12 (Conv2D)             (None, 4, 4, 512)    4719104     ['activation_12[0][0]']          \n",
      "                                                                                                  \n",
      " batch_normalization_13 (BatchN  (None, 4, 4, 512)   2048        ['conv2d_12[0][0]']              \n",
      " ormalization)                                                                                    \n",
      "                                                                                                  \n",
      " activation_13 (Activation)     (None, 4, 4, 512)    0           ['batch_normalization_13[0][0]'] \n",
      "                                                                                                  \n",
      " conv2d_13 (Conv2D)             (None, 4, 4, 512)    2359808     ['activation_13[0][0]']          \n",
      "                                                                                                  \n",
      " batch_normalization_14 (BatchN  (None, 4, 4, 512)   2048        ['conv2d_13[0][0]']              \n",
      " ormalization)                                                                                    \n",
      "                                                                                                  \n",
      " activation_14 (Activation)     (None, 4, 4, 512)    0           ['batch_normalization_14[0][0]'] \n",
      "                                                                                                  \n",
      " conv2d_transpose_1 (Conv2DTran  (None, 8, 8, 256)   524544      ['activation_14[0][0]']          \n",
      " spose)                                                                                           \n",
      "                                                                                                  \n",
      " concatenate_1 (Concatenate)    (None, 8, 8, 512)    0           ['activation_7[0][0]',           \n",
      "                                                                  'conv2d_transpose_1[0][0]']     \n",
      "                                                                                                  \n",
      " batch_normalization_15 (BatchN  (None, 8, 8, 512)   2048        ['concatenate_1[0][0]']          \n",
      " ormalization)                                                                                    \n",
      "                                                                                                  \n",
      " activation_15 (Activation)     (None, 8, 8, 512)    0           ['batch_normalization_15[0][0]'] \n",
      "                                                                                                  \n",
      " conv2d_14 (Conv2D)             (None, 8, 8, 256)    1179904     ['activation_15[0][0]']          \n",
      "                                                                                                  \n",
      " batch_normalization_16 (BatchN  (None, 8, 8, 256)   1024        ['conv2d_14[0][0]']              \n",
      " ormalization)                                                                                    \n",
      "                                                                                                  \n",
      " activation_16 (Activation)     (None, 8, 8, 256)    0           ['batch_normalization_16[0][0]'] \n",
      "                                                                                                  \n",
      " conv2d_15 (Conv2D)             (None, 8, 8, 256)    590080      ['activation_16[0][0]']          \n",
      "                                                                                                  \n",
      " batch_normalization_17 (BatchN  (None, 8, 8, 256)   1024        ['conv2d_15[0][0]']              \n",
      " ormalization)                                                                                    \n",
      "                                                                                                  \n",
      " activation_17 (Activation)     (None, 8, 8, 256)    0           ['batch_normalization_17[0][0]'] \n",
      "                                                                                                  \n",
      " conv2d_transpose_2 (Conv2DTran  (None, 16, 16, 128)  131200     ['activation_17[0][0]']          \n",
      " spose)                                                                                           \n",
      "                                                                                                  \n",
      " concatenate_2 (Concatenate)    (None, 16, 16, 256)  0           ['activation_5[0][0]',           \n",
      "                                                                  'conv2d_transpose_2[0][0]']     \n",
      "                                                                                                  \n",
      " batch_normalization_18 (BatchN  (None, 16, 16, 256)  1024       ['concatenate_2[0][0]']          \n",
      " ormalization)                                                                                    \n",
      "                                                                                                  \n",
      " activation_18 (Activation)     (None, 16, 16, 256)  0           ['batch_normalization_18[0][0]'] \n",
      "                                                                                                  \n",
      " conv2d_16 (Conv2D)             (None, 16, 16, 128)  295040      ['activation_18[0][0]']          \n",
      "                                                                                                  \n",
      " batch_normalization_19 (BatchN  (None, 16, 16, 128)  512        ['conv2d_16[0][0]']              \n",
      " ormalization)                                                                                    \n",
      "                                                                                                  \n",
      " activation_19 (Activation)     (None, 16, 16, 128)  0           ['batch_normalization_19[0][0]'] \n"
     ]
    },
    {
     "name": "stdout",
     "output_type": "stream",
     "text": [
      "                                                                                                  \n",
      " conv2d_17 (Conv2D)             (None, 16, 16, 128)  147584      ['activation_19[0][0]']          \n",
      "                                                                                                  \n",
      " batch_normalization_20 (BatchN  (None, 16, 16, 128)  512        ['conv2d_17[0][0]']              \n",
      " ormalization)                                                                                    \n",
      "                                                                                                  \n",
      " activation_20 (Activation)     (None, 16, 16, 128)  0           ['batch_normalization_20[0][0]'] \n",
      "                                                                                                  \n",
      " conv2d_transpose_3 (Conv2DTran  (None, 32, 32, 64)  32832       ['activation_20[0][0]']          \n",
      " spose)                                                                                           \n",
      "                                                                                                  \n",
      " concatenate_3 (Concatenate)    (None, 32, 32, 128)  0           ['activation_3[0][0]',           \n",
      "                                                                  'conv2d_transpose_3[0][0]']     \n",
      "                                                                                                  \n",
      " batch_normalization_21 (BatchN  (None, 32, 32, 128)  512        ['concatenate_3[0][0]']          \n",
      " ormalization)                                                                                    \n",
      "                                                                                                  \n",
      " activation_21 (Activation)     (None, 32, 32, 128)  0           ['batch_normalization_21[0][0]'] \n",
      "                                                                                                  \n",
      " conv2d_18 (Conv2D)             (None, 32, 32, 64)   73792       ['activation_21[0][0]']          \n",
      "                                                                                                  \n",
      " batch_normalization_22 (BatchN  (None, 32, 32, 64)  256         ['conv2d_18[0][0]']              \n",
      " ormalization)                                                                                    \n",
      "                                                                                                  \n",
      " activation_22 (Activation)     (None, 32, 32, 64)   0           ['batch_normalization_22[0][0]'] \n",
      "                                                                                                  \n",
      " conv2d_19 (Conv2D)             (None, 32, 32, 64)   36928       ['activation_22[0][0]']          \n",
      "                                                                                                  \n",
      " batch_normalization_23 (BatchN  (None, 32, 32, 64)  256         ['conv2d_19[0][0]']              \n",
      " ormalization)                                                                                    \n",
      "                                                                                                  \n",
      " activation_23 (Activation)     (None, 32, 32, 64)   0           ['batch_normalization_23[0][0]'] \n",
      "                                                                                                  \n",
      " conv2d_transpose_4 (Conv2DTran  (None, 64, 64, 32)  8224        ['activation_23[0][0]']          \n",
      " spose)                                                                                           \n",
      "                                                                                                  \n",
      " concatenate_4 (Concatenate)    (None, 64, 64, 64)   0           ['activation_1[0][0]',           \n",
      "                                                                  'conv2d_transpose_4[0][0]']     \n",
      "                                                                                                  \n",
      " batch_normalization_24 (BatchN  (None, 64, 64, 64)  256         ['concatenate_4[0][0]']          \n",
      " ormalization)                                                                                    \n",
      "                                                                                                  \n",
      " activation_24 (Activation)     (None, 64, 64, 64)   0           ['batch_normalization_24[0][0]'] \n",
      "                                                                                                  \n",
      " conv2d_20 (Conv2D)             (None, 64, 64, 32)   18464       ['activation_24[0][0]']          \n",
      "                                                                                                  \n",
      " batch_normalization_25 (BatchN  (None, 64, 64, 32)  128         ['conv2d_20[0][0]']              \n",
      " ormalization)                                                                                    \n",
      "                                                                                                  \n",
      " activation_25 (Activation)     (None, 64, 64, 32)   0           ['batch_normalization_25[0][0]'] \n",
      "                                                                                                  \n",
      " conv2d_21 (Conv2D)             (None, 64, 64, 32)   9248        ['activation_25[0][0]']          \n",
      "                                                                                                  \n",
      " batch_normalization_26 (BatchN  (None, 64, 64, 32)  128         ['conv2d_21[0][0]']              \n",
      " ormalization)                                                                                    \n",
      "                                                                                                  \n",
      " activation_26 (Activation)     (None, 64, 64, 32)   0           ['batch_normalization_26[0][0]'] \n",
      "                                                                                                  \n",
      " conv2d_22 (Conv2D)             (None, 64, 64, 1)    33          ['activation_26[0][0]']          \n",
      "                                                                                                  \n",
      "==================================================================================================\n",
      "Total params: 31,127,073\n",
      "Trainable params: 31,111,073\n",
      "Non-trainable params: 16,000\n",
      "__________________________________________________________________________________________________\n"
     ]
    }
   ],
   "source": [
    "model.summary()"
   ]
  },
  {
   "cell_type": "markdown",
   "id": "3f9c3b55",
   "metadata": {},
   "source": [
    "## 4.2 Entrenamiento del modelo"
   ]
  },
  {
   "cell_type": "markdown",
   "id": "071a0bc3",
   "metadata": {},
   "source": [
    "Una vez definido el modelo, procederemos a entrenarlo, ajustándolo al conjunto de datos ya procesado, mediante la función `fit`"
   ]
  },
  {
   "cell_type": "code",
   "execution_count": 194,
   "id": "c534ca0f",
   "metadata": {
    "scrolled": true
   },
   "outputs": [
    {
     "name": "stdout",
     "output_type": "stream",
     "text": [
      "Epoch 1/10\n",
      "168/168 [==============================] - 11s 52ms/step - loss: 0.1449 - accuracy: 0.0000e+00 - iou: 0.9240 - val_loss: 0.7870 - val_accuracy: 0.0010 - val_iou: 0.9334\n",
      "Epoch 2/10\n",
      "168/168 [==============================] - 8s 48ms/step - loss: 0.1232 - accuracy: 0.0000e+00 - iou: 0.9240 - val_loss: 0.1217 - val_accuracy: 0.0000e+00 - val_iou: 0.9325\n",
      "Epoch 3/10\n",
      "168/168 [==============================] - 8s 47ms/step - loss: 0.1160 - accuracy: 0.0000e+00 - iou: 0.9240 - val_loss: 0.1033 - val_accuracy: 0.0000e+00 - val_iou: 0.9325\n",
      "Epoch 4/10\n",
      "168/168 [==============================] - 8s 49ms/step - loss: 0.1120 - accuracy: 0.0000e+00 - iou: 0.9240 - val_loss: 0.3004 - val_accuracy: 0.0230 - val_iou: 0.9530\n",
      "Epoch 5/10\n",
      "168/168 [==============================] - 8s 49ms/step - loss: 0.1065 - accuracy: 0.0000e+00 - iou: 0.9240 - val_loss: 0.1103 - val_accuracy: 1.8819e-04 - val_iou: 0.9327\n",
      "Epoch 6/10\n",
      "168/168 [==============================] - 8s 49ms/step - loss: 0.1022 - accuracy: 0.0000e+00 - iou: 0.9240 - val_loss: 0.1133 - val_accuracy: 0.0000e+00 - val_iou: 0.9325\n",
      "Epoch 7/10\n",
      "168/168 [==============================] - 8s 48ms/step - loss: 0.1041 - accuracy: 0.0000e+00 - iou: 0.9240 - val_loss: 0.0744 - val_accuracy: 0.0000e+00 - val_iou: 0.9325\n",
      "Epoch 8/10\n",
      "168/168 [==============================] - 8s 47ms/step - loss: 0.1087 - accuracy: 0.0000e+00 - iou: 0.9240 - val_loss: 0.0754 - val_accuracy: 0.0000e+00 - val_iou: 0.9325\n",
      "Epoch 9/10\n",
      "168/168 [==============================] - 8s 47ms/step - loss: 0.0984 - accuracy: 0.0000e+00 - iou: 0.9240 - val_loss: 0.0939 - val_accuracy: 0.0000e+00 - val_iou: 0.9325\n",
      "Epoch 10/10\n",
      "168/168 [==============================] - 8s 48ms/step - loss: 0.0979 - accuracy: 0.0000e+00 - iou: 0.9240 - val_loss: 0.1757 - val_accuracy: 0.0000e+00 - val_iou: 0.9325\n"
     ]
    }
   ],
   "source": [
    "history = model.fit(\n",
    "    x = training, \n",
    "    epochs = epochs, \n",
    "    verbose = 1,\n",
    "    steps_per_epoch=int(train_size / batch_size), \n",
    "    validation_data = validation,\n",
    "    validation_steps = val_size)"
   ]
  },
  {
   "cell_type": "markdown",
   "id": "04a62012",
   "metadata": {},
   "source": [
    "Podemos plotear los resultados del entrenamienta por época utilizando matplotlib."
   ]
  },
  {
   "cell_type": "code",
   "execution_count": 197,
   "id": "704c445c",
   "metadata": {},
   "outputs": [
    {
     "name": "stdout",
     "output_type": "stream",
     "text": [
      "%pylab is deprecated, use %matplotlib inline and import the required libraries.\n",
      "Populating the interactive namespace from numpy and matplotlib\n"
     ]
    },
    {
     "data": {
      "text/plain": [
       "<matplotlib.legend.Legend at 0x14ac7c3c100>"
      ]
     },
     "execution_count": 197,
     "metadata": {},
     "output_type": "execute_result"
    },
    {
     "data": {
      "image/png": "[encoded data removed]",
      "text/plain": [
       "<Figure size 2500x1000 with 3 Axes>"
      ]
     },
     "metadata": {},
     "output_type": "display_data"
    }
   ],
   "source": [
    "#Gráfico de métricas\n",
    "%pylab inline\n",
    "fig, ax = plt.subplots(nrows=2, sharex=True, figsize=(15,10))\n",
    "\n",
    "ax[0].plot(history.history['loss'],color='#1f77b4',label='Training Loss')\n",
    "ax[0].plot(history.history['val_loss'],linestyle=':',marker='o',markersize=3,color='#1f77b4',label='Validation Loss')\n",
    "ax[0].set_ylabel('Loss')\n",
    "ax[0].set_ylim(0.0,1)\n",
    "ax[0].legend()\n",
    "\n",
    "ax[1].plot(history.history['iou'],color='#E5D31F',label='Training IoU')\n",
    "ax[1].plot(history.history['val_iou'],linestyle=':',marker='o',markersize=3,color='#E5D31F',label='Validation IoU')\n",
    "ax[1].set_ylabel('IoU')\n",
    "ax[1].legend(loc=\"lower right\")\n",
    "\n",
    "ax[1].set_xticks(history.epoch)\n",
    "ax[1].set_xticklabels(range(1,len(history.epoch)+1, 1))\n",
    "ax[1].set_xlabel('Epoch')\n",
    "ax[1].set_ylim(0.0,1)\n",
    "\n",
    "plt.legend()"
   ]
  },
  {
   "cell_type": "markdown",
   "id": "f304c5bb",
   "metadata": {},
   "source": [
    "## 4.3 Evaluación del modelo"
   ]
  },
  {
   "cell_type": "markdown",
   "id": "98f45325",
   "metadata": {},
   "source": [
    "Ahora utilizaremos los datos de prueba, reservados para este momento. Podemos obtener las métricas totales para todo el conjunto de datos de prueba."
   ]
  },
  {
   "cell_type": "code",
   "execution_count": 199,
   "id": "73390950",
   "metadata": {},
   "outputs": [
    {
     "name": "stdout",
     "output_type": "stream",
     "text": [
      "30/30 [==============================] - 1s 21ms/step - loss: 0.1859 - accuracy: 0.0000e+00 - iou: 0.9186\n"
     ]
    }
   ],
   "source": [
    "evaluation = model.evaluate(\n",
    "    x = testing,\n",
    "    verbose = 1,\n",
    "    steps = test_size\n",
    ")"
   ]
  },
  {
   "cell_type": "markdown",
   "id": "79425900",
   "metadata": {},
   "source": [
    "Podemos tambien aplicar el modelo al conjunto de datos de prueba, y graficar los resultados."
   ]
  },
  {
   "cell_type": "code",
   "execution_count": 200,
   "id": "57b527cf",
   "metadata": {},
   "outputs": [
    {
     "name": "stdout",
     "output_type": "stream",
     "text": [
      "30/30 [==============================] - 1s 18ms/step\n"
     ]
    }
   ],
   "source": [
    "prediction = model.predict(\n",
    "    x = testing,\n",
    "    verbose = 1,\n",
    "    steps = test_size\n",
    ")"
   ]
  },
  {
   "cell_type": "markdown",
   "id": "88fe885a",
   "metadata": {},
   "source": [
    "Corriendo el siguiente bloque de código podemos visualizar 3 imágenes aleatorias de nuestro conjunto de datos de prueba, y las predicciones del modelo."
   ]
  },
  {
   "cell_type": "code",
   "execution_count": 418,
   "id": "df412466",
   "metadata": {},
   "outputs": [
    {
     "name": "stdout",
     "output_type": "stream",
     "text": [
      "[1, 25, 4]\n"
     ]
    },
    {
     "data": {
      "image/png": "[encoded data removed]",
      "text/plain": [
       "<Figure size 1500x1500 with 6 Axes>"
      ]
     },
     "metadata": {},
     "output_type": "display_data"
    }
   ],
   "source": [
    "import random\n",
    "listTest = []\n",
    "n_images = 3\n",
    "for i in range(n_images):\n",
    "    listTest.append(random.randint(0, test_size-1))\n",
    "\n",
    "print(listTest)\n",
    "\n",
    "fig, axs = plt.subplots(n_images, 2, figsize = (15, 15))\n",
    "\n",
    "for i in range(len(listTest)):\n",
    "    imgTest = tf.squeeze(list(testing)[listTest[i]][0])[:,:,0:3].numpy()\n",
    "    imgPred = prediction[listTest[i]].reshape(64, 64)\n",
    "    \n",
    "    axs[i,0].set_title('RGB Test Image ' + str(listTest[i]))\n",
    "    axs[i,0].imshow(imgTest)\n",
    "    axs[i,1].set_title('Prediction ' + str(listTest[i]))\n",
    "    axs[i,1].imshow(imgPred, cmap = 'coolwarm')\n",
    "\n",
    "plt.subplots_adjust(wspace=-0.3, hspace=0.4)\n",
    "plt.show()"
   ]
  },
  {
   "cell_type": "markdown",
   "id": "d2c10402",
   "metadata": {},
   "source": [
    "## 4.4 Guardar el modelo "
   ]
  },
  {
   "cell_type": "markdown",
   "id": "117ba6cb",
   "metadata": {},
   "source": [
    "Una vez tengamos un modelo adecuado en base a las métricas utilizadas, procederemos a guardarlo.  \n",
    "Para ello emplearemos la función `tf.keras.save_model` y tendremos que especificar la ruta para guardar el modelo."
   ]
  },
  {
   "cell_type": "code",
   "execution_count": 25,
   "id": "dccbd2e0",
   "metadata": {},
   "outputs": [],
   "source": [
    "modelDir = 'logging_model'"
   ]
  },
  {
   "cell_type": "code",
   "execution_count": 419,
   "id": "e68faca3",
   "metadata": {},
   "outputs": [
    {
     "name": "stderr",
     "output_type": "stream",
     "text": [
      "WARNING:absl:Found untraced functions such as _jit_compiled_convolution_op, _jit_compiled_convolution_op, _jit_compiled_convolution_op, _jit_compiled_convolution_op, _jit_compiled_convolution_op while saving (showing 5 of 28). These functions will not be directly callable after loading.\n"
     ]
    },
    {
     "name": "stdout",
     "output_type": "stream",
     "text": [
      "INFO:tensorflow:Assets written to: logging_model\\assets\n"
     ]
    },
    {
     "name": "stderr",
     "output_type": "stream",
     "text": [
      "INFO:tensorflow:Assets written to: logging_model\\assets\n"
     ]
    }
   ],
   "source": [
    "tf.keras.models.save_model(model, modelDir)"
   ]
  },
  {
   "cell_type": "markdown",
   "id": "e86ed90b",
   "metadata": {},
   "source": [
    "Si lo queremos, podemos cargar el modelo utilizando la función `tf.keras.models.load_model`"
   ]
  },
  {
   "cell_type": "code",
   "execution_count": 26,
   "id": "6a1b707d",
   "metadata": {},
   "outputs": [],
   "source": [
    "loaded_model = tf.keras.models.load_model(modelDir)"
   ]
  },
  {
   "cell_type": "markdown",
   "id": "a35b0842",
   "metadata": {},
   "source": [
    "Si empleamos la función `summary` podremos ver nuevamente la estructura del modelo guardado."
   ]
  },
  {
   "cell_type": "code",
   "execution_count": 27,
   "id": "cc4725c8",
   "metadata": {},
   "outputs": [
    {
     "name": "stdout",
     "output_type": "stream",
     "text": [
      "Model: \"model_11\"\n",
      "__________________________________________________________________________________________________\n",
      " Layer (type)                   Output Shape         Param #     Connected to                     \n",
      "==================================================================================================\n",
      " input_14 (InputLayer)          [(None, 64, 64, 5)]  0           []                               \n",
      "                                                                                                  \n",
      " conv2d_256 (Conv2D)            (None, 64, 64, 32)   1472        ['input_14[0][0]']               \n",
      "                                                                                                  \n",
      " batch_normalization_299 (Batch  (None, 64, 64, 32)  128         ['conv2d_256[0][0]']             \n",
      " Normalization)                                                                                   \n",
      "                                                                                                  \n",
      " activation_299 (Activation)    (None, 64, 64, 32)   0           ['batch_normalization_299[0][0]']\n",
      "                                                                                                  \n",
      " conv2d_257 (Conv2D)            (None, 64, 64, 32)   9248        ['activation_299[0][0]']         \n",
      "                                                                                                  \n",
      " batch_normalization_300 (Batch  (None, 64, 64, 32)  128         ['conv2d_257[0][0]']             \n",
      " Normalization)                                                                                   \n",
      "                                                                                                  \n",
      " activation_300 (Activation)    (None, 64, 64, 32)   0           ['batch_normalization_300[0][0]']\n",
      "                                                                                                  \n",
      " max_pooling2d_55 (MaxPooling2D  (None, 32, 32, 32)  0           ['activation_300[0][0]']         \n",
      " )                                                                                                \n",
      "                                                                                                  \n",
      " conv2d_258 (Conv2D)            (None, 32, 32, 64)   18496       ['max_pooling2d_55[0][0]']       \n",
      "                                                                                                  \n",
      " batch_normalization_301 (Batch  (None, 32, 32, 64)  256         ['conv2d_258[0][0]']             \n",
      " Normalization)                                                                                   \n",
      "                                                                                                  \n",
      " activation_301 (Activation)    (None, 32, 32, 64)   0           ['batch_normalization_301[0][0]']\n",
      "                                                                                                  \n",
      " conv2d_259 (Conv2D)            (None, 32, 32, 64)   36928       ['activation_301[0][0]']         \n",
      "                                                                                                  \n",
      " batch_normalization_302 (Batch  (None, 32, 32, 64)  256         ['conv2d_259[0][0]']             \n",
      " Normalization)                                                                                   \n",
      "                                                                                                  \n",
      " activation_302 (Activation)    (None, 32, 32, 64)   0           ['batch_normalization_302[0][0]']\n",
      "                                                                                                  \n",
      " max_pooling2d_56 (MaxPooling2D  (None, 16, 16, 64)  0           ['activation_302[0][0]']         \n",
      " )                                                                                                \n",
      "                                                                                                  \n",
      " conv2d_260 (Conv2D)            (None, 16, 16, 128)  73856       ['max_pooling2d_56[0][0]']       \n",
      "                                                                                                  \n",
      " batch_normalization_303 (Batch  (None, 16, 16, 128)  512        ['conv2d_260[0][0]']             \n",
      " Normalization)                                                                                   \n",
      "                                                                                                  \n",
      " activation_303 (Activation)    (None, 16, 16, 128)  0           ['batch_normalization_303[0][0]']\n",
      "                                                                                                  \n",
      " conv2d_261 (Conv2D)            (None, 16, 16, 128)  147584      ['activation_303[0][0]']         \n",
      "                                                                                                  \n",
      " batch_normalization_304 (Batch  (None, 16, 16, 128)  512        ['conv2d_261[0][0]']             \n",
      " Normalization)                                                                                   \n",
      "                                                                                                  \n",
      " activation_304 (Activation)    (None, 16, 16, 128)  0           ['batch_normalization_304[0][0]']\n",
      "                                                                                                  \n",
      " max_pooling2d_57 (MaxPooling2D  (None, 8, 8, 128)   0           ['activation_304[0][0]']         \n",
      " )                                                                                                \n",
      "                                                                                                  \n",
      " conv2d_262 (Conv2D)            (None, 8, 8, 256)    295168      ['max_pooling2d_57[0][0]']       \n",
      "                                                                                                  \n",
      " batch_normalization_305 (Batch  (None, 8, 8, 256)   1024        ['conv2d_262[0][0]']             \n",
      " Normalization)                                                                                   \n",
      "                                                                                                  \n",
      " activation_305 (Activation)    (None, 8, 8, 256)    0           ['batch_normalization_305[0][0]']\n",
      "                                                                                                  \n",
      " conv2d_263 (Conv2D)            (None, 8, 8, 256)    590080      ['activation_305[0][0]']         \n",
      "                                                                                                  \n",
      " batch_normalization_306 (Batch  (None, 8, 8, 256)   1024        ['conv2d_263[0][0]']             \n",
      " Normalization)                                                                                   \n",
      "                                                                                                  \n",
      " activation_306 (Activation)    (None, 8, 8, 256)    0           ['batch_normalization_306[0][0]']\n",
      "                                                                                                  \n",
      " max_pooling2d_58 (MaxPooling2D  (None, 4, 4, 256)   0           ['activation_306[0][0]']         \n",
      " )                                                                                                \n",
      "                                                                                                  \n",
      " conv2d_264 (Conv2D)            (None, 4, 4, 512)    1180160     ['max_pooling2d_58[0][0]']       \n",
      "                                                                                                  \n",
      " batch_normalization_307 (Batch  (None, 4, 4, 512)   2048        ['conv2d_264[0][0]']             \n",
      " Normalization)                                                                                   \n",
      "                                                                                                  \n",
      " activation_307 (Activation)    (None, 4, 4, 512)    0           ['batch_normalization_307[0][0]']\n",
      "                                                                                                  \n",
      " conv2d_265 (Conv2D)            (None, 4, 4, 512)    2359808     ['activation_307[0][0]']         \n",
      "                                                                                                  \n",
      " batch_normalization_308 (Batch  (None, 4, 4, 512)   2048        ['conv2d_265[0][0]']             \n"
     ]
    },
    {
     "name": "stdout",
     "output_type": "stream",
     "text": [
      " Normalization)                                                                                   \n",
      "                                                                                                  \n",
      " activation_308 (Activation)    (None, 4, 4, 512)    0           ['batch_normalization_308[0][0]']\n",
      "                                                                                                  \n",
      " max_pooling2d_59 (MaxPooling2D  (None, 2, 2, 512)   0           ['activation_308[0][0]']         \n",
      " )                                                                                                \n",
      "                                                                                                  \n",
      " conv2d_266 (Conv2D)            (None, 2, 2, 1024)   4719616     ['max_pooling2d_59[0][0]']       \n",
      "                                                                                                  \n",
      " batch_normalization_309 (Batch  (None, 2, 2, 1024)  4096        ['conv2d_266[0][0]']             \n",
      " Normalization)                                                                                   \n",
      "                                                                                                  \n",
      " activation_309 (Activation)    (None, 2, 2, 1024)   0           ['batch_normalization_309[0][0]']\n",
      "                                                                                                  \n",
      " conv2d_267 (Conv2D)            (None, 2, 2, 1024)   9438208     ['activation_309[0][0]']         \n",
      "                                                                                                  \n",
      " batch_normalization_310 (Batch  (None, 2, 2, 1024)  4096        ['conv2d_267[0][0]']             \n",
      " Normalization)                                                                                   \n",
      "                                                                                                  \n",
      " activation_310 (Activation)    (None, 2, 2, 1024)   0           ['batch_normalization_310[0][0]']\n",
      "                                                                                                  \n",
      " conv2d_transpose_55 (Conv2DTra  (None, 4, 4, 512)   2097664     ['activation_310[0][0]']         \n",
      " nspose)                                                                                          \n",
      "                                                                                                  \n",
      " concatenate_55 (Concatenate)   (None, 4, 4, 1024)   0           ['activation_308[0][0]',         \n",
      "                                                                  'conv2d_transpose_55[0][0]']    \n",
      "                                                                                                  \n",
      " batch_normalization_311 (Batch  (None, 4, 4, 1024)  4096        ['concatenate_55[0][0]']         \n",
      " Normalization)                                                                                   \n",
      "                                                                                                  \n",
      " activation_311 (Activation)    (None, 4, 4, 1024)   0           ['batch_normalization_311[0][0]']\n",
      "                                                                                                  \n",
      " conv2d_268 (Conv2D)            (None, 4, 4, 512)    4719104     ['activation_311[0][0]']         \n",
      "                                                                                                  \n",
      " batch_normalization_312 (Batch  (None, 4, 4, 512)   2048        ['conv2d_268[0][0]']             \n",
      " Normalization)                                                                                   \n",
      "                                                                                                  \n",
      " activation_312 (Activation)    (None, 4, 4, 512)    0           ['batch_normalization_312[0][0]']\n",
      "                                                                                                  \n",
      " conv2d_269 (Conv2D)            (None, 4, 4, 512)    2359808     ['activation_312[0][0]']         \n",
      "                                                                                                  \n",
      " batch_normalization_313 (Batch  (None, 4, 4, 512)   2048        ['conv2d_269[0][0]']             \n",
      " Normalization)                                                                                   \n",
      "                                                                                                  \n",
      " activation_313 (Activation)    (None, 4, 4, 512)    0           ['batch_normalization_313[0][0]']\n",
      "                                                                                                  \n",
      " conv2d_transpose_56 (Conv2DTra  (None, 8, 8, 256)   524544      ['activation_313[0][0]']         \n",
      " nspose)                                                                                          \n",
      "                                                                                                  \n",
      " concatenate_56 (Concatenate)   (None, 8, 8, 512)    0           ['activation_306[0][0]',         \n",
      "                                                                  'conv2d_transpose_56[0][0]']    \n",
      "                                                                                                  \n",
      " batch_normalization_314 (Batch  (None, 8, 8, 512)   2048        ['concatenate_56[0][0]']         \n",
      " Normalization)                                                                                   \n",
      "                                                                                                  \n",
      " activation_314 (Activation)    (None, 8, 8, 512)    0           ['batch_normalization_314[0][0]']\n",
      "                                                                                                  \n",
      " conv2d_270 (Conv2D)            (None, 8, 8, 256)    1179904     ['activation_314[0][0]']         \n",
      "                                                                                                  \n",
      " batch_normalization_315 (Batch  (None, 8, 8, 256)   1024        ['conv2d_270[0][0]']             \n",
      " Normalization)                                                                                   \n",
      "                                                                                                  \n",
      " activation_315 (Activation)    (None, 8, 8, 256)    0           ['batch_normalization_315[0][0]']\n",
      "                                                                                                  \n",
      " conv2d_271 (Conv2D)            (None, 8, 8, 256)    590080      ['activation_315[0][0]']         \n",
      "                                                                                                  \n",
      " batch_normalization_316 (Batch  (None, 8, 8, 256)   1024        ['conv2d_271[0][0]']             \n",
      " Normalization)                                                                                   \n",
      "                                                                                                  \n",
      " activation_316 (Activation)    (None, 8, 8, 256)    0           ['batch_normalization_316[0][0]']\n",
      "                                                                                                  \n",
      " conv2d_transpose_57 (Conv2DTra  (None, 16, 16, 128)  131200     ['activation_316[0][0]']         \n",
      " nspose)                                                                                          \n",
      "                                                                                                  \n",
      " concatenate_57 (Concatenate)   (None, 16, 16, 256)  0           ['activation_304[0][0]',         \n",
      "                                                                  'conv2d_transpose_57[0][0]']    \n",
      "                                                                                                  \n",
      " batch_normalization_317 (Batch  (None, 16, 16, 256)  1024       ['concatenate_57[0][0]']         \n",
      " Normalization)                                                                                   \n",
      "                                                                                                  \n",
      " activation_317 (Activation)    (None, 16, 16, 256)  0           ['batch_normalization_317[0][0]']\n",
      "                                                                                                  \n",
      " conv2d_272 (Conv2D)            (None, 16, 16, 128)  295040      ['activation_317[0][0]']         \n"
     ]
    },
    {
     "name": "stdout",
     "output_type": "stream",
     "text": [
      "                                                                                                  \n",
      " batch_normalization_318 (Batch  (None, 16, 16, 128)  512        ['conv2d_272[0][0]']             \n",
      " Normalization)                                                                                   \n",
      "                                                                                                  \n",
      " activation_318 (Activation)    (None, 16, 16, 128)  0           ['batch_normalization_318[0][0]']\n",
      "                                                                                                  \n",
      " conv2d_273 (Conv2D)            (None, 16, 16, 128)  147584      ['activation_318[0][0]']         \n",
      "                                                                                                  \n",
      " batch_normalization_319 (Batch  (None, 16, 16, 128)  512        ['conv2d_273[0][0]']             \n",
      " Normalization)                                                                                   \n",
      "                                                                                                  \n",
      " activation_319 (Activation)    (None, 16, 16, 128)  0           ['batch_normalization_319[0][0]']\n",
      "                                                                                                  \n",
      " conv2d_transpose_58 (Conv2DTra  (None, 32, 32, 64)  32832       ['activation_319[0][0]']         \n",
      " nspose)                                                                                          \n",
      "                                                                                                  \n",
      " concatenate_58 (Concatenate)   (None, 32, 32, 128)  0           ['activation_302[0][0]',         \n",
      "                                                                  'conv2d_transpose_58[0][0]']    \n",
      "                                                                                                  \n",
      " batch_normalization_320 (Batch  (None, 32, 32, 128)  512        ['concatenate_58[0][0]']         \n",
      " Normalization)                                                                                   \n",
      "                                                                                                  \n",
      " activation_320 (Activation)    (None, 32, 32, 128)  0           ['batch_normalization_320[0][0]']\n",
      "                                                                                                  \n",
      " conv2d_274 (Conv2D)            (None, 32, 32, 64)   73792       ['activation_320[0][0]']         \n",
      "                                                                                                  \n",
      " batch_normalization_321 (Batch  (None, 32, 32, 64)  256         ['conv2d_274[0][0]']             \n",
      " Normalization)                                                                                   \n",
      "                                                                                                  \n",
      " activation_321 (Activation)    (None, 32, 32, 64)   0           ['batch_normalization_321[0][0]']\n",
      "                                                                                                  \n",
      " conv2d_275 (Conv2D)            (None, 32, 32, 64)   36928       ['activation_321[0][0]']         \n",
      "                                                                                                  \n",
      " batch_normalization_322 (Batch  (None, 32, 32, 64)  256         ['conv2d_275[0][0]']             \n",
      " Normalization)                                                                                   \n",
      "                                                                                                  \n",
      " activation_322 (Activation)    (None, 32, 32, 64)   0           ['batch_normalization_322[0][0]']\n",
      "                                                                                                  \n",
      " conv2d_transpose_59 (Conv2DTra  (None, 64, 64, 32)  8224        ['activation_322[0][0]']         \n",
      " nspose)                                                                                          \n",
      "                                                                                                  \n",
      " concatenate_59 (Concatenate)   (None, 64, 64, 64)   0           ['activation_300[0][0]',         \n",
      "                                                                  'conv2d_transpose_59[0][0]']    \n",
      "                                                                                                  \n",
      " batch_normalization_323 (Batch  (None, 64, 64, 64)  256         ['concatenate_59[0][0]']         \n",
      " Normalization)                                                                                   \n",
      "                                                                                                  \n",
      " activation_323 (Activation)    (None, 64, 64, 64)   0           ['batch_normalization_323[0][0]']\n",
      "                                                                                                  \n",
      " conv2d_276 (Conv2D)            (None, 64, 64, 32)   18464       ['activation_323[0][0]']         \n",
      "                                                                                                  \n",
      " batch_normalization_324 (Batch  (None, 64, 64, 32)  128         ['conv2d_276[0][0]']             \n",
      " Normalization)                                                                                   \n",
      "                                                                                                  \n",
      " activation_324 (Activation)    (None, 64, 64, 32)   0           ['batch_normalization_324[0][0]']\n",
      "                                                                                                  \n",
      " conv2d_277 (Conv2D)            (None, 64, 64, 32)   9248        ['activation_324[0][0]']         \n",
      "                                                                                                  \n",
      " batch_normalization_325 (Batch  (None, 64, 64, 32)  128         ['conv2d_277[0][0]']             \n",
      " Normalization)                                                                                   \n",
      "                                                                                                  \n",
      " activation_325 (Activation)    (None, 64, 64, 32)   0           ['batch_normalization_325[0][0]']\n",
      "                                                                                                  \n",
      " conv2d_278 (Conv2D)            (None, 64, 64, 1)    33          ['activation_325[0][0]']         \n",
      "                                                                                                  \n",
      "==================================================================================================\n",
      "Total params: 31,127,073\n",
      "Trainable params: 31,111,073\n",
      "Non-trainable params: 16,000\n",
      "__________________________________________________________________________________________________\n"
     ]
    }
   ],
   "source": [
    "loaded_model.summary()"
   ]
  },
  {
   "cell_type": "markdown",
   "id": "b5169ae9",
   "metadata": {},
   "source": [
    "[Volver al contenido](#Contenido)"
   ]
  },
  {
   "cell_type": "markdown",
   "id": "72cf9131",
   "metadata": {},
   "source": [
    "---"
   ]
  },
  {
   "cell_type": "markdown",
   "id": "7df1660b",
   "metadata": {},
   "source": [
    "## 5. Transformar el modelo a GEE"
   ]
  },
  {
   "cell_type": "markdown",
   "id": "1988aefa",
   "metadata": {},
   "source": [
    "Hasta ahora, todo el procesamiento realizado y el entrenamiento, así como las predicciones se han realizado de manera local (en nuestra computadora). Si deseamos aplicar el modelo en regiones amplias o a escenas/imágenes completas lo recomendable es utilizar Google Earth Engine.  \n",
    "Para realizar esta operación requerimos de acceso a un bucket de Google Cloud Storage, así como saldo disponible para la subida del modelo \"eeificado\" al módulo **AI Platform** de Google Cloud, desde donde se desplegará el modelo para realizar las predicciones.  \n",
    "En primer lugar definiremos algunas rutas y guardaremos nuestro modelo en el Google Cloud Platform."
   ]
  },
  {
   "cell_type": "code",
   "execution_count": 28,
   "id": "753e8cf6",
   "metadata": {},
   "outputs": [
    {
     "name": "stdout",
     "output_type": "stream",
     "text": [
      "logging_model\n",
      "colaboraton-logging\n",
      "logging_model/eeified\n",
      "deeplearning-306718\n"
     ]
    }
   ],
   "source": [
    "bucket = 'colaboraton-logging'\n",
    "eeified_dir = '{}/eeified'.format(modelDir)\n",
    "project = 'deeplearning-306718'\n",
    "\n",
    "print(modelDir)\n",
    "print(bucket)\n",
    "print(eeified_dir)\n",
    "print(project)"
   ]
  },
  {
   "attachments": {},
   "cell_type": "markdown",
   "id": "05ec5b25",
   "metadata": {},
   "source": [
    "Al igual que el código anterior importaremos Earth Engine"
   ]
  },
  {
   "cell_type": "code",
   "execution_count": null,
   "id": "1f95cc3c",
   "metadata": {},
   "outputs": [],
   "source": [
    "import ee\n",
    "ee.Authenticate()\n",
    "ee.Initialize()"
   ]
  },
  {
   "cell_type": "code",
   "execution_count": 29,
   "id": "d378a77c",
   "metadata": {},
   "outputs": [
    {
     "name": "stdout",
     "output_type": "stream",
     "text": [
      "Successfully saved project id\n"
     ]
    }
   ],
   "source": [
    "!earthengine set_project {project}"
   ]
  },
  {
   "cell_type": "markdown",
   "id": "d3c218d4",
   "metadata": {},
   "source": [
    "Utilizando el siguiente comando de gsutil, copiaremos el contenido entero de la carpeta donde está almacenado el modelo al bucket definido previamente."
   ]
  },
  {
   "cell_type": "code",
   "execution_count": 426,
   "id": "de15f193",
   "metadata": {
    "scrolled": true
   },
   "outputs": [
    {
     "name": "stderr",
     "output_type": "stream",
     "text": [
      "Copying file://logging_model\\variables\\variables.index [Content-Type=application/octet-stream]...\n",
      "/ [0/4 files][    0.0 B/358.4 MiB]   0% Done                                    \n",
      "Copying file://logging_model\\keras_metadata.pb [Content-Type=application/octet-stream]...\n",
      "/ [0/4 files][    0.0 B/358.4 MiB]   0% Done                                    \n",
      "Copying file://logging_model\\saved_model.pb [Content-Type=application/octet-stream]...\n",
      "/ [0/4 files][    0.0 B/358.4 MiB]   0% Done                                    \n",
      "Copying file://logging_model\\variables\\variables.data-00000-of-00001 [Content-Type=application/octet-stream]...\n",
      "==> NOTE: You are uploading one or more large file(s), which would run\n",
      "significantly faster if you enable parallel composite uploads. This\n",
      "feature can be enabled by editing the\n",
      "\"parallel_composite_upload_threshold\" value in your .boto\n",
      "configuration file. However, note that if you do this large files will\n",
      "be uploaded as `composite objects\n",
      "<https://cloud.google.com/storage/docs/composite-objects>`_,which\n",
      "means that any user who downloads such objects will need to have a\n",
      "compiled crcmod installed (see \"gsutil help crcmod\"). This is because\n",
      "without a compiled crcmod, computing checksums on composite objects is\n",
      "so slow that gsutil disables downloads of composite objects.\n",
      "\n",
      "/ [0/4 files][    0.0 B/358.4 MiB]   0% Done                                    \n",
      "/ [1/4 files][  2.1 MiB/358.4 MiB]   0% Done                                    \n",
      "-\n",
      "- [2/4 files][  4.3 MiB/358.4 MiB]   1% Done                                    \n",
      "- [3/4 files][  5.3 MiB/358.4 MiB]   1% Done                                    \n",
      "\\\n",
      "|\n",
      "| [3/4 files][ 38.4 MiB/358.4 MiB]  10% Done                                    \n",
      "/\n",
      "-\n",
      "- [3/4 files][ 76.8 MiB/358.4 MiB]  21% Done                                    \n",
      "\\\n",
      "\\ [3/4 files][111.2 MiB/358.4 MiB]  31% Done                                    \n",
      "|\n",
      "/\n",
      "/ [3/4 files][146.2 MiB/358.4 MiB]  40% Done                                    \n",
      "-\n",
      "\\\n",
      "\\ [3/4 files][182.4 MiB/358.4 MiB]  50% Done                                    \n",
      "|\n",
      "| [3/4 files][218.7 MiB/358.4 MiB]  61% Done                                    \n",
      "/\n",
      "-\n",
      "- [3/4 files][255.6 MiB/358.4 MiB]  71% Done                                    \n",
      "\\\n",
      "|\n",
      "| [3/4 files][290.6 MiB/358.4 MiB]  81% Done                                    \n",
      "/\n",
      "/ [3/4 files][328.1 MiB/358.4 MiB]  91% Done                                    \n",
      "-\n",
      "\\\n",
      "\\ [4/4 files][358.4 MiB/358.4 MiB] 100% Done  29.2 MiB/s ETA 00:00:00           \n",
      "|\n",
      "\n",
      "Operation completed over 4 objects/358.4 MiB.                                    \n"
     ]
    }
   ],
   "source": [
    "!gsutil -m cp -r {modelDir} gs://{bucket + '/' + modelDir}"
   ]
  },
  {
   "cell_type": "markdown",
   "id": "1c41e99d",
   "metadata": {},
   "source": [
    "Lo siguiente es importar un módulo de tensorflow, que transformará el modelo a uno apto para ser utilizado en Google Earth Engine."
   ]
  },
  {
   "cell_type": "code",
   "execution_count": 427,
   "id": "1b35824e",
   "metadata": {},
   "outputs": [
    {
     "name": "stdout",
     "output_type": "stream",
     "text": [
      "'{\"serving_default_input_14:0\":\"array\"}'\n",
      "'{\"StatefulPartitionedCall:0\":\"class\"}'\n"
     ]
    }
   ],
   "source": [
    "from tensorflow.python.tools import saved_model_utils\n",
    "\n",
    "meta_graph_def = saved_model_utils.get_meta_graph_def(modelDir, 'serve')\n",
    "inputs = meta_graph_def.signature_def['serving_default'].inputs\n",
    "outputs = meta_graph_def.signature_def['serving_default'].outputs\n",
    "\n",
    "input_name = None\n",
    "for k,v in inputs.items():\n",
    "    input_name = v.name\n",
    "    break\n",
    "\n",
    "output_name = None\n",
    "for k,v in outputs.items():\n",
    "    output_name = v.name\n",
    "    break\n",
    "\n",
    "import json\n",
    "input_dict = \"'\" + json.dumps({input_name:\"array\"}, separators=(',', ':')) + \"'\"\n",
    "output_dict = \"'\" + json.dumps({output_name:\"class\"}, separators=(',', ':')) + \"'\"\n",
    "\n",
    "print(input_dict)\n",
    "print(output_dict)"
   ]
  },
  {
   "cell_type": "markdown",
   "id": "0ea75003",
   "metadata": {},
   "source": [
    "Por último utilizaremos el comando `model prepare` para preparar el modelo."
   ]
  },
  {
   "cell_type": "code",
   "execution_count": 429,
   "id": "1766e788",
   "metadata": {},
   "outputs": [
    {
     "name": "stderr",
     "output_type": "stream",
     "text": [
      "Traceback (most recent call last):\n",
      "  File \"C:\\Users\\LENOVO\\anaconda3\\envs\\ai\\Scripts\\earthengine-script.py\", line 9, in <module>\n",
      "    sys.exit(main())\n",
      "  File \"C:\\Users\\LENOVO\\anaconda3\\envs\\ai\\lib\\site-packages\\ee\\cli\\eecli.py\", line 80, in main\n",
      "    tf_module.app.run(_run_command, argv=sys.argv[:1])\n",
      "  File \"C:\\Users\\LENOVO\\anaconda3\\envs\\ai\\lib\\site-packages\\tensorflow\\python\\platform\\app.py\", line 36, in run\n",
      "    _run(main=main, argv=argv, flags_parser=_parse_flags_tolerate_undef)\n",
      "  File \"C:\\Users\\LENOVO\\anaconda3\\envs\\ai\\lib\\site-packages\\absl\\app.py\", line 312, in run\n",
      "    _run_main(main, args)\n",
      "  File \"C:\\Users\\LENOVO\\anaconda3\\envs\\ai\\lib\\site-packages\\absl\\app.py\", line 258, in _run_main\n",
      "    sys.exit(main(argv))\n",
      "  File \"C:\\Users\\LENOVO\\anaconda3\\envs\\ai\\lib\\site-packages\\ee\\cli\\eecli.py\", line 61, in _run_command\n",
      "    dispatcher.run(args, config)\n",
      "  File \"C:\\Users\\LENOVO\\anaconda3\\envs\\ai\\lib\\site-packages\\ee\\cli\\commands.py\", line 355, in run\n",
      "    self.command_dict[vars(args)[self.dest]].run(args, config)\n",
      "  File \"C:\\Users\\LENOVO\\anaconda3\\envs\\ai\\lib\\site-packages\\ee\\cli\\commands.py\", line 355, in run\n",
      "    self.command_dict[vars(args)[self.dest]].run(args, config)\n",
      "  File \"C:\\Users\\LENOVO\\anaconda3\\envs\\ai\\lib\\site-packages\\ee\\cli\\commands.py\", line 1807, in run\n",
      "    new_model_dir = PrepareModelCommand._make_rpc_friendly(\n",
      "  File \"C:\\Users\\LENOVO\\anaconda3\\envs\\ai\\lib\\site-packages\\ee\\cli\\commands.py\", line 1736, in _make_rpc_friendly\n",
      "    in_op_types = PrepareModelCommand._get_input_tensor_spec(\n",
      "  File \"C:\\Users\\LENOVO\\anaconda3\\envs\\ai\\lib\\site-packages\\ee\\cli\\commands.py\", line 1711, in _get_input_tensor_spec\n",
      "    raise ValueError(\n",
      "ValueError: Specified input ops were missing from graph: [\"'{serving_default_input_14:0:array}'\"].\n"
     ]
    }
   ],
   "source": [
    "!earthengine model prepare --source_dir={modelDir} --dest_dir={eeified_dir} --input={input_dict} --output={output_dict}"
   ]
  },
  {
   "cell_type": "markdown",
   "id": "bc0385b9",
   "metadata": {},
   "source": [
    "En este paso veremos que obtenemos un error, hasta ahora **NO** sabemos la causa del error, creemos que se debe a la diferencia de sistemas operativos. En Google Colab esta línea de código funciona perfectamente.  \n",
    "El siguiente paso es subir al Google Cloud Storage nuestra carpeta llamada `eeified`. La cual contiene al modelo optimizado para su funcionamiento en la nube."
   ]
  },
  {
   "cell_type": "code",
   "execution_count": 35,
   "id": "c22abb89",
   "metadata": {},
   "outputs": [
    {
     "name": "stderr",
     "output_type": "stream",
     "text": [
      "Copying file://logging_model\\eeified\\variables\\variables.index [Content-Type=application/octet-stream]...\n",
      "/ [0/2 files][    0.0 B/  1.7 MiB]   0% Done                                    \n",
      "Copying file://logging_model\\eeified\\saved_model.pb [Content-Type=application/octet-stream]...\n",
      "/ [0/2 files][    0.0 B/  1.7 MiB]   0% Done                                    \n",
      "/ [1/2 files][ 26.2 KiB/  1.7 MiB]   1% Done                                    \n",
      "-\n",
      "\\\n",
      "\\ [2/2 files][  1.7 MiB/  1.7 MiB] 100% Done                                    \n",
      "|\n",
      "\n",
      "Operation completed over 2 objects/1.7 MiB.                                      \n"
     ]
    }
   ],
   "source": [
    "!gsutil -m cp -r {eeified_dir} {'gs://'+ bucket + '/' + modelDir}"
   ]
  },
  {
   "cell_type": "markdown",
   "id": "4c3af9ee",
   "metadata": {},
   "source": [
    "Por último, dentro del módulo de AI-Platform de Google Cloud Storage crearemos un repositorio donde se almacenará nuestro modelo."
   ]
  },
  {
   "cell_type": "code",
   "execution_count": 36,
   "id": "f3d319cd",
   "metadata": {
    "scrolled": true
   },
   "outputs": [
    {
     "name": "stdout",
     "output_type": "stream",
     "text": [
      "Creating version: v1\n"
     ]
    },
    {
     "name": "stderr",
     "output_type": "stream",
     "text": [
      "Using endpoint [https://us-central1-ml.googleapis.com/]\n",
      "Created ai platform model [projects/deeplearning-306718/models/colaboraton_logging].\n"
     ]
    },
    {
     "name": "stdout",
     "output_type": "stream",
     "text": [
      "^C\n"
     ]
    }
   ],
   "source": [
    "model_name = 'colaboraton_logging'\n",
    "version_name = 'v1'\n",
    "print('Creating version: ' + version_name)\n",
    "\n",
    "!gcloud ai-platform models create {model_name} --project {project}"
   ]
  },
  {
   "cell_type": "markdown",
   "id": "f2fbd599",
   "metadata": {},
   "source": [
    "Subimos el modelo al repositorio recientemente creado."
   ]
  },
  {
   "cell_type": "code",
   "execution_count": 37,
   "id": "0daf04bb",
   "metadata": {},
   "outputs": [
    {
     "name": "stderr",
     "output_type": "stream",
     "text": [
      "Using endpoint [https://us-central1-ml.googleapis.com/]\n",
      "ERROR: (gcloud.ai-platform.versions.create) ALREADY_EXISTS: Field: version.name Error: A version with the same name already exists.\n",
      "- '@type': type.googleapis.com/google.rpc.BadRequest\n",
      "  fieldViolations:\n",
      "  - description: A version with the same name already exists.\n",
      "    field: version.name\n",
      "Using endpoint [https://us-central1-ml.googleapis.com/]\n",
      "Creating version (this might take a few minutes)......\n",
      "............................................................................................................................................................................................................................................................................................................................................................................................................................................................................................................................................................................................................................................................................................................................................................................................................................................................................................................................................................................................................................................................................................................................................................................................................................................................................................................................................................................................................................................................................................................................................................................................................................................................................................................................................................................................................................................................................................................................................................................................................................................................................................................................................................................................................................................................................................................................................................................................................................................................................................................................................................................................................................................................................................................................................................................................................................................................................................................................................................................................................................................................................................................................................................................................................................................................................................................................................................................................................................................................................................................................................................................................................................................................................................................................................................................................done.\n"
     ]
    }
   ],
   "source": [
    "!gcloud ai-platform versions create {version_name} \\\n",
    "  --project {project} \\\n",
    "  --model {model_name} \\\n",
    "  --origin {'gs://'+ bucket + '/' + eeified_dir} \\\n",
    "  --runtime-version=2.9 \\\n",
    "  --framework \"TENSORFLOW\" \\\n",
    "  --python-version=3.7"
   ]
  },
  {
   "cell_type": "markdown",
   "id": "b99cdf53",
   "metadata": {},
   "source": [
    "[Volver al contenido](#Contenido)"
   ]
  },
  {
   "cell_type": "markdown",
   "id": "e365b54c",
   "metadata": {},
   "source": [
    "---"
   ]
  }
 ],
 "metadata": {
  "kernelspec": {
   "display_name": "Python 3 (ipykernel)",
   "language": "python",
   "name": "python3"
  },
  "language_info": {
   "codemirror_mode": {
    "name": "ipython",
    "version": 3
   },
   "file_extension": ".py",
   "mimetype": "text/x-python",
   "name": "python",
   "nbconvert_exporter": "python",
   "pygments_lexer": "ipython3",
   "version": "3.10.8"
  }
 },
 "nbformat": 4,
 "nbformat_minor": 5
}
